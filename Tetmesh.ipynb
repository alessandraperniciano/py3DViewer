{
 "cells": [
  {
   "cell_type": "code",
   "execution_count": 1,
   "metadata": {},
   "outputs": [],
   "source": [
    "from AbstractMesh import AbstractMesh\n",
    "from Visualization import Viewer\n",
    "import numpy as np\n",
    "import time\n",
    "import utils\n",
    "from metrics import tet_scaled_jacobian, tet_volume\n",
    "\n",
    "class Tetmesh(AbstractMesh):\n",
    "    \n",
    "    def __init__(self, vertices = None, tets = None, labels = None):\n",
    "        \n",
    "        self.tets             = None #npArray (Nx4) \n",
    "        self.labels       = None #npArray (Nx1) \n",
    "        self.tet2tet          = None #npArray (Nx4?) \n",
    "        self.face2tet         = None #npArray (Nx2?)\n",
    "        self.tet2face         = None #npArray (Nx4)\n",
    "        self.vtx2tet          = None #npArray (NxM)\n",
    "        self.__internal_tets = None\n",
    "        \n",
    "        super(Tetmesh, self).__init__()\n",
    "        \n",
    "        if vertices and tets:\n",
    "            \n",
    "            self.vertices = np.array(vertices) \n",
    "            self.tets = np.array(tets)\n",
    "            \n",
    "            if labels:\n",
    "                self.labels = np.array(labels)\n",
    "            \n",
    "            self.__load_operations()\n",
    "         \n",
    "    \n",
    "    # ==================== METHODS ==================== #\n",
    "    \n",
    "    def show(self, width = 700, height = 700, mesh_color = None):\n",
    "        Viewer(self, UI=False, mesh_color=mesh_color).show(width = width, height = height)\n",
    "    \n",
    "    \n",
    "    @property\n",
    "    def num_faces(self):\n",
    "        \n",
    "        return self.faces.shape[0]\n",
    "\n",
    "    @property\n",
    "    def num_tets(self):\n",
    "        \n",
    "        return self.tets.shape[0]\n",
    "\n",
    "    def add_tet(self, tet_id0, tet_id1, tet_id2, tet_id3):\n",
    "        \n",
    "        self.add_tets([tet_id0, tet_id1, tet_id2, tet_id3])\n",
    "        \n",
    "        \n",
    "    def add_tets(self, new_tets):\n",
    "            \n",
    "        new_tets = np.array(new_tets)\n",
    "        new_tets.shape = (-1,3)\n",
    "                \n",
    "        if new_tets[(new_tets[:,0] > self.num_vertices) | \n",
    "                     (new_tets[:,1] > self.num_vertices) | \n",
    "                     (new_tets[:,2] > self.num_vertices) | \n",
    "                     (new_tets[:,3] > self.num_vertices)].shape[0] > self.num_vertices:\n",
    "            raise Exception('The ID of a vertex must be less than the number of vertices')\n",
    "\n",
    "        self.tets = np.concatenate([self.tets, new_tets])\n",
    "        self.__load_operations()\n",
    "        \n",
    "    \n",
    "    def remove_tet(self, tet_id):\n",
    "        \n",
    "        self.remove_tets([tet_id])\n",
    "        \n",
    "        \n",
    "    def remove_tets(self, tet_ids):\n",
    "        \n",
    "        tet_ids = np.array(tet_ids)\n",
    "        mask = np.ones(self.num_tets)\n",
    "        mask[tet_ids] = 0\n",
    "        mask = mask.astype(np.bool)\n",
    "        \n",
    "        self.tets = self.tets[mask]\n",
    "        self.__load_operations()\n",
    "        \n",
    "    \n",
    "    def remove_vertex(self,vtx_id):\n",
    "        \n",
    "        self.remove_vertices([vtx_id])\n",
    "    \n",
    "    \n",
    "    def remove_vertices(self, vtx_ids):\n",
    "        \n",
    "        vtx_ids = np.array(vtx_ids)\n",
    "        \n",
    "        for v_id in vtx_ids:\n",
    "                        \n",
    "            self.vertices = np.delete(self.vertices, v_id, 0)\n",
    "            self.tets = self.tets[(self.tets[:,0] != v_id) & \n",
    "                                    (self.tets[:,1] != v_id) & \n",
    "                                    (self.tets[:,2] != v_id) & \n",
    "                                    (self.tets[:,3] != v_id)]\n",
    "            \n",
    "            self.tets[(self.tets[:,0] > v_id)] -= np.array([1, 0, 0, 0])\n",
    "            self.tets[(self.tets[:,1] > v_id)] -= np.array([0, 1, 0, 0])\n",
    "            self.tets[(self.tets[:,2] > v_id)] -= np.array([0, 0, 1, 0])\n",
    "            self.tets[(self.tets[:,3] > v_id)] -= np.array([0, 0, 0, 1])\n",
    "            \n",
    "            vtx_ids[vtx_ids > v_id] -= 1;\n",
    "            \n",
    "        self.__load_operations()\n",
    "        \n",
    "        \n",
    "    def __load_operations(self):\n",
    "        \n",
    "        self.__compute_faces()\n",
    "        self.__compute_adjacencies()\n",
    "        self._AbstractMesh__update_bounding_box()\n",
    "        self.set_cut(self.bbox[0,0], self.bbox[1,0], \n",
    "                     self.bbox[0,1], self.bbox[1,1], \n",
    "                     self.bbox[0,2], self.bbox[1,2])\n",
    "        self.__compute_metrics()\n",
    "    \n",
    "    def __compute_faces(self):\n",
    "        self.faces = np.c_[self.tets[:,0], self.tets[:,2], self.tets[:, 1], \n",
    "                           self.tets[:,0], self.tets[:,1], self.tets[:,3],\n",
    "                           self.tets[:,1], self.tets[:,2], self.tets[:,3],\n",
    "                           self.tets[:,0], self.tets[:,3], self.tets[:,2]].reshape(-1,3)\n",
    "    \n",
    "    def __compute_adjacencies(self):\n",
    "        \n",
    "        map_ = dict()\n",
    "        adjs = np.zeros((self.num_tets, 4), dtype=np.int)-1\n",
    "        vtx2tet = [[] for i in range(self.num_vertices)]\n",
    "        tets_idx = np.repeat(np.array(range(self.num_tets)), 4)\n",
    "        self.tet2face = np.array(range(self.num_faces)).reshape(-1,4)\n",
    "        \n",
    "        for f, t in zip(self.faces, tets_idx):\n",
    "            \n",
    "            vtx2tet[f[0]].append(t)\n",
    "            vtx2tet[f[1]].append(t)\n",
    "            vtx2tet[f[2]].append(t)\n",
    "            \n",
    "            f =  (f[0], f[1], f[2])\n",
    "            f1 = (f[2], f[1], f[0])\n",
    "            f2 = (f[0], f[2], f[1])\n",
    "            f3 = (f[1], f[0], f[2])\n",
    "\n",
    "            try:\n",
    "                tmp = map_[f]\n",
    "            except KeyError:\n",
    "                tmp = None\n",
    "\n",
    "            if tmp is None:\n",
    "                map_[f1] = t\n",
    "                map_[f2] = t\n",
    "                map_[f3] = t\n",
    "            else:\n",
    "                \n",
    "                idx_to_append1 = np.where(adjs[t] == -1)[0][0]\n",
    "                idx_to_append2 = np.where(adjs[map_[f]] == -1)[0][0]\n",
    "                adjs[t][idx_to_append1] = map_[f]\n",
    "                adjs[map_[f]][idx_to_append2] = t\n",
    "        \n",
    "        self.tet2tet = adjs#np.array([np.array(a) for a in adjs])\n",
    "        self.vtx2tet = np.array([np.unique(np.array(a)) for a in vtx2tet])\n",
    "        \n",
    "        \n",
    "    def load_from_file(self, filename):\n",
    "        \n",
    "        ext = filename.split('.')[-1]\n",
    "        \n",
    "        start = time()\n",
    "        if ext == 'mesh':\n",
    "            self.vertices, self.tets, self.labels = utils.read_mesh(filename)\n",
    "        else:\n",
    "            raise Exception(\"File Extension unknown\")\n",
    "        print(f\"It took {time()-start} to read file\")\n",
    "    \n",
    "        self.__load_operations()\n",
    "        \n",
    "        return self\n",
    "    \n",
    "    def save_file(self, filename):\n",
    "        \n",
    "        ext = filename.split('.')[-1]\n",
    "        \n",
    "        if ext == 'mesh':\n",
    "            utils.save_mesh(self, filename)\n",
    "        \n",
    "    \n",
    "    def __compute_metrics(self): \n",
    "        self.simplex_metrics['scaled_jacobian'] = tet_scaled_jacobian(self.vertices, self.tets)\n",
    "        self.simplex_metrics['volume'] = tet_volume(self.vertices, self.tets)\n",
    "        \n",
    "    @property\n",
    "    def internals(self):\n",
    "        \n",
    "        if self.__internal_tets is None:\n",
    "            self.__internal_tets = np.all(a.tet2tet != -1, axis = 1)\n",
    "        \n",
    "        return self.__internal_tets\n",
    "        \n",
    "    \n",
    "    def boundary(self, flip_x = False, flip_y = False, flip_z = False):\n",
    "        \n",
    "        min_x = self.cut['min_x']\n",
    "        max_x = self.cut['max_x']\n",
    "        min_y = self.cut['min_y']\n",
    "        max_y = self.cut['max_y']\n",
    "        min_z = self.cut['min_z']\n",
    "        max_z = self.cut['max_z']\n",
    "            \n",
    "        x_range = np.logical_xor(flip_x,((self.simplex_centroids[:,0] >= min_x) & (self.simplex_centroids[:,0] <= max_x)))\n",
    "        y_range = np.logical_xor(flip_y,((self.simplex_centroids[:,1] >= min_y) & (self.simplex_centroids[:,1] <= max_y)))\n",
    "        z_range = np.logical_xor(flip_z,((self.simplex_centroids[:,2] >= min_z) & (self.simplex_centroids[:,2] <= max_z)))\n",
    "                \n",
    "        \n",
    "        #naive\n",
    "        #for id_tet in np.nonzero(cut_range)[0]: \n",
    "        #    if self.tet2tet[id_tet].shape[0] == 4: # se ha quattro adiacenti vuol dire che è un tet interno\n",
    "        #        if np.count_nonzero(cut_range[self.tet2tet[id_tet]]) == 4: # se tutti i tet adiacenti sono nel cut range vuol dire che è un tet interno\n",
    "        #            cut_range[id_tet] = False\n",
    "                            \n",
    "        #tets = self.tets[ cut_range ]\n",
    "        \n",
    "        cut_range = x_range & y_range & z_range\n",
    "        indices = np.where(self.internals)[0]\n",
    "        cut_range[indices[np.all(cut_range[self.tet2tet[indices]], axis=1)]] = False\n",
    "        cut_range = np.repeat(cut_range, 4)\n",
    "        \n",
    "        return self.faces[cut_range], cut_range\n",
    "\n",
    "        \n",
    "    @property\n",
    "    def simplex_centroids(self):\n",
    "        \n",
    "        if self._AbstractMesh__simplex_centroids is None:\n",
    "            self._AbstractMesh__simplex_centroids = self.vertices[self.tets].mean(axis = 1)\n",
    "        \n",
    "        return self._AbstractMesh__simplex_centroids\n",
    "\n",
    "       \n",
    "    def __repr__(self):\n",
    "        self.show()\n",
    "        return f\"Showing {self.boundary()[0].shape[0]} polygons.\"\n",
    "    \n",
    "    \n",
    "    "
   ]
  },
  {
   "cell_type": "code",
   "execution_count": 2,
   "metadata": {},
   "outputs": [],
   "source": [
    "a = Tetmesh()"
   ]
  },
  {
   "cell_type": "code",
   "execution_count": 3,
   "metadata": {},
   "outputs": [
    {
     "name": "stdout",
     "output_type": "stream",
     "text": [
      "It took 0.8023056983947754 to read file\n",
      "4.577698707580566\n"
     ]
    }
   ],
   "source": [
    "from time import time\n",
    "start = time()\n",
    "a.load_from_file(\"human_head.mesh\")\n",
    "print(time()-start)"
   ]
  },
  {
   "cell_type": "code",
   "execution_count": 4,
   "metadata": {},
   "outputs": [
    {
     "data": {
      "application/vnd.jupyter.widget-view+json": {
       "model_id": "63bc88176e9f4e00abf033b48f288d8f",
       "version_major": 2,
       "version_minor": 0
      },
      "text/plain": [
       "Accordion(children=(VBox(children=(VBox(children=(HBox(children=(FloatRangeSlider(value=(-8.654, 8.654), descr…"
      ]
     },
     "metadata": {},
     "output_type": "display_data"
    }
   ],
   "source": [
    "b = Viewer(a)"
   ]
  },
  {
   "cell_type": "code",
   "execution_count": 5,
   "metadata": {},
   "outputs": [
    {
     "name": "stderr",
     "output_type": "stream",
     "text": [
      "/usr/local/lib/python3.7/site-packages/pythreejs/traits.py:191: UserWarning: 64-bit data types not supported for WebGL data, casting to 32-bit.\n",
      "  warnings.warn('64-bit data types not supported for WebGL '\n"
     ]
    },
    {
     "data": {
      "application/vnd.jupyter.widget-view+json": {
       "model_id": "e9697992ef7e426d8f708a09d9ec82d9",
       "version_major": 2,
       "version_minor": 0
      },
      "text/plain": [
       "Renderer(camera=PerspectiveCamera(children=(DirectionalLight(intensity=0.5, position=(0.0, 10.0, 30.0), quater…"
      ]
     },
     "metadata": {},
     "output_type": "display_data"
    }
   ],
   "source": [
    "b.show()"
   ]
  },
  {
   "cell_type": "code",
   "execution_count": 6,
   "metadata": {},
   "outputs": [
    {
     "name": "stdout",
     "output_type": "stream",
     "text": [
      "50\n",
      "50\n",
      "50\n"
     ]
    }
   ],
   "source": [
    "for i in a.labels:\n",
    "    if i != -1:\n",
    "        print(i)"
   ]
  },
  {
   "cell_type": "code",
   "execution_count": 7,
   "metadata": {},
   "outputs": [],
   "source": [
    "m=[ 10, 10, 10]"
   ]
  },
  {
   "cell_type": "code",
   "execution_count": 8,
   "metadata": {},
   "outputs": [],
   "source": [
    "import warnings\n",
    "warnings.filterwarnings('ignore')"
   ]
  },
  {
   "cell_type": "code",
   "execution_count": 9,
   "metadata": {},
   "outputs": [],
   "source": [
    "from Trimesh import Trimesh"
   ]
  },
  {
   "cell_type": "code",
   "execution_count": 10,
   "metadata": {},
   "outputs": [
    {
     "data": {
      "application/vnd.jupyter.widget-view+json": {
       "model_id": "cdf500480e0149589b68efcab9835d0d",
       "version_major": 2,
       "version_minor": 0
      },
      "text/plain": [
       "Renderer(camera=PerspectiveCamera(children=(DirectionalLight(intensity=0.5, position=(0.0, 10.0, 30.0), quater…"
      ]
     },
     "metadata": {},
     "output_type": "display_data"
    },
    {
     "data": {
      "text/plain": [
       "Showing 96676 polygons."
      ]
     },
     "execution_count": 10,
     "metadata": {},
     "output_type": "execute_result"
    }
   ],
   "source": [
    "Trimesh().load_from_file(\"goyle.obj\")"
   ]
  },
  {
   "cell_type": "code",
   "execution_count": 11,
   "metadata": {},
   "outputs": [
    {
     "data": {
      "text/plain": [
       "((None, None), array([[ 1.90392161e-05,  8.71577554e-07,  2.45776515e-05],\n",
       "        [ 3.94664900e-05, -5.46259826e-06,  9.27292348e-06],\n",
       "        [-4.25208630e-06,  4.96189733e-05, -5.35747532e-06],\n",
       "        ...,\n",
       "        [ 1.59448190e-05,  3.98928763e-06, -6.95292890e-06],\n",
       "        [ 1.39232700e-06, -7.62831966e-08,  2.69522859e-05],\n",
       "        [-4.88379154e-05,  9.07933319e-04, -1.31081191e-04]]))"
      ]
     },
     "execution_count": 11,
     "metadata": {},
     "output_type": "execute_result"
    }
   ],
   "source": [
    "tet_volume(a.vertices, a.tets)"
   ]
  },
  {
   "cell_type": "code",
   "execution_count": null,
   "metadata": {},
   "outputs": [],
   "source": []
  }
 ],
 "metadata": {
  "kernelspec": {
   "display_name": "Python 3",
   "language": "python",
   "name": "python3"
  },
  "language_info": {
   "codemirror_mode": {
    "name": "ipython",
    "version": 3
   },
   "file_extension": ".py",
   "mimetype": "text/x-python",
   "name": "python",
   "nbconvert_exporter": "python",
   "pygments_lexer": "ipython3",
   "version": "3.7.4"
  }
 },
 "nbformat": 4,
 "nbformat_minor": 4
}
