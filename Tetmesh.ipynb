{
 "cells": [
  {
   "cell_type": "code",
   "execution_count": 1,
   "metadata": {},
   "outputs": [
    {
     "ename": "ModuleNotFoundError",
     "evalue": "No module named 'AbstractMesh'",
     "output_type": "error",
     "traceback": [
      "\u001b[0;31m---------------------------------------------------------------------------\u001b[0m",
      "\u001b[0;31mModuleNotFoundError\u001b[0m                       Traceback (most recent call last)",
      "\u001b[0;32m<ipython-input-1-2035412851cd>\u001b[0m in \u001b[0;36m<module>\u001b[0;34m\u001b[0m\n\u001b[0;32m----> 1\u001b[0;31m \u001b[0;32mfrom\u001b[0m \u001b[0mAbstractMesh\u001b[0m \u001b[0;32mimport\u001b[0m \u001b[0mAbstractMesh\u001b[0m\u001b[0;34m\u001b[0m\u001b[0;34m\u001b[0m\u001b[0m\n\u001b[0m\u001b[1;32m      2\u001b[0m \u001b[0;32mfrom\u001b[0m \u001b[0mVisualization\u001b[0m \u001b[0;32mimport\u001b[0m \u001b[0mViewer\u001b[0m\u001b[0;34m\u001b[0m\u001b[0;34m\u001b[0m\u001b[0m\n\u001b[1;32m      3\u001b[0m \u001b[0;32mimport\u001b[0m \u001b[0mnumpy\u001b[0m \u001b[0;32mas\u001b[0m \u001b[0mnp\u001b[0m\u001b[0;34m\u001b[0m\u001b[0;34m\u001b[0m\u001b[0m\n\u001b[1;32m      4\u001b[0m \u001b[0;32mimport\u001b[0m \u001b[0mtime\u001b[0m\u001b[0;34m\u001b[0m\u001b[0;34m\u001b[0m\u001b[0m\n\u001b[1;32m      5\u001b[0m \u001b[0;32mimport\u001b[0m \u001b[0mutils\u001b[0m\u001b[0;34m\u001b[0m\u001b[0;34m\u001b[0m\u001b[0m\n",
      "\u001b[0;31mModuleNotFoundError\u001b[0m: No module named 'AbstractMesh'"
     ]
    }
   ],
   "source": [
    "from AbstractMesh import AbstractMesh\n",
    "from Visualization import Viewer\n",
    "import numpy as np\n",
    "import time\n",
    "import utils\n",
    "from metrics import tet_scaled_jacobian, tet_volume\n",
    "\n",
    "class Tetmesh(AbstractMesh):\n",
    "    \n",
    "    def __init__(self, vertices = None, tets = None, labels = None):\n",
    "        \n",
    "        self.tets             = None #npArray (Nx4) \n",
    "        self.labels       = None #npArray (Nx1) \n",
    "        self.tet2tet          = None #npArray (Nx4?) \n",
    "        self.face2tet         = None #npArray (Nx2?)\n",
    "        self.tet2face         = None #npArray (Nx4)\n",
    "        self.vtx2tet          = None #npArray (NxM)\n",
    "        self.__internal_tets = None\n",
    "        \n",
    "        super(Tetmesh, self).__init__()\n",
    "        \n",
    "        if vertices and tets:\n",
    "            \n",
    "            self.vertices = np.array(vertices) \n",
    "            self.tets = np.array(tets)\n",
    "            \n",
    "            if labels:\n",
    "                self.labels = np.array(labels)\n",
    "            \n",
    "            self.__load_operations()\n",
    "         \n",
    "    \n",
    "    # ==================== METHODS ==================== #\n",
    "    \n",
    "    def show(self, width = 700, height = 700, mesh_color = None):\n",
    "        Viewer(self, UI=False, mesh_color=mesh_color).show(width = width, height = height)\n",
    "    \n",
    "    \n",
    "    @property\n",
    "    def num_faces(self):\n",
    "        \n",
    "        return self.faces.shape[0]\n",
    "\n",
    "    @property\n",
    "    def num_tets(self):\n",
    "        \n",
    "        return self.tets.shape[0]\n",
    "\n",
    "    def add_tet(self, tet_id0, tet_id1, tet_id2, tet_id3):\n",
    "        \n",
    "        self.add_tets([tet_id0, tet_id1, tet_id2, tet_id3])\n",
    "        \n",
    "        \n",
    "    def add_tets(self, new_tets):\n",
    "            \n",
    "        new_tets = np.array(new_tets)\n",
    "        new_tets.shape = (-1,3)\n",
    "                \n",
    "        if new_tets[(new_tets[:,0] > self.num_vertices) | \n",
    "                     (new_tets[:,1] > self.num_vertices) | \n",
    "                     (new_tets[:,2] > self.num_vertices) | \n",
    "                     (new_tets[:,3] > self.num_vertices)].shape[0] > self.num_vertices:\n",
    "            raise Exception('The ID of a vertex must be less than the number of vertices')\n",
    "\n",
    "        self.tets = np.concatenate([self.tets, new_tets])\n",
    "        self.__load_operations()\n",
    "        \n",
    "    \n",
    "    def remove_tet(self, tet_id):\n",
    "        \n",
    "        self.remove_tets([tet_id])\n",
    "        \n",
    "        \n",
    "    def remove_tets(self, tet_ids):\n",
    "        \n",
    "        tet_ids = np.array(tet_ids)\n",
    "        mask = np.ones(self.num_tets)\n",
    "        mask[tet_ids] = 0\n",
    "        mask = mask.astype(np.bool)\n",
    "        \n",
    "        self.tets = self.tets[mask]\n",
    "        self.__load_operations()\n",
    "        \n",
    "    \n",
    "    def remove_vertex(self,vtx_id):\n",
    "        \n",
    "        self.remove_vertices([vtx_id])\n",
    "    \n",
    "    \n",
    "    def remove_vertices(self, vtx_ids):\n",
    "        \n",
    "        vtx_ids = np.array(vtx_ids)\n",
    "        \n",
    "        for v_id in vtx_ids:\n",
    "                        \n",
    "            self.vertices = np.delete(self.vertices, v_id, 0)\n",
    "            self.tets = self.tets[(self.tets[:,0] != v_id) & \n",
    "                                    (self.tets[:,1] != v_id) & \n",
    "                                    (self.tets[:,2] != v_id) & \n",
    "                                    (self.tets[:,3] != v_id)]\n",
    "            \n",
    "            self.tets[(self.tets[:,0] > v_id)] -= np.array([1, 0, 0, 0])\n",
    "            self.tets[(self.tets[:,1] > v_id)] -= np.array([0, 1, 0, 0])\n",
    "            self.tets[(self.tets[:,2] > v_id)] -= np.array([0, 0, 1, 0])\n",
    "            self.tets[(self.tets[:,3] > v_id)] -= np.array([0, 0, 0, 1])\n",
    "            \n",
    "            vtx_ids[vtx_ids > v_id] -= 1;\n",
    "            \n",
    "        self.__load_operations()\n",
    "        \n",
    "        \n",
    "    def __load_operations(self):\n",
    "        \n",
    "        self.__compute_faces()\n",
    "        self.__compute_adjacencies()\n",
    "        self._AbstractMesh__update_bounding_box()\n",
    "        self.set_cut(self.bbox[0,0], self.bbox[1,0], \n",
    "                     self.bbox[0,1], self.bbox[1,1], \n",
    "                     self.bbox[0,2], self.bbox[1,2])\n",
    "        self.__compute_metrics()\n",
    "    \n",
    "    def __compute_faces(self):\n",
    "        self.faces = np.c_[self.tets[:,0], self.tets[:,2], self.tets[:, 1], \n",
    "                           self.tets[:,0], self.tets[:,1], self.tets[:,3],\n",
    "                           self.tets[:,1], self.tets[:,2], self.tets[:,3],\n",
    "                           self.tets[:,0], self.tets[:,3], self.tets[:,2]].reshape(-1,3)\n",
    "    \n",
    "    def __compute_adjacencies(self):\n",
    "        \n",
    "        map_ = dict()\n",
    "        adjs = np.zeros((self.num_tets, 4), dtype=np.int)-1\n",
    "        vtx2tet = [[] for i in range(self.num_vertices)]\n",
    "        tets_idx = np.repeat(np.array(range(self.num_tets)), 4)\n",
    "        self.tet2face = np.array(range(self.num_faces)).reshape(-1,4)\n",
    "        \n",
    "        for f, t in zip(self.faces, tets_idx):\n",
    "            \n",
    "            vtx2tet[f[0]].append(t)\n",
    "            vtx2tet[f[1]].append(t)\n",
    "            vtx2tet[f[2]].append(t)\n",
    "            \n",
    "            f =  (f[0], f[1], f[2])\n",
    "            f1 = (f[2], f[1], f[0])\n",
    "            f2 = (f[0], f[2], f[1])\n",
    "            f3 = (f[1], f[0], f[2])\n",
    "\n",
    "            try:\n",
    "                tmp = map_[f]\n",
    "            except KeyError:\n",
    "                tmp = None\n",
    "\n",
    "            if tmp is None:\n",
    "                map_[f1] = t\n",
    "                map_[f2] = t\n",
    "                map_[f3] = t\n",
    "            else:\n",
    "                \n",
    "                idx_to_append1 = np.where(adjs[t] == -1)[0][0]\n",
    "                idx_to_append2 = np.where(adjs[map_[f]] == -1)[0][0]\n",
    "                adjs[t][idx_to_append1] = map_[f]\n",
    "                adjs[map_[f]][idx_to_append2] = t\n",
    "        \n",
    "        self.tet2tet = adjs#np.array([np.array(a) for a in adjs])\n",
    "        self.vtx2tet = np.array([np.unique(np.array(a)) for a in vtx2tet])\n",
    "        \n",
    "        \n",
    "    def load_from_file(self, filename):\n",
    "        \n",
    "        ext = filename.split('.')[-1]\n",
    "        \n",
    "        start = time()\n",
    "        if ext == 'mesh':\n",
    "            self.vertices, self.tets, self.labels = utils.read_mesh(filename)\n",
    "        else:\n",
    "            raise Exception(\"File Extension unknown\")\n",
    "        print(f\"It took {time()-start} to read file\")\n",
    "    \n",
    "        self.__load_operations()\n",
    "        \n",
    "        return self\n",
    "    \n",
    "    def save_file(self, filename):\n",
    "        \n",
    "        ext = filename.split('.')[-1]\n",
    "        \n",
    "        if ext == 'mesh':\n",
    "            utils.save_mesh(self, filename)\n",
    "        \n",
    "    \n",
    "    def __compute_metrics(self): \n",
    "        self.simplex_metrics['scaled_jacobian'] = tet_scaled_jacobian(self.vertices, self.tets)\n",
    "        self.simplex_metrics['volume'] = tet_volume(self.vertices, self.tets)\n",
    "        \n",
    "    @property\n",
    "    def internals(self):\n",
    "        \n",
    "        if self.__internal_tets is None:\n",
    "            self.__internal_tets = np.all(a.tet2tet != -1, axis = 1)\n",
    "        \n",
    "        return self.__internal_tets\n",
    "        \n",
    "    \n",
    "    def boundary(self, flip_x = False, flip_y = False, flip_z = False):\n",
    "        \n",
    "        min_x = self.cut['min_x']\n",
    "        max_x = self.cut['max_x']\n",
    "        min_y = self.cut['min_y']\n",
    "        max_y = self.cut['max_y']\n",
    "        min_z = self.cut['min_z']\n",
    "        max_z = self.cut['max_z']\n",
    "            \n",
    "        x_range = np.logical_xor(flip_x,((self.simplex_centroids[:,0] >= min_x) & (self.simplex_centroids[:,0] <= max_x)))\n",
    "        y_range = np.logical_xor(flip_y,((self.simplex_centroids[:,1] >= min_y) & (self.simplex_centroids[:,1] <= max_y)))\n",
    "        z_range = np.logical_xor(flip_z,((self.simplex_centroids[:,2] >= min_z) & (self.simplex_centroids[:,2] <= max_z)))\n",
    "                \n",
    "        \n",
    "        #naive\n",
    "        #for id_tet in np.nonzero(cut_range)[0]: \n",
    "        #    if self.tet2tet[id_tet].shape[0] == 4: # se ha quattro adiacenti vuol dire che è un tet interno\n",
    "        #        if np.count_nonzero(cut_range[self.tet2tet[id_tet]]) == 4: # se tutti i tet adiacenti sono nel cut range vuol dire che è un tet interno\n",
    "        #            cut_range[id_tet] = False\n",
    "                            \n",
    "        #tets = self.tets[ cut_range ]\n",
    "        \n",
    "        cut_range = x_range & y_range & z_range\n",
    "        indices = np.where(self.internals)[0]\n",
    "        cut_range[indices[np.all(cut_range[self.tet2tet[indices]], axis=1)]] = False\n",
    "        cut_range = np.repeat(cut_range, 4)\n",
    "        \n",
    "        return self.faces[cut_range], cut_range\n",
    "\n",
    "        \n",
    "    @property\n",
    "    def simplex_centroids(self):\n",
    "        \n",
    "        if self._AbstractMesh__simplex_centroids is None:\n",
    "            self._AbstractMesh__simplex_centroids = self.vertices[self.tets].mean(axis = 1)\n",
    "        \n",
    "        return self._AbstractMesh__simplex_centroids\n",
    "\n",
    "       \n",
    "    def __repr__(self):\n",
    "        self.show()\n",
    "        return f\"Showing {self.boundary()[0].shape[0]} polygons.\"\n",
    "    \n",
    "    \n",
    "    "
   ]
  },
  {
   "cell_type": "code",
   "execution_count": null,
   "metadata": {},
   "outputs": [],
   "source": [
    "a = Tetmesh()"
   ]
  },
  {
   "cell_type": "code",
   "execution_count": null,
   "metadata": {},
   "outputs": [],
   "source": [
    "from time import time\n",
    "start = time()\n",
    "a.load_from_file(\"human_head.mesh\")\n",
    "print(time()-start)"
   ]
  },
  {
   "cell_type": "code",
   "execution_count": null,
   "metadata": {},
   "outputs": [],
   "source": [
    "b = Viewer(a)"
   ]
  },
  {
   "cell_type": "code",
   "execution_count": null,
   "metadata": {},
   "outputs": [],
   "source": [
    "b.show()"
   ]
  },
  {
   "cell_type": "code",
   "execution_count": null,
   "metadata": {},
   "outputs": [],
   "source": [
    "for i in a.labels:\n",
    "    if i != -1:\n",
    "        print(i)"
   ]
  },
  {
   "cell_type": "code",
   "execution_count": null,
   "metadata": {},
   "outputs": [],
   "source": [
    "m=[ 10, 10, 10]"
   ]
  },
  {
   "cell_type": "code",
   "execution_count": null,
   "metadata": {},
   "outputs": [],
   "source": [
    "import warnings\n",
    "warnings.filterwarnings('ignore')"
   ]
  },
  {
   "cell_type": "code",
   "execution_count": 2,
   "metadata": {},
   "outputs": [
    {
     "ename": "ModuleNotFoundError",
     "evalue": "No module named 'Trimesh'",
     "output_type": "error",
     "traceback": [
      "\u001b[0;31m---------------------------------------------------------------------------\u001b[0m",
      "\u001b[0;31mModuleNotFoundError\u001b[0m                       Traceback (most recent call last)",
      "\u001b[0;32m<ipython-input-2-f17f8e20e003>\u001b[0m in \u001b[0;36m<module>\u001b[0;34m\u001b[0m\n\u001b[0;32m----> 1\u001b[0;31m \u001b[0;32mfrom\u001b[0m \u001b[0mTrimesh\u001b[0m \u001b[0;32mimport\u001b[0m \u001b[0mTrimesh\u001b[0m\u001b[0;34m\u001b[0m\u001b[0;34m\u001b[0m\u001b[0m\n\u001b[0m",
      "\u001b[0;31mModuleNotFoundError\u001b[0m: No module named 'Trimesh'"
     ]
    }
   ],
   "source": [
    "from Trimesh import Trimesh"
   ]
  },
  {
   "cell_type": "code",
   "execution_count": null,
   "metadata": {},
   "outputs": [],
   "source": [
    "Trimesh().load_from_file(\"goyle.obj\")"
   ]
  },
  {
   "cell_type": "code",
   "execution_count": null,
   "metadata": {},
   "outputs": [],
   "source": [
    "tet_volume(a.vertices, a.tets)"
   ]
  },
  {
   "cell_type": "code",
   "execution_count": 3,
   "metadata": {},
   "outputs": [],
   "source": [
    "from Py3DViewer import Trimesh"
   ]
  },
  {
   "cell_type": "code",
   "execution_count": 6,
   "metadata": {},
   "outputs": [
    {
     "ename": "TypeError",
     "evalue": "__repr__ returned non-string (type Viewer)",
     "output_type": "error",
     "traceback": [
      "\u001b[0;31m---------------------------------------------------------------------------\u001b[0m",
      "\u001b[0;31mTypeError\u001b[0m                                 Traceback (most recent call last)",
      "\u001b[0;32m/usr/local/lib/python3.7/site-packages/IPython/core/formatters.py\u001b[0m in \u001b[0;36m__call__\u001b[0;34m(self, obj)\u001b[0m\n\u001b[1;32m    700\u001b[0m                 \u001b[0mtype_pprinters\u001b[0m\u001b[0;34m=\u001b[0m\u001b[0mself\u001b[0m\u001b[0;34m.\u001b[0m\u001b[0mtype_printers\u001b[0m\u001b[0;34m,\u001b[0m\u001b[0;34m\u001b[0m\u001b[0;34m\u001b[0m\u001b[0m\n\u001b[1;32m    701\u001b[0m                 deferred_pprinters=self.deferred_printers)\n\u001b[0;32m--> 702\u001b[0;31m             \u001b[0mprinter\u001b[0m\u001b[0;34m.\u001b[0m\u001b[0mpretty\u001b[0m\u001b[0;34m(\u001b[0m\u001b[0mobj\u001b[0m\u001b[0;34m)\u001b[0m\u001b[0;34m\u001b[0m\u001b[0;34m\u001b[0m\u001b[0m\n\u001b[0m\u001b[1;32m    703\u001b[0m             \u001b[0mprinter\u001b[0m\u001b[0;34m.\u001b[0m\u001b[0mflush\u001b[0m\u001b[0;34m(\u001b[0m\u001b[0;34m)\u001b[0m\u001b[0;34m\u001b[0m\u001b[0;34m\u001b[0m\u001b[0m\n\u001b[1;32m    704\u001b[0m             \u001b[0;32mreturn\u001b[0m \u001b[0mstream\u001b[0m\u001b[0;34m.\u001b[0m\u001b[0mgetvalue\u001b[0m\u001b[0;34m(\u001b[0m\u001b[0;34m)\u001b[0m\u001b[0;34m\u001b[0m\u001b[0;34m\u001b[0m\u001b[0m\n",
      "\u001b[0;32m/usr/local/lib/python3.7/site-packages/IPython/lib/pretty.py\u001b[0m in \u001b[0;36mpretty\u001b[0;34m(self, obj)\u001b[0m\n\u001b[1;32m    400\u001b[0m                         \u001b[0;32mif\u001b[0m \u001b[0mcls\u001b[0m \u001b[0;32mis\u001b[0m \u001b[0;32mnot\u001b[0m \u001b[0mobject\u001b[0m\u001b[0;31m \u001b[0m\u001b[0;31m\\\u001b[0m\u001b[0;34m\u001b[0m\u001b[0;34m\u001b[0m\u001b[0m\n\u001b[1;32m    401\u001b[0m                                 \u001b[0;32mand\u001b[0m \u001b[0mcallable\u001b[0m\u001b[0;34m(\u001b[0m\u001b[0mcls\u001b[0m\u001b[0;34m.\u001b[0m\u001b[0m__dict__\u001b[0m\u001b[0;34m.\u001b[0m\u001b[0mget\u001b[0m\u001b[0;34m(\u001b[0m\u001b[0;34m'__repr__'\u001b[0m\u001b[0;34m)\u001b[0m\u001b[0;34m)\u001b[0m\u001b[0;34m:\u001b[0m\u001b[0;34m\u001b[0m\u001b[0;34m\u001b[0m\u001b[0m\n\u001b[0;32m--> 402\u001b[0;31m                             \u001b[0;32mreturn\u001b[0m \u001b[0m_repr_pprint\u001b[0m\u001b[0;34m(\u001b[0m\u001b[0mobj\u001b[0m\u001b[0;34m,\u001b[0m \u001b[0mself\u001b[0m\u001b[0;34m,\u001b[0m \u001b[0mcycle\u001b[0m\u001b[0;34m)\u001b[0m\u001b[0;34m\u001b[0m\u001b[0;34m\u001b[0m\u001b[0m\n\u001b[0m\u001b[1;32m    403\u001b[0m \u001b[0;34m\u001b[0m\u001b[0m\n\u001b[1;32m    404\u001b[0m             \u001b[0;32mreturn\u001b[0m \u001b[0m_default_pprint\u001b[0m\u001b[0;34m(\u001b[0m\u001b[0mobj\u001b[0m\u001b[0;34m,\u001b[0m \u001b[0mself\u001b[0m\u001b[0;34m,\u001b[0m \u001b[0mcycle\u001b[0m\u001b[0;34m)\u001b[0m\u001b[0;34m\u001b[0m\u001b[0;34m\u001b[0m\u001b[0m\n",
      "\u001b[0;32m/usr/local/lib/python3.7/site-packages/IPython/lib/pretty.py\u001b[0m in \u001b[0;36m_repr_pprint\u001b[0;34m(obj, p, cycle)\u001b[0m\n\u001b[1;32m    695\u001b[0m     \u001b[0;34m\"\"\"A pprint that just redirects to the normal repr function.\"\"\"\u001b[0m\u001b[0;34m\u001b[0m\u001b[0;34m\u001b[0m\u001b[0m\n\u001b[1;32m    696\u001b[0m     \u001b[0;31m# Find newlines and replace them with p.break_()\u001b[0m\u001b[0;34m\u001b[0m\u001b[0;34m\u001b[0m\u001b[0;34m\u001b[0m\u001b[0m\n\u001b[0;32m--> 697\u001b[0;31m     \u001b[0moutput\u001b[0m \u001b[0;34m=\u001b[0m \u001b[0mrepr\u001b[0m\u001b[0;34m(\u001b[0m\u001b[0mobj\u001b[0m\u001b[0;34m)\u001b[0m\u001b[0;34m\u001b[0m\u001b[0;34m\u001b[0m\u001b[0m\n\u001b[0m\u001b[1;32m    698\u001b[0m     \u001b[0;32mfor\u001b[0m \u001b[0midx\u001b[0m\u001b[0;34m,\u001b[0m\u001b[0moutput_line\u001b[0m \u001b[0;32min\u001b[0m \u001b[0menumerate\u001b[0m\u001b[0;34m(\u001b[0m\u001b[0moutput\u001b[0m\u001b[0;34m.\u001b[0m\u001b[0msplitlines\u001b[0m\u001b[0;34m(\u001b[0m\u001b[0;34m)\u001b[0m\u001b[0;34m)\u001b[0m\u001b[0;34m:\u001b[0m\u001b[0;34m\u001b[0m\u001b[0;34m\u001b[0m\u001b[0m\n\u001b[1;32m    699\u001b[0m         \u001b[0;32mif\u001b[0m \u001b[0midx\u001b[0m\u001b[0;34m:\u001b[0m\u001b[0;34m\u001b[0m\u001b[0;34m\u001b[0m\u001b[0m\n",
      "\u001b[0;31mTypeError\u001b[0m: __repr__ returned non-string (type Viewer)"
     ]
    }
   ],
   "source": [
    "Trimesh().load_from_file('example_meshes/goyle.obj')"
   ]
  },
  {
   "cell_type": "code",
   "execution_count": 5,
   "metadata": {},
   "outputs": [
    {
     "data": {
      "text/plain": [
       "Py3DViewer.structures.Trimesh.Trimesh"
      ]
     },
     "execution_count": 5,
     "metadata": {},
     "output_type": "execute_result"
    }
   ],
   "source": [
    "type(a)"
   ]
  },
  {
   "cell_type": "code",
   "execution_count": null,
   "metadata": {},
   "outputs": [],
   "source": []
  }
 ],
 "metadata": {
  "kernelspec": {
   "display_name": "Python 3",
   "language": "python",
   "name": "python3"
  },
  "language_info": {
   "codemirror_mode": {
    "name": "ipython",
    "version": 3
   },
   "file_extension": ".py",
   "mimetype": "text/x-python",
   "name": "python",
   "nbconvert_exporter": "python",
   "pygments_lexer": "ipython3",
   "version": "3.7.4"
  }
 },
 "nbformat": 4,
 "nbformat_minor": 4
}
