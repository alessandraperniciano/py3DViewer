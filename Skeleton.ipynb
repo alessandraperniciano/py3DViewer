{
 "cells": [
  {
   "cell_type": "code",
   "execution_count": 1,
   "metadata": {},
   "outputs": [],
   "source": [
    "from Py3DViewer import *"
   ]
  },
  {
   "cell_type": "code",
   "execution_count": 2,
   "metadata": {},
   "outputs": [],
   "source": [
    "class Skeleton(object):\n",
    "    \n",
    "    def __init__(self, filename=None, nodes=None, radius=1.0, bones=None, load_associated_mesh=False):\n",
    "        \n",
    "        self.nodes = None\n",
    "        self.radius = None\n",
    "        self.bones = None\n",
    "        \n",
    "        if filename is not None:\n",
    "            \n",
    "            self.__load_from_file(filename)\n",
    "            if load_associated_mesh:\n",
    "                self.associated_mesh = Trimesh(filename.replace('skel', 'obj'))\n",
    "        \n",
    "        elif nodes is not None and edges is not None:\n",
    "            \n",
    "            self.nodes = nodes\n",
    "            self.radius = radius\n",
    "            self.bones = edges\n",
    "            \n",
    "    \n",
    "\n",
    "        super(Skeleton,self).__init__()\n",
    "        \n",
    "        \n",
    "    def show(self, UI = False, width = 700, height = 700):\n",
    "        view = Viewer(self, UI=UI, width = width, height = height).show()\n",
    "        return view\n",
    "        \n",
    "        \n",
    "    \n",
    "    \n",
    "    \n",
    "    def __load_from_file(self, filename):\n",
    "        \n",
    "        if 'skel' in filename.split('.')[-1]:\n",
    "            \n",
    "            self.nodes, self.radius, self.bones = IO.read_skeleton(filename)\n",
    "            \n",
    "            \n",
    "    \n",
    "    "
   ]
  },
  {
   "cell_type": "code",
   "execution_count": 3,
   "metadata": {},
   "outputs": [],
   "source": [
    "skel = Skeleton('cactus.skel', load_associated_mesh=True)"
   ]
  },
  {
   "cell_type": "code",
   "execution_count": 4,
   "metadata": {},
   "outputs": [
    {
     "name": "stderr",
     "output_type": "stream",
     "text": [
      "/usr/local/lib/python3.7/site-packages/pythreejs/traits.py:177: UserWarning: 64-bit data types not supported for WebGL data, casting to 32-bit.\n",
      "  warnings.warn('64-bit data types not supported for WebGL '\n"
     ]
    },
    {
     "data": {
      "application/vnd.jupyter.widget-view+json": {
       "model_id": "21d35dd1777a405a97fe02b18c30134a",
       "version_major": 2,
       "version_minor": 0
      },
      "text/plain": [
       "Renderer(camera=PerspectiveCamera(children=(DirectionalLight(intensity=0.5, position=(0.0, 10.0, 0.0), quatern…"
      ]
     },
     "metadata": {},
     "output_type": "display_data"
    }
   ],
   "source": [
    "skel.show()"
   ]
  },
  {
   "cell_type": "code",
   "execution_count": null,
   "metadata": {},
   "outputs": [],
   "source": []
  }
 ],
 "metadata": {
  "kernelspec": {
   "display_name": "Python 3",
   "language": "python",
   "name": "python3"
  },
  "language_info": {
   "codemirror_mode": {
    "name": "ipython",
    "version": 3
   },
   "file_extension": ".py",
   "mimetype": "text/x-python",
   "name": "python",
   "nbconvert_exporter": "python",
   "pygments_lexer": "ipython3",
   "version": "3.7.4"
  }
 },
 "nbformat": 4,
 "nbformat_minor": 4
}
