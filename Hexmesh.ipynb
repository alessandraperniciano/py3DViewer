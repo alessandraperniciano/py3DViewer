{
 "cells": [
  {
   "cell_type": "code",
   "execution_count": 1,
   "metadata": {},
   "outputs": [],
   "source": [
    "from AbstractMesh import AbstractMesh\n",
    "from Visualization import Viewer\n",
    "import numpy as np\n",
    "import utils\n",
    "from metrics import hex_scaled_jacobian, hex_volume\n",
    "\n",
    "cut_range = []\n",
    "\n",
    "class Hexmesh(AbstractMesh):\n",
    "    \n",
    "    def __init__(self, vertices = None, tets = None, labels = None):\n",
    "        \n",
    "        self.hexes            = None #npArray (Nx4) \n",
    "        self.labels           = None #npArray (Nx1) \n",
    "        self.hex2hex          = None #npArray (Nx4?) \n",
    "        self.face2hex         = None #npArray (Nx2?)\n",
    "        self.hex2face         = None #npArray (Nx6)\n",
    "        self.vtx2hex          = None #npArray (NxM)\n",
    "        self.__internal_hexes = None\n",
    "        \n",
    "        super(Hexmesh, self).__init__()\n",
    "        \n",
    "        if vertices and hexes:\n",
    "            \n",
    "            self.vertices = np.array(vertices) \n",
    "            self.tets = np.array(hexes)\n",
    "            \n",
    "            if labels:\n",
    "                self.labels = np.array(labels)\n",
    "            \n",
    "            self.__load_operations()\n",
    "         \n",
    "    \n",
    "    # ==================== METHODS ==================== #\n",
    "    \n",
    "    def show(self, width = 700, height = 700, mesh_color = None):\n",
    "        #TODO\n",
    "        Viewer(self, UI=False, mesh_color=mesh_color).show(width = width , height = height)\n",
    "    \n",
    "    \n",
    "    @property\n",
    "    def num_faces(self):\n",
    "        \n",
    "        return self.faces.shape[0]\n",
    "\n",
    "    @property\n",
    "    def num_hexes(self):\n",
    "        \n",
    "        return self.hexes.shape[0]\n",
    "\n",
    "    def add_hex(self, tet_id0, tet_id1, tet_id2, tet_id3, tet_id4, tet_id5, tet_id6, tet_id7):\n",
    "        \n",
    "        self.add_tets([tet_id0, tet_id1, tet_id2, tet_id3, tet_id4, tet_id5, tet_id6, tet_id7])\n",
    "        \n",
    "        \n",
    "    def add_hexes(self, new_hexes):\n",
    "            \n",
    "        new_hexes = np.array(new_hexes)\n",
    "        new_hexes.shape = (-1,3)\n",
    "                \n",
    "        if new_hexes[(new_hexes[:,0] > self.num_vertices) | \n",
    "                     (new_hexes[:,1] > self.num_vertices) | \n",
    "                     (new_hexes[:,2] > self.num_vertices) | \n",
    "                     (new_hexes[:,3] > self.num_vertices) |\n",
    "                     (new_hexes[:,4] > self.num_vertices) |\n",
    "                     (new_hexes[:,5] > self.num_vertices) |\n",
    "                     (new_hexes[:,6] > self.num_vertices) |\n",
    "                     (new_hexes[:,7] > self.num_vertices)].shape[0] > self.num_vertices:\n",
    "            raise Exception('The ID of a vertex must be less than the number of vertices')\n",
    "\n",
    "        self.tets = np.concatenate([self.tets, new_hexes])\n",
    "        self.__load_operations()\n",
    "        \n",
    "    \n",
    "    def remove_tet(self, hex_id):\n",
    "        \n",
    "        self.remove_tets([hex_id])\n",
    "        \n",
    "        \n",
    "    def remove_tets(self, hex_ids):\n",
    "        \n",
    "        hex_ids = np.array(hex_ids)\n",
    "        mask = np.ones(self.num_hexes)\n",
    "        mask[hex_ids] = 0\n",
    "        mask = mask.astype(np.bool)\n",
    "        \n",
    "        self.hexes = self.hexes[mask]\n",
    "        self.__load_operations()\n",
    "        \n",
    "    \n",
    "    def remove_vertex(self,vtx_id):\n",
    "        \n",
    "        self.remove_vertices([vtx_id])\n",
    "    \n",
    "    \n",
    "    def remove_vertices(self, vtx_ids):\n",
    "        \n",
    "        vtx_ids = np.array(vtx_ids)\n",
    "        \n",
    "        for v_id in vtx_ids:\n",
    "                        \n",
    "            self.vertices = np.delete(self.vertices, v_id, 0)\n",
    "            self.hexes = self.hexes[(self.hexes[:,0] != v_id) & \n",
    "                                    (self.hexes[:,1] != v_id) & \n",
    "                                    (self.hexes[:,2] != v_id) & \n",
    "                                    (self.hexes[:,3] != v_id) &\n",
    "                                    (self.hexes[:,4] != v_id) &\n",
    "                                    (self.hexes[:,5] != v_id) &\n",
    "                                    (self.hexes[:,6] != v_id) &\n",
    "                                    (self.hexes[:,7] != v_id)]\n",
    "            \n",
    "            self.hexes[(self.hexes[:,0] > v_id)] -= np.array([1, 0, 0, 0, 0, 0, 0, 0])\n",
    "            self.hexes[(self.hexes[:,1] > v_id)] -= np.array([0, 1, 0, 0, 0, 0, 0, 0])\n",
    "            self.hexes[(self.hexes[:,2] > v_id)] -= np.array([0, 0, 1, 0, 0, 0, 0, 0])\n",
    "            self.hexes[(self.hexes[:,3] > v_id)] -= np.array([0, 0, 0, 1, 0, 0, 0, 0])\n",
    "            self.hexes[(self.hexes[:,4] > v_id)] -= np.array([0, 0, 0, 0, 1, 0, 0, 0])\n",
    "            self.hexes[(self.hexes[:,5] > v_id)] -= np.array([0, 0, 0, 0, 0, 1, 0, 0])\n",
    "            self.hexes[(self.hexes[:,6] > v_id)] -= np.array([0, 0, 0, 0, 0, 0, 1, 0])\n",
    "            self.hexes[(self.hexes[:,7] > v_id)] -= np.array([0, 0, 0, 0, 0, 0, 0, 1])\n",
    "            \n",
    "            vtx_ids[vtx_ids > v_id] -= 1;\n",
    "            \n",
    "        self.__load_operations()\n",
    "        \n",
    "        \n",
    "    def __load_operations(self):\n",
    "        \n",
    "        self.__compute_faces()\n",
    "        self.__compute_adjacencies()\n",
    "        self._AbstractMesh__update_bounding_box()\n",
    "        self.set_cut(self.bbox[0,0], self.bbox[1,0], \n",
    "                     self.bbox[0,1], self.bbox[1,1], \n",
    "                     self.bbox[0,2], self.bbox[1,2])\n",
    "        self.__compute_metrics()\n",
    "    \n",
    "    def __compute_faces(self):\n",
    "        self.faces = np.c_[self.hexes[:,0], self.hexes[:,3], self.hexes[:, 2], self.hexes[:, 1], \n",
    "                           self.hexes[:,1], self.hexes[:,2], self.hexes[:, 6], self.hexes[:, 5], \n",
    "                           self.hexes[:,4], self.hexes[:,5], self.hexes[:, 6], self.hexes[:, 7], \n",
    "                           self.hexes[:,3], self.hexes[:,0], self.hexes[:, 4], self.hexes[:, 7], \n",
    "                           self.hexes[:,0], self.hexes[:,1], self.hexes[:, 5], self.hexes[:, 4], \n",
    "                           self.hexes[:,2], self.hexes[:,3], self.hexes[:, 7], self.hexes[:, 6]].reshape(-1,4)\n",
    "    \n",
    "    def __compute_adjacencies(self):\n",
    "        \n",
    "        map_ = dict()\n",
    "        adjs = np.zeros((self.num_hexes, 6), dtype=np.int)-1\n",
    "        #adjs = [[] for i in range(self.num_hexes)]\n",
    "        vtx2hex = [[] for i in range(self.num_vertices)]\n",
    "        hexes_idx = np.repeat(np.array(range(self.num_hexes)), 6)\n",
    "        self.hex2face = np.array(range(self.num_faces)).reshape(-1,6)\n",
    "        \n",
    "        for f, t in zip(self.faces, hexes_idx):\n",
    "            \n",
    "            vtx2hex[f[0]].append(t)\n",
    "            vtx2hex[f[1]].append(t)\n",
    "            vtx2hex[f[2]].append(t)\n",
    "            vtx2hex[f[3]].append(t)\n",
    "            \n",
    "            f =  (f[0], f[1], f[2], f[3])\n",
    "            f1 = (f[3], f[2], f[1], f[0])\n",
    "            f2 = (f[2], f[1], f[0], f[3])\n",
    "            f3 = (f[1], f[0], f[3], f[2])\n",
    "            f4 = (f[0], f[3], f[2], f[1])\n",
    "\n",
    "            try:\n",
    "                tmp = map_[f]\n",
    "            except KeyError:\n",
    "                tmp = None\n",
    "\n",
    "            if tmp is None:\n",
    "                map_[f1] = t\n",
    "                map_[f2] = t\n",
    "                map_[f3] = t\n",
    "                map_[f4] = t\n",
    "            else:\n",
    "                \n",
    "                idx_to_append1 = np.where(adjs[t] == -1)[0][0]\n",
    "                idx_to_append2 = np.where(adjs[map_[f]] == -1)[0][0]\n",
    "                adjs[t][idx_to_append1] = map_[f]\n",
    "                adjs[map_[f]][idx_to_append2] = t\n",
    "        \n",
    "        self.hex2hex = adjs#np.array([np.array(a) for a in adjs])\n",
    "        self.vtx2hex = np.array([np.unique(np.array(a)) for a in vtx2hex])\n",
    "        \n",
    "        \n",
    "    def load_from_file(self, filename):\n",
    "        \n",
    "        ext = filename.split('.')[-1]\n",
    "        \n",
    "        if ext == 'mesh':\n",
    "            self.vertices, self.hexes, self.labels = utils.read_mesh(filename)\n",
    "        else:\n",
    "            raise Exception(\"File Extension unknown\")\n",
    "    \n",
    "    \n",
    "        self.__load_operations()\n",
    "        \n",
    "    \n",
    "    def save_file(self, filename):\n",
    "        \n",
    "        ext = filename.split('.')[-1]\n",
    "        \n",
    "        if ext == 'mesh':\n",
    "            utils.save_mesh(self, filename)\n",
    "        \n",
    "    \n",
    "    def __compute_metrics(self): \n",
    "        self.simplex_metrics['scaled_jacobian'] = hex_scaled_jacobian(self.vertices, self.hexes)\n",
    "        self.simplex_metrics['volume'] = hex_volume(self.vertices, self.hexes)\n",
    "        \n",
    "    @property\n",
    "    def internals(self):\n",
    "        \n",
    "        if self.__internal_hexes is None:\n",
    "            self.__internal_hexes = np.all(a.hex2hex != -1, axis = 1)\n",
    "        \n",
    "        return self.__internal_hexes\n",
    "        \n",
    "    \n",
    "    def boundary(self, flip_x = False, flip_y = False, flip_z = False):\n",
    "        \n",
    "        min_x = self.cut['min_x']\n",
    "        max_x = self.cut['max_x']\n",
    "        min_y = self.cut['min_y']\n",
    "        max_y = self.cut['max_y']\n",
    "        min_z = self.cut['min_z']\n",
    "        max_z = self.cut['max_z']\n",
    "            \n",
    "        x_range = np.logical_xor(flip_x,((self.simplex_centroids[:,0] >= min_x) & (self.simplex_centroids[:,0] <= max_x)))\n",
    "        y_range = np.logical_xor(flip_y,((self.simplex_centroids[:,1] >= min_y) & (self.simplex_centroids[:,1] <= max_y)))\n",
    "        z_range = np.logical_xor(flip_z,((self.simplex_centroids[:,2] >= min_z) & (self.simplex_centroids[:,2] <= max_z)))\n",
    "        cut_range = x_range & y_range & z_range\n",
    "        \n",
    "        indices = np.where(self.internals)[0]\n",
    "        cut_range[indices[np.all(cut_range[self.hex2hex[indices]], axis=1)]] = False\n",
    "        cut_range = np.repeat(cut_range, 6)\n",
    "        return self.faces[cut_range], cut_range\n",
    "        \n",
    "\n",
    "        \n",
    "    @property\n",
    "    def simplex_centroids(self):\n",
    "        \n",
    "        if self._AbstractMesh__simplex_centroids is None:\n",
    "            self._AbstractMesh__simplex_centroids = self.vertices[self.hexes].mean(axis = 1)\n",
    "        \n",
    "        return self._AbstractMesh__simplex_centroids\n",
    "\n",
    "       \n",
    "    def __repr__(self):\n",
    "        self.show()\n",
    "        return f\"Showing {self.boundary()[0].shape[0]} polygons.\"\n",
    "    \n",
    "    "
   ]
  },
  {
   "cell_type": "code",
   "execution_count": 2,
   "metadata": {},
   "outputs": [],
   "source": [
    "a = Hexmesh()"
   ]
  },
  {
   "cell_type": "code",
   "execution_count": 3,
   "metadata": {},
   "outputs": [
    {
     "ename": "IndexError",
     "evalue": "index 4 is out of bounds for axis 1 with size 4",
     "output_type": "error",
     "traceback": [
      "\u001b[0;31m---------------------------------------------------------------------------\u001b[0m",
      "\u001b[0;31mIndexError\u001b[0m                                Traceback (most recent call last)",
      "\u001b[0;32m<ipython-input-3-d470f62c5c68>\u001b[0m in \u001b[0;36m<module>\u001b[0;34m\u001b[0m\n\u001b[1;32m      1\u001b[0m \u001b[0;32mfrom\u001b[0m \u001b[0mtime\u001b[0m \u001b[0;32mimport\u001b[0m \u001b[0mtime\u001b[0m\u001b[0;34m\u001b[0m\u001b[0;34m\u001b[0m\u001b[0m\n\u001b[1;32m      2\u001b[0m \u001b[0mstart\u001b[0m \u001b[0;34m=\u001b[0m \u001b[0mtime\u001b[0m\u001b[0;34m(\u001b[0m\u001b[0;34m)\u001b[0m\u001b[0;34m\u001b[0m\u001b[0;34m\u001b[0m\u001b[0m\n\u001b[0;32m----> 3\u001b[0;31m \u001b[0ma\u001b[0m\u001b[0;34m.\u001b[0m\u001b[0mload_from_file\u001b[0m\u001b[0;34m(\u001b[0m\u001b[0;34m\"ellipsoid.mesh\"\u001b[0m\u001b[0;34m)\u001b[0m\u001b[0;34m\u001b[0m\u001b[0;34m\u001b[0m\u001b[0m\n\u001b[0m\u001b[1;32m      4\u001b[0m \u001b[0mprint\u001b[0m\u001b[0;34m(\u001b[0m\u001b[0mtime\u001b[0m\u001b[0;34m(\u001b[0m\u001b[0;34m)\u001b[0m\u001b[0;34m-\u001b[0m\u001b[0mstart\u001b[0m\u001b[0;34m)\u001b[0m\u001b[0;34m\u001b[0m\u001b[0;34m\u001b[0m\u001b[0m\n",
      "\u001b[0;32m<ipython-input-1-31b1be11ae08>\u001b[0m in \u001b[0;36mload_from_file\u001b[0;34m(self, filename)\u001b[0m\n\u001b[1;32m    195\u001b[0m \u001b[0;34m\u001b[0m\u001b[0m\n\u001b[1;32m    196\u001b[0m \u001b[0;34m\u001b[0m\u001b[0m\n\u001b[0;32m--> 197\u001b[0;31m         \u001b[0mself\u001b[0m\u001b[0;34m.\u001b[0m\u001b[0m__load_operations\u001b[0m\u001b[0;34m(\u001b[0m\u001b[0;34m)\u001b[0m\u001b[0;34m\u001b[0m\u001b[0;34m\u001b[0m\u001b[0m\n\u001b[0m\u001b[1;32m    198\u001b[0m \u001b[0;34m\u001b[0m\u001b[0m\n\u001b[1;32m    199\u001b[0m \u001b[0;34m\u001b[0m\u001b[0m\n",
      "\u001b[0;32m<ipython-input-1-31b1be11ae08>\u001b[0m in \u001b[0;36m__load_operations\u001b[0;34m(self)\u001b[0m\n\u001b[1;32m    132\u001b[0m                      \u001b[0mself\u001b[0m\u001b[0;34m.\u001b[0m\u001b[0mbbox\u001b[0m\u001b[0;34m[\u001b[0m\u001b[0;36m0\u001b[0m\u001b[0;34m,\u001b[0m\u001b[0;36m1\u001b[0m\u001b[0;34m]\u001b[0m\u001b[0;34m,\u001b[0m \u001b[0mself\u001b[0m\u001b[0;34m.\u001b[0m\u001b[0mbbox\u001b[0m\u001b[0;34m[\u001b[0m\u001b[0;36m1\u001b[0m\u001b[0;34m,\u001b[0m\u001b[0;36m1\u001b[0m\u001b[0;34m]\u001b[0m\u001b[0;34m,\u001b[0m\u001b[0;34m\u001b[0m\u001b[0;34m\u001b[0m\u001b[0m\n\u001b[1;32m    133\u001b[0m                      self.bbox[0,2], self.bbox[1,2])\n\u001b[0;32m--> 134\u001b[0;31m         \u001b[0mself\u001b[0m\u001b[0;34m.\u001b[0m\u001b[0m__compute_metrics\u001b[0m\u001b[0;34m(\u001b[0m\u001b[0;34m)\u001b[0m\u001b[0;34m\u001b[0m\u001b[0;34m\u001b[0m\u001b[0m\n\u001b[0m\u001b[1;32m    135\u001b[0m \u001b[0;34m\u001b[0m\u001b[0m\n\u001b[1;32m    136\u001b[0m     \u001b[0;32mdef\u001b[0m \u001b[0m__compute_faces\u001b[0m\u001b[0;34m(\u001b[0m\u001b[0mself\u001b[0m\u001b[0;34m)\u001b[0m\u001b[0;34m:\u001b[0m\u001b[0;34m\u001b[0m\u001b[0;34m\u001b[0m\u001b[0m\n",
      "\u001b[0;32m<ipython-input-1-31b1be11ae08>\u001b[0m in \u001b[0;36m__compute_metrics\u001b[0;34m(self)\u001b[0m\n\u001b[1;32m    208\u001b[0m     \u001b[0;32mdef\u001b[0m \u001b[0m__compute_metrics\u001b[0m\u001b[0;34m(\u001b[0m\u001b[0mself\u001b[0m\u001b[0;34m)\u001b[0m\u001b[0;34m:\u001b[0m\u001b[0;34m\u001b[0m\u001b[0;34m\u001b[0m\u001b[0m\n\u001b[1;32m    209\u001b[0m         \u001b[0mself\u001b[0m\u001b[0;34m.\u001b[0m\u001b[0msimplex_metrics\u001b[0m\u001b[0;34m[\u001b[0m\u001b[0;34m'scaled_jacobian'\u001b[0m\u001b[0;34m]\u001b[0m \u001b[0;34m=\u001b[0m \u001b[0mhex_scaled_jacobian\u001b[0m\u001b[0;34m(\u001b[0m\u001b[0mself\u001b[0m\u001b[0;34m.\u001b[0m\u001b[0mvertices\u001b[0m\u001b[0;34m,\u001b[0m \u001b[0mself\u001b[0m\u001b[0;34m.\u001b[0m\u001b[0mhexes\u001b[0m\u001b[0;34m)\u001b[0m\u001b[0;34m\u001b[0m\u001b[0;34m\u001b[0m\u001b[0m\n\u001b[0;32m--> 210\u001b[0;31m         \u001b[0mself\u001b[0m\u001b[0;34m.\u001b[0m\u001b[0msimplex_metrics\u001b[0m\u001b[0;34m[\u001b[0m\u001b[0;34m'volume'\u001b[0m\u001b[0;34m]\u001b[0m \u001b[0;34m=\u001b[0m \u001b[0mhex_volume\u001b[0m\u001b[0;34m(\u001b[0m\u001b[0mself\u001b[0m\u001b[0;34m.\u001b[0m\u001b[0mvertices\u001b[0m\u001b[0;34m,\u001b[0m \u001b[0mself\u001b[0m\u001b[0;34m.\u001b[0m\u001b[0mfaces\u001b[0m\u001b[0;34m)\u001b[0m\u001b[0;34m\u001b[0m\u001b[0;34m\u001b[0m\u001b[0m\n\u001b[0m\u001b[1;32m    211\u001b[0m \u001b[0;34m\u001b[0m\u001b[0m\n\u001b[1;32m    212\u001b[0m     \u001b[0;34m@\u001b[0m\u001b[0mproperty\u001b[0m\u001b[0;34m\u001b[0m\u001b[0;34m\u001b[0m\u001b[0m\n",
      "\u001b[0;32m~/py3DViewer/metrics.py\u001b[0m in \u001b[0;36mhex_volume\u001b[0;34m(vertices, hexes)\u001b[0m\n\u001b[1;32m    188\u001b[0m         \u001b[0mp2\u001b[0m \u001b[0;34m=\u001b[0m \u001b[0mvertices\u001b[0m\u001b[0;34m[\u001b[0m\u001b[0mhexes\u001b[0m\u001b[0;34m[\u001b[0m\u001b[0;34m:\u001b[0m\u001b[0;34m,\u001b[0m\u001b[0;36m2\u001b[0m\u001b[0;34m]\u001b[0m\u001b[0;34m]\u001b[0m\u001b[0;34m\u001b[0m\u001b[0;34m\u001b[0m\u001b[0m\n\u001b[1;32m    189\u001b[0m         \u001b[0mp3\u001b[0m \u001b[0;34m=\u001b[0m \u001b[0mvertices\u001b[0m\u001b[0;34m[\u001b[0m\u001b[0mhexes\u001b[0m\u001b[0;34m[\u001b[0m\u001b[0;34m:\u001b[0m\u001b[0;34m,\u001b[0m\u001b[0;36m3\u001b[0m\u001b[0;34m]\u001b[0m\u001b[0;34m]\u001b[0m\u001b[0;34m\u001b[0m\u001b[0;34m\u001b[0m\u001b[0m\n\u001b[0;32m--> 190\u001b[0;31m         \u001b[0mp4\u001b[0m \u001b[0;34m=\u001b[0m \u001b[0mvertices\u001b[0m\u001b[0;34m[\u001b[0m\u001b[0mhexes\u001b[0m\u001b[0;34m[\u001b[0m\u001b[0;34m:\u001b[0m\u001b[0;34m,\u001b[0m\u001b[0;36m4\u001b[0m\u001b[0;34m]\u001b[0m\u001b[0;34m]\u001b[0m\u001b[0;34m\u001b[0m\u001b[0;34m\u001b[0m\u001b[0m\n\u001b[0m\u001b[1;32m    191\u001b[0m         \u001b[0mp5\u001b[0m \u001b[0;34m=\u001b[0m \u001b[0mvertices\u001b[0m\u001b[0;34m[\u001b[0m\u001b[0mhexes\u001b[0m\u001b[0;34m[\u001b[0m\u001b[0;34m:\u001b[0m\u001b[0;34m,\u001b[0m\u001b[0;36m5\u001b[0m\u001b[0;34m]\u001b[0m\u001b[0;34m]\u001b[0m\u001b[0;34m\u001b[0m\u001b[0;34m\u001b[0m\u001b[0m\n\u001b[1;32m    192\u001b[0m         \u001b[0mp6\u001b[0m \u001b[0;34m=\u001b[0m \u001b[0mvertices\u001b[0m\u001b[0;34m[\u001b[0m\u001b[0mhexes\u001b[0m\u001b[0;34m[\u001b[0m\u001b[0;34m:\u001b[0m\u001b[0;34m,\u001b[0m\u001b[0;36m6\u001b[0m\u001b[0;34m]\u001b[0m\u001b[0;34m]\u001b[0m\u001b[0;34m\u001b[0m\u001b[0;34m\u001b[0m\u001b[0m\n",
      "\u001b[0;31mIndexError\u001b[0m: index 4 is out of bounds for axis 1 with size 4"
     ]
    }
   ],
   "source": [
    "from time import time\n",
    "start = time()\n",
    "a.load_from_file(\"ellipsoid.mesh\")\n",
    "print(time()-start)"
   ]
  },
  {
   "cell_type": "code",
   "execution_count": 4,
   "metadata": {},
   "outputs": [
    {
     "data": {
      "application/vnd.jupyter.widget-view+json": {
       "model_id": "0b24488fc26a4e7486defa41b760d144",
       "version_major": 2,
       "version_minor": 0
      },
      "text/plain": [
       "Accordion(children=(VBox(children=(VBox(children=(HBox(children=(FloatRangeSlider(value=(-0.209, 0.209), descr…"
      ]
     },
     "metadata": {},
     "output_type": "display_data"
    },
    {
     "name": "stderr",
     "output_type": "stream",
     "text": [
      "/usr/local/lib/python3.7/site-packages/pythreejs/traits.py:177: UserWarning: 64-bit data types not supported for WebGL data, casting to 32-bit.\n",
      "  warnings.warn('64-bit data types not supported for WebGL '\n"
     ]
    },
    {
     "data": {
      "application/vnd.jupyter.widget-view+json": {
       "model_id": "e8ea34a59dee4d48ab3d8b5936e6757d",
       "version_major": 2,
       "version_minor": 0
      },
      "text/plain": [
       "Renderer(camera=PerspectiveCamera(children=(DirectionalLight(intensity=0.5, position=(0.0, 10.0, 30.0), quater…"
      ]
     },
     "metadata": {},
     "output_type": "display_data"
    }
   ],
   "source": [
    "v = Viewer(a).show()"
   ]
  },
  {
   "cell_type": "code",
   "execution_count": 6,
   "metadata": {},
   "outputs": [
    {
     "data": {
      "text/plain": [
       "dict_keys([])"
      ]
     },
     "execution_count": 6,
     "metadata": {},
     "output_type": "execute_result"
    }
   ],
   "source": [
    "a.simplex_metrics.keys()"
   ]
  },
  {
   "cell_type": "code",
   "execution_count": 1,
   "metadata": {},
   "outputs": [],
   "source": [
    "from Trimesh import Trimesh"
   ]
  },
  {
   "cell_type": "code",
   "execution_count": 2,
   "metadata": {},
   "outputs": [],
   "source": [
    "a = Trimesh()"
   ]
  },
  {
   "cell_type": "code",
   "execution_count": 3,
   "metadata": {},
   "outputs": [],
   "source": [
    "a.load_from_file(\"goyle.obj\")"
   ]
  },
  {
   "cell_type": "code",
   "execution_count": 6,
   "metadata": {},
   "outputs": [
    {
     "data": {
      "application/vnd.jupyter.widget-view+json": {
       "model_id": "b06aa6cf39e24532b066cb7d46ddb92f",
       "version_major": 2,
       "version_minor": 0
      },
      "text/plain": [
       "Accordion(children=(VBox(children=(VBox(children=(HBox(children=(FloatRangeSlider(value=(-6.495, -3.496), desc…"
      ]
     },
     "metadata": {},
     "output_type": "display_data"
    },
    {
     "name": "stderr",
     "output_type": "stream",
     "text": [
      "/usr/local/lib/python3.7/site-packages/pythreejs/traits.py:177: UserWarning: 64-bit data types not supported for WebGL data, casting to 32-bit.\n",
      "  warnings.warn('64-bit data types not supported for WebGL '\n"
     ]
    },
    {
     "data": {
      "application/vnd.jupyter.widget-view+json": {
       "model_id": "607cd828acd7493f9ec1eb9df37fb6c2",
       "version_major": 2,
       "version_minor": 0
      },
      "text/plain": [
       "Renderer(camera=PerspectiveCamera(children=(DirectionalLight(intensity=0.5, position=(0.0, 10.0, 30.0), quater…"
      ]
     },
     "metadata": {},
     "output_type": "display_data"
    }
   ],
   "source": [
    "from Visualization import Viewer\n",
    "Viewer(a).show()"
   ]
  },
  {
   "cell_type": "code",
   "execution_count": 4,
   "metadata": {},
   "outputs": [],
   "source": [
    "prova = np.array([[10,10,10], [20,20,20]])"
   ]
  },
  {
   "cell_type": "code",
   "execution_count": 7,
   "metadata": {},
   "outputs": [
    {
     "ename": "ValueError",
     "evalue": "operands could not be broadcast together with shapes (2,3) (2,) ",
     "output_type": "error",
     "traceback": [
      "\u001b[0;31m---------------------------------------------------------------------------\u001b[0m",
      "\u001b[0;31mValueError\u001b[0m                                Traceback (most recent call last)",
      "\u001b[0;32m<ipython-input-7-08b06173e3a0>\u001b[0m in \u001b[0;36m<module>\u001b[0;34m\u001b[0m\n\u001b[0;32m----> 1\u001b[0;31m \u001b[0mprova\u001b[0m\u001b[0;34m/\u001b[0m\u001b[0mnp\u001b[0m\u001b[0;34m.\u001b[0m\u001b[0marray\u001b[0m\u001b[0;34m(\u001b[0m\u001b[0;34m[\u001b[0m\u001b[0;36m2\u001b[0m\u001b[0;34m,\u001b[0m\u001b[0;36m5\u001b[0m\u001b[0;34m]\u001b[0m\u001b[0;34m)\u001b[0m\u001b[0;34m\u001b[0m\u001b[0;34m\u001b[0m\u001b[0m\n\u001b[0m",
      "\u001b[0;31mValueError\u001b[0m: operands could not be broadcast together with shapes (2,3) (2,) "
     ]
    }
   ],
   "source": [
    "prova/np.array([2,5])"
   ]
  },
  {
   "cell_type": "code",
   "execution_count": 8,
   "metadata": {},
   "outputs": [
    {
     "data": {
      "text/plain": [
       "array([0.92000487, 0.95132056, 0.93644691, 0.96310381, 0.89288629,\n",
       "       0.94909051, 0.91241286, 0.95810451, 0.90764909, 0.84304772])"
      ]
     },
     "execution_count": 8,
     "metadata": {},
     "output_type": "execute_result"
    }
   ],
   "source": [
    "a.simplex_metrics['scaled_jacobian'][:10]"
   ]
  },
  {
   "cell_type": "code",
   "execution_count": 6,
   "metadata": {},
   "outputs": [
    {
     "data": {
      "text/plain": [
       "(6816,)"
      ]
     },
     "execution_count": 6,
     "metadata": {},
     "output_type": "execute_result"
    }
   ],
   "source": [
    "hex_volume(a.vertices, a.hexes).shape"
   ]
  },
  {
   "cell_type": "code",
   "execution_count": 5,
   "metadata": {},
   "outputs": [
    {
     "data": {
      "text/plain": [
       "(6816, 8)"
      ]
     },
     "execution_count": 5,
     "metadata": {},
     "output_type": "execute_result"
    }
   ],
   "source": [
    "a.hexes.shape"
   ]
  },
  {
   "cell_type": "code",
   "execution_count": null,
   "metadata": {},
   "outputs": [],
   "source": []
  }
 ],
 "metadata": {
  "kernelspec": {
   "display_name": "Python 3",
   "language": "python",
   "name": "python3"
  },
  "language_info": {
   "codemirror_mode": {
    "name": "ipython",
    "version": 3
   },
   "file_extension": ".py",
   "mimetype": "text/x-python",
   "name": "python",
   "nbconvert_exporter": "python",
   "pygments_lexer": "ipython3",
   "version": "3.7.4"
  }
 },
 "nbformat": 4,
 "nbformat_minor": 4
}
