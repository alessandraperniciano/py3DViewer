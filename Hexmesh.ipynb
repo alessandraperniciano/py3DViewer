{
 "cells": [
  {
   "cell_type": "code",
   "execution_count": 1,
   "metadata": {},
   "outputs": [],
   "source": [
    "from AbstractMesh import AbstractMesh\n",
    "from Visualization import Viewer\n",
    "import numpy as np\n",
    "import utils\n",
    "from metrics import hex_scaled_jacobian, hex_volume\n",
    "\n",
    "cut_range = []\n",
    "\n",
    "class Hexmesh(AbstractMesh):\n",
    "    \n",
    "    def __init__(self, vertices = None, tets = None, labels = None):\n",
    "        \n",
    "        self.hexes            = None #npArray (Nx4) \n",
    "        self.labels           = None #npArray (Nx1) \n",
    "        self.hex2hex          = None #npArray (Nx4?) \n",
    "        self.face2hex         = None #npArray (Nx2?)\n",
    "        self.hex2face         = None #npArray (Nx6)\n",
    "        self.vtx2hex          = None #npArray (NxM)\n",
    "        self.__internal_hexes = None\n",
    "        \n",
    "        super(Hexmesh, self).__init__()\n",
    "        \n",
    "        if vertices and hexes:\n",
    "            \n",
    "            self.vertices = np.array(vertices) \n",
    "            self.tets = np.array(hexes)\n",
    "            \n",
    "            if labels:\n",
    "                self.labels = np.array(labels)\n",
    "            \n",
    "            self.__load_operations()\n",
    "         \n",
    "    \n",
    "    # ==================== METHODS ==================== #\n",
    "    \n",
    "    def show(self, width = 700, height = 700, mesh_color = None):\n",
    "        #TODO\n",
    "        Viewer(self, UI=False, mesh_color=mesh_color).show(width = width , height = height)\n",
    "    \n",
    "    \n",
    "    @property\n",
    "    def num_faces(self):\n",
    "        \n",
    "        return self.faces.shape[0]\n",
    "\n",
    "    @property\n",
    "    def num_hexes(self):\n",
    "        \n",
    "        return self.hexes.shape[0]\n",
    "\n",
    "    def add_hex(self, tet_id0, tet_id1, tet_id2, tet_id3, tet_id4, tet_id5, tet_id6, tet_id7):\n",
    "        \n",
    "        self.add_tets([tet_id0, tet_id1, tet_id2, tet_id3, tet_id4, tet_id5, tet_id6, tet_id7])\n",
    "        \n",
    "        \n",
    "    def add_hexes(self, new_hexes):\n",
    "            \n",
    "        new_hexes = np.array(new_hexes)\n",
    "        new_hexes.shape = (-1,3)\n",
    "                \n",
    "        if new_hexes[(new_hexes[:,0] > self.num_vertices) | \n",
    "                     (new_hexes[:,1] > self.num_vertices) | \n",
    "                     (new_hexes[:,2] > self.num_vertices) | \n",
    "                     (new_hexes[:,3] > self.num_vertices) |\n",
    "                     (new_hexes[:,4] > self.num_vertices) |\n",
    "                     (new_hexes[:,5] > self.num_vertices) |\n",
    "                     (new_hexes[:,6] > self.num_vertices) |\n",
    "                     (new_hexes[:,7] > self.num_vertices)].shape[0] > self.num_vertices:\n",
    "            raise Exception('The ID of a vertex must be less than the number of vertices')\n",
    "\n",
    "        self.tets = np.concatenate([self.tets, new_hexes])\n",
    "        self.__load_operations()\n",
    "        \n",
    "    \n",
    "    def remove_tet(self, hex_id):\n",
    "        \n",
    "        self.remove_tets([hex_id])\n",
    "        \n",
    "        \n",
    "    def remove_tets(self, hex_ids):\n",
    "        \n",
    "        hex_ids = np.array(hex_ids)\n",
    "        mask = np.ones(self.num_hexes)\n",
    "        mask[hex_ids] = 0\n",
    "        mask = mask.astype(np.bool)\n",
    "        \n",
    "        self.hexes = self.hexes[mask]\n",
    "        self.__load_operations()\n",
    "        \n",
    "    \n",
    "    def remove_vertex(self,vtx_id):\n",
    "        \n",
    "        self.remove_vertices([vtx_id])\n",
    "    \n",
    "    \n",
    "    def remove_vertices(self, vtx_ids):\n",
    "        \n",
    "        vtx_ids = np.array(vtx_ids)\n",
    "        \n",
    "        for v_id in vtx_ids:\n",
    "                        \n",
    "            self.vertices = np.delete(self.vertices, v_id, 0)\n",
    "            self.hexes = self.hexes[(self.hexes[:,0] != v_id) & \n",
    "                                    (self.hexes[:,1] != v_id) & \n",
    "                                    (self.hexes[:,2] != v_id) & \n",
    "                                    (self.hexes[:,3] != v_id) &\n",
    "                                    (self.hexes[:,4] != v_id) &\n",
    "                                    (self.hexes[:,5] != v_id) &\n",
    "                                    (self.hexes[:,6] != v_id) &\n",
    "                                    (self.hexes[:,7] != v_id)]\n",
    "            \n",
    "            self.hexes[(self.hexes[:,0] > v_id)] -= np.array([1, 0, 0, 0, 0, 0, 0, 0])\n",
    "            self.hexes[(self.hexes[:,1] > v_id)] -= np.array([0, 1, 0, 0, 0, 0, 0, 0])\n",
    "            self.hexes[(self.hexes[:,2] > v_id)] -= np.array([0, 0, 1, 0, 0, 0, 0, 0])\n",
    "            self.hexes[(self.hexes[:,3] > v_id)] -= np.array([0, 0, 0, 1, 0, 0, 0, 0])\n",
    "            self.hexes[(self.hexes[:,4] > v_id)] -= np.array([0, 0, 0, 0, 1, 0, 0, 0])\n",
    "            self.hexes[(self.hexes[:,5] > v_id)] -= np.array([0, 0, 0, 0, 0, 1, 0, 0])\n",
    "            self.hexes[(self.hexes[:,6] > v_id)] -= np.array([0, 0, 0, 0, 0, 0, 1, 0])\n",
    "            self.hexes[(self.hexes[:,7] > v_id)] -= np.array([0, 0, 0, 0, 0, 0, 0, 1])\n",
    "            \n",
    "            vtx_ids[vtx_ids > v_id] -= 1;\n",
    "            \n",
    "        self.__load_operations()\n",
    "        \n",
    "        \n",
    "    def __load_operations(self):\n",
    "        \n",
    "        self.__compute_faces()\n",
    "        self.__compute_adjacencies()\n",
    "        self._AbstractMesh__update_bounding_box()\n",
    "        self.set_cut(self.bbox[0,0], self.bbox[1,0], \n",
    "                     self.bbox[0,1], self.bbox[1,1], \n",
    "                     self.bbox[0,2], self.bbox[1,2])\n",
    "        self.__compute_metrics()\n",
    "    \n",
    "    def __compute_faces(self):\n",
    "        self.faces = np.c_[self.hexes[:,0], self.hexes[:,3], self.hexes[:, 2], self.hexes[:, 1], \n",
    "                           self.hexes[:,1], self.hexes[:,2], self.hexes[:, 6], self.hexes[:, 5], \n",
    "                           self.hexes[:,4], self.hexes[:,5], self.hexes[:, 6], self.hexes[:, 7], \n",
    "                           self.hexes[:,3], self.hexes[:,0], self.hexes[:, 4], self.hexes[:, 7], \n",
    "                           self.hexes[:,0], self.hexes[:,1], self.hexes[:, 5], self.hexes[:, 4], \n",
    "                           self.hexes[:,2], self.hexes[:,3], self.hexes[:, 7], self.hexes[:, 6]].reshape(-1,4)\n",
    "    \n",
    "    def __compute_adjacencies(self):\n",
    "        \n",
    "        map_ = dict()\n",
    "        adjs = np.zeros((self.num_hexes, 6), dtype=np.int)-1\n",
    "        #adjs = [[] for i in range(self.num_hexes)]\n",
    "        vtx2hex = [[] for i in range(self.num_vertices)]\n",
    "        hexes_idx = np.repeat(np.array(range(self.num_hexes)), 6)\n",
    "        self.hex2face = np.array(range(self.num_faces)).reshape(-1,6)\n",
    "        \n",
    "        for f, t in zip(self.faces, hexes_idx):\n",
    "            \n",
    "            vtx2hex[f[0]].append(t)\n",
    "            vtx2hex[f[1]].append(t)\n",
    "            vtx2hex[f[2]].append(t)\n",
    "            vtx2hex[f[3]].append(t)\n",
    "            \n",
    "            f =  (f[0], f[1], f[2], f[3])\n",
    "            f1 = (f[3], f[2], f[1], f[0])\n",
    "            f2 = (f[2], f[1], f[0], f[3])\n",
    "            f3 = (f[1], f[0], f[3], f[2])\n",
    "            f4 = (f[0], f[3], f[2], f[1])\n",
    "\n",
    "            try:\n",
    "                tmp = map_[f]\n",
    "            except KeyError:\n",
    "                tmp = None\n",
    "\n",
    "            if tmp is None:\n",
    "                map_[f1] = t\n",
    "                map_[f2] = t\n",
    "                map_[f3] = t\n",
    "                map_[f4] = t\n",
    "            else:\n",
    "                \n",
    "                idx_to_append1 = np.where(adjs[t] == -1)[0][0]\n",
    "                idx_to_append2 = np.where(adjs[map_[f]] == -1)[0][0]\n",
    "                adjs[t][idx_to_append1] = map_[f]\n",
    "                adjs[map_[f]][idx_to_append2] = t\n",
    "        \n",
    "        self.hex2hex = adjs#np.array([np.array(a) for a in adjs])\n",
    "        self.vtx2hex = np.array([np.unique(np.array(a)) for a in vtx2hex])\n",
    "        \n",
    "        \n",
    "    def load_from_file(self, filename):\n",
    "        \n",
    "        ext = filename.split('.')[-1]\n",
    "        \n",
    "        if ext == 'mesh':\n",
    "            self.vertices, self.hexes, self.labels = utils.read_mesh(filename)\n",
    "        else:\n",
    "            raise Exception(\"File Extension unknown\")\n",
    "    \n",
    "    \n",
    "        self.__load_operations()\n",
    "        \n",
    "        return self\n",
    "        \n",
    "    \n",
    "    def save_file(self, filename):\n",
    "        \n",
    "        ext = filename.split('.')[-1]\n",
    "        \n",
    "        if ext == 'mesh':\n",
    "            utils.save_mesh(self, filename)\n",
    "        \n",
    "    \n",
    "    def __compute_metrics(self): \n",
    "        self.simplex_metrics['scaled_jacobian'] = hex_scaled_jacobian(self.vertices, self.hexes)\n",
    "        self.simplex_metrics['volume'] = hex_volume(self.vertices, self.hexes)\n",
    "        \n",
    "    @property\n",
    "    def internals(self):\n",
    "        \n",
    "        if self.__internal_hexes is None:\n",
    "            self.__internal_hexes = np.all(a.hex2hex != -1, axis = 1)\n",
    "        \n",
    "        return self.__internal_hexes\n",
    "        \n",
    "    \n",
    "    def boundary(self, flip_x = False, flip_y = False, flip_z = False):\n",
    "        \n",
    "        min_x = self.cut['min_x']\n",
    "        max_x = self.cut['max_x']\n",
    "        min_y = self.cut['min_y']\n",
    "        max_y = self.cut['max_y']\n",
    "        min_z = self.cut['min_z']\n",
    "        max_z = self.cut['max_z']\n",
    "            \n",
    "        x_range = np.logical_xor(flip_x,((self.simplex_centroids[:,0] >= min_x) & (self.simplex_centroids[:,0] <= max_x)))\n",
    "        y_range = np.logical_xor(flip_y,((self.simplex_centroids[:,1] >= min_y) & (self.simplex_centroids[:,1] <= max_y)))\n",
    "        z_range = np.logical_xor(flip_z,((self.simplex_centroids[:,2] >= min_z) & (self.simplex_centroids[:,2] <= max_z)))\n",
    "        cut_range = x_range & y_range & z_range\n",
    "        \n",
    "        indices = np.where(self.internals)[0]\n",
    "        cut_range[indices[np.all(cut_range[self.hex2hex[indices]], axis=1)]] = False\n",
    "        cut_range = np.repeat(cut_range, 6)\n",
    "        return self.faces[cut_range], cut_range\n",
    "        \n",
    "\n",
    "        \n",
    "    @property\n",
    "    def simplex_centroids(self):\n",
    "        \n",
    "        if self._AbstractMesh__simplex_centroids is None:\n",
    "            self._AbstractMesh__simplex_centroids = self.vertices[self.hexes].mean(axis = 1)\n",
    "        \n",
    "        return self._AbstractMesh__simplex_centroids\n",
    "\n",
    "       \n",
    "    def __repr__(self):\n",
    "        self.show()\n",
    "        return f\"Showing {self.boundary()[0].shape[0]} polygons.\"\n",
    "    \n",
    "    "
   ]
  },
  {
   "cell_type": "code",
   "execution_count": 2,
   "metadata": {},
   "outputs": [],
   "source": [
    "a = Hexmesh()"
   ]
  },
  {
   "cell_type": "code",
   "execution_count": 3,
   "metadata": {},
   "outputs": [
    {
     "name": "stdout",
     "output_type": "stream",
     "text": [
      "0.482586145401001\n"
     ]
    }
   ],
   "source": [
    "from time import time\n",
    "start = time()\n",
    "a.load_from_file(\"ellipsoid.mesh\")\n",
    "print(time()-start)"
   ]
  },
  {
   "cell_type": "code",
   "execution_count": 4,
   "metadata": {},
   "outputs": [
    {
     "data": {
      "application/vnd.jupyter.widget-view+json": {
       "model_id": "f9fa2f8495fa43729387ba0525e27390",
       "version_major": 2,
       "version_minor": 0
      },
      "text/plain": [
       "Accordion(children=(VBox(children=(VBox(children=(HBox(children=(FloatRangeSlider(value=(-0.209, 0.209), descr…"
      ]
     },
     "metadata": {},
     "output_type": "display_data"
    }
   ],
   "source": [
    "v = Viewer(a)"
   ]
  },
  {
   "cell_type": "code",
   "execution_count": 5,
   "metadata": {},
   "outputs": [
    {
     "name": "stderr",
     "output_type": "stream",
     "text": [
      "/usr/local/lib/python3.7/site-packages/pythreejs/traits.py:191: UserWarning: 64-bit data types not supported for WebGL data, casting to 32-bit.\n",
      "  warnings.warn('64-bit data types not supported for WebGL '\n"
     ]
    },
    {
     "data": {
      "application/vnd.jupyter.widget-view+json": {
       "model_id": "898607bce43842c59f9b1328ec162af3",
       "version_major": 2,
       "version_minor": 0
      },
      "text/plain": [
       "Renderer(camera=PerspectiveCamera(children=(DirectionalLight(intensity=0.5, position=(0.0, 10.0, 30.0), quater…"
      ]
     },
     "metadata": {},
     "output_type": "display_data"
    }
   ],
   "source": [
    "v.show()"
   ]
  },
  {
   "cell_type": "code",
   "execution_count": 6,
   "metadata": {},
   "outputs": [],
   "source": [
    "from Trimesh import Trimesh"
   ]
  },
  {
   "cell_type": "code",
   "execution_count": 7,
   "metadata": {},
   "outputs": [],
   "source": [
    "v.change_color_map(None)"
   ]
  },
  {
   "cell_type": "code",
   "execution_count": 8,
   "metadata": {},
   "outputs": [
    {
     "ename": "Exception",
     "evalue": "File Extension unknown",
     "output_type": "error",
     "traceback": [
      "\u001b[0;31m---------------------------------------------------------------------------\u001b[0m",
      "\u001b[0;31mException\u001b[0m                                 Traceback (most recent call last)",
      "\u001b[0;32m<ipython-input-8-f8e007e1ca79>\u001b[0m in \u001b[0;36m<module>\u001b[0;34m\u001b[0m\n\u001b[0;32m----> 1\u001b[0;31m \u001b[0ma\u001b[0m\u001b[0;34m.\u001b[0m\u001b[0mload_from_file\u001b[0m\u001b[0;34m(\u001b[0m\u001b[0;34m\"goyle.obj\"\u001b[0m\u001b[0;34m)\u001b[0m\u001b[0;34m\u001b[0m\u001b[0;34m\u001b[0m\u001b[0m\n\u001b[0m",
      "\u001b[0;32m<ipython-input-1-507be5248d2f>\u001b[0m in \u001b[0;36mload_from_file\u001b[0;34m(self, filename)\u001b[0m\n\u001b[1;32m    192\u001b[0m             \u001b[0mself\u001b[0m\u001b[0;34m.\u001b[0m\u001b[0mvertices\u001b[0m\u001b[0;34m,\u001b[0m \u001b[0mself\u001b[0m\u001b[0;34m.\u001b[0m\u001b[0mhexes\u001b[0m\u001b[0;34m,\u001b[0m \u001b[0mself\u001b[0m\u001b[0;34m.\u001b[0m\u001b[0mlabels\u001b[0m \u001b[0;34m=\u001b[0m \u001b[0mutils\u001b[0m\u001b[0;34m.\u001b[0m\u001b[0mread_mesh\u001b[0m\u001b[0;34m(\u001b[0m\u001b[0mfilename\u001b[0m\u001b[0;34m)\u001b[0m\u001b[0;34m\u001b[0m\u001b[0;34m\u001b[0m\u001b[0m\n\u001b[1;32m    193\u001b[0m         \u001b[0;32melse\u001b[0m\u001b[0;34m:\u001b[0m\u001b[0;34m\u001b[0m\u001b[0;34m\u001b[0m\u001b[0m\n\u001b[0;32m--> 194\u001b[0;31m             \u001b[0;32mraise\u001b[0m \u001b[0mException\u001b[0m\u001b[0;34m(\u001b[0m\u001b[0;34m\"File Extension unknown\"\u001b[0m\u001b[0;34m)\u001b[0m\u001b[0;34m\u001b[0m\u001b[0;34m\u001b[0m\u001b[0m\n\u001b[0m\u001b[1;32m    195\u001b[0m \u001b[0;34m\u001b[0m\u001b[0m\n\u001b[1;32m    196\u001b[0m \u001b[0;34m\u001b[0m\u001b[0m\n",
      "\u001b[0;31mException\u001b[0m: File Extension unknown"
     ]
    }
   ],
   "source": [
    "a.load_from_file(\"goyle.obj\")"
   ]
  },
  {
   "cell_type": "code",
   "execution_count": null,
   "metadata": {},
   "outputs": [],
   "source": [
    "from Visualization import Viewer\n",
    "Viewer(a).show()"
   ]
  },
  {
   "cell_type": "code",
   "execution_count": null,
   "metadata": {},
   "outputs": [],
   "source": [
    "prova = np.array([[10,10,10], [20,20,20]])"
   ]
  },
  {
   "cell_type": "code",
   "execution_count": null,
   "metadata": {},
   "outputs": [],
   "source": [
    "prova/np.array([2,5])"
   ]
  },
  {
   "cell_type": "code",
   "execution_count": null,
   "metadata": {},
   "outputs": [],
   "source": [
    "a.simplex_metrics['scaled_jacobian'][:10]"
   ]
  },
  {
   "cell_type": "code",
   "execution_count": null,
   "metadata": {},
   "outputs": [],
   "source": [
    "hex_volume(a.vertices, a.hexes).shape"
   ]
  },
  {
   "cell_type": "code",
   "execution_count": null,
   "metadata": {},
   "outputs": [],
   "source": [
    "a.hexes.shape"
   ]
  },
  {
   "cell_type": "code",
   "execution_count": null,
   "metadata": {},
   "outputs": [],
   "source": [
    "a.simplex_metrics['volume']"
   ]
  },
  {
   "cell_type": "code",
   "execution_count": null,
   "metadata": {},
   "outputs": [],
   "source": [
    "from Quadmesh import Quadmesh"
   ]
  },
  {
   "cell_type": "code",
   "execution_count": null,
   "metadata": {},
   "outputs": [],
   "source": [
    "tri = Quadmesh()\n",
    "tri.load_from_file('bunny_quad.obj')"
   ]
  },
  {
   "cell_type": "code",
   "execution_count": null,
   "metadata": {},
   "outputs": [],
   "source": [
    "Viewer(tri).show()"
   ]
  },
  {
   "cell_type": "code",
   "execution_count": null,
   "metadata": {},
   "outputs": [],
   "source": [
    "import Trimesh()"
   ]
  },
  {
   "cell_type": "code",
   "execution_count": null,
   "metadata": {},
   "outputs": [],
   "source": [
    "red_blue = np.array([(0.,0.,1.),(1.,1.,1.),(1.,0.,0.)])"
   ]
  },
  {
   "cell_type": "code",
   "execution_count": null,
   "metadata": {},
   "outputs": [],
   "source": [
    "import scipy\n",
    "np.interp([0,0,0], red_blue[0], red_blue[1])"
   ]
  },
  {
   "cell_type": "code",
   "execution_count": null,
   "metadata": {},
   "outputs": [],
   "source": [
    "from scipy import interpolate"
   ]
  },
  {
   "cell_type": "code",
   "execution_count": null,
   "metadata": {},
   "outputs": [],
   "source": [
    "f = interpolate.interp1d([0.0, 0.5, 1.0], [(0.,0.,1.),(1.,1.,1.),(1.,0.,0.)], axis=0, kind=\"quadratic\")"
   ]
  },
  {
   "cell_type": "code",
   "execution_count": null,
   "metadata": {},
   "outputs": [],
   "source": [
    "f(np.linspace(0,1,100))"
   ]
  },
  {
   "cell_type": "code",
   "execution_count": 9,
   "metadata": {},
   "outputs": [],
   "source": [
    "from Trimesh import Trimesh\n",
    "from Quadmesh import Quadmesh\n",
    "from Visualization import Viewer"
   ]
  },
  {
   "cell_type": "code",
   "execution_count": 10,
   "metadata": {},
   "outputs": [
    {
     "data": {
      "application/vnd.jupyter.widget-view+json": {
       "model_id": "42dc575b21ba47139ff4b7cf432c5152",
       "version_major": 2,
       "version_minor": 0
      },
      "text/plain": [
       "Accordion(children=(VBox(children=(VBox(children=(HBox(children=(FloatRangeSlider(value=(-0.501, 0.501), descr…"
      ]
     },
     "metadata": {},
     "output_type": "display_data"
    },
    {
     "name": "stderr",
     "output_type": "stream",
     "text": [
      "/usr/local/lib/python3.7/site-packages/pythreejs/traits.py:191: UserWarning: 64-bit data types not supported for WebGL data, casting to 32-bit.\n",
      "  warnings.warn('64-bit data types not supported for WebGL '\n"
     ]
    },
    {
     "data": {
      "application/vnd.jupyter.widget-view+json": {
       "model_id": "f7102bbc68fa4b10bd6f5e5fb9064ea7",
       "version_major": 2,
       "version_minor": 0
      },
      "text/plain": [
       "Renderer(camera=PerspectiveCamera(children=(DirectionalLight(intensity=0.5, position=(0.0, 10.0, 30.0), quater…"
      ]
     },
     "metadata": {},
     "output_type": "display_data"
    }
   ],
   "source": [
    "a = Trimesh().load_from_file('cube_tris.obj')\n",
    "b = Viewer(a)\n",
    "b.show()"
   ]
  },
  {
   "cell_type": "code",
   "execution_count": 11,
   "metadata": {},
   "outputs": [],
   "source": [
    "b.change_color_map()"
   ]
  },
  {
   "cell_type": "code",
   "execution_count": 1,
   "metadata": {},
   "outputs": [],
   "source": [
    "from Py3DViewer import *"
   ]
  },
  {
   "cell_type": "code",
   "execution_count": 2,
   "metadata": {},
   "outputs": [],
   "source": [
    "a = Quadmesh().load_from_file('example_meshes/bunny_quad.obj')"
   ]
  },
  {
   "cell_type": "code",
   "execution_count": 3,
   "metadata": {},
   "outputs": [
    {
     "data": {
      "application/vnd.jupyter.widget-view+json": {
       "model_id": "07090d3c0dc04d55a465472f8d04659c",
       "version_major": 2,
       "version_minor": 0
      },
      "text/plain": [
       "Accordion(children=(VBox(children=(VBox(children=(HBox(children=(FloatRangeSlider(value=(-0.203, 62.2489999999…"
      ]
     },
     "metadata": {},
     "output_type": "display_data"
    },
    {
     "name": "stderr",
     "output_type": "stream",
     "text": [
      "/usr/local/lib/python3.7/site-packages/pythreejs/traits.py:177: UserWarning: 64-bit data types not supported for WebGL data, casting to 32-bit.\n",
      "  warnings.warn('64-bit data types not supported for WebGL '\n"
     ]
    },
    {
     "data": {
      "application/vnd.jupyter.widget-view+json": {
       "model_id": "bfd3cd61b2a4425ebc8b99913cd27340",
       "version_major": 2,
       "version_minor": 0
      },
      "text/plain": [
       "Renderer(camera=PerspectiveCamera(children=(DirectionalLight(intensity=0.5, position=(0.0, 10.0, 30.0), quater…"
      ]
     },
     "metadata": {},
     "output_type": "display_data"
    }
   ],
   "source": [
    "Viewer(a).show()"
   ]
  },
  {
   "cell_type": "code",
   "execution_count": null,
   "metadata": {},
   "outputs": [],
   "source": []
  }
 ],
 "metadata": {
  "kernelspec": {
   "display_name": "Python 3",
   "language": "python",
   "name": "python3"
  },
  "language_info": {
   "codemirror_mode": {
    "name": "ipython",
    "version": 3
   },
   "file_extension": ".py",
   "mimetype": "text/x-python",
   "name": "python",
   "nbconvert_exporter": "python",
   "pygments_lexer": "ipython3",
   "version": "3.7.4"
  }
 },
 "nbformat": 4,
 "nbformat_minor": 4
}
