{
 "cells": [
  {
   "cell_type": "code",
   "execution_count": 10,
   "metadata": {},
   "outputs": [],
   "source": [
    "import numpy as np\n",
    "from AbstractMesh import AbstractMesh\n",
    "import utils\n",
    "from scipy.sparse import *"
   ]
  },
  {
   "cell_type": "code",
   "execution_count": 21,
   "metadata": {},
   "outputs": [],
   "source": [
    "class Quadmesh(AbstractMesh):\n",
    "    def __init__(self, vertices= None, faces = None, face_normals = None, labels = None):\n",
    "        \n",
    "        self.face_normals    = None #npArray (Nx3)\n",
    "        self.face_labels     = None #npArray (Nx1)\n",
    "        self.faces           = None #npArray (Nx4)\n",
    "        self.face2face       = None #npArray (Nx3?)\n",
    "        \n",
    "        if vertices and faces:\n",
    "            self.vertices = np.array(vertices)\n",
    "            self.faces = np.array(faces)\n",
    "            \n",
    "            if(faces_normals):\n",
    "                self.face_normals = np.array(face_normals)\n",
    "                \n",
    "            if(labels):\n",
    "                self.labels = np.array(labels)\n",
    "                            \n",
    "            super(Quadmesh, self).__init__()\n",
    "            \n",
    "    \n",
    "    def show(self):\n",
    "        pass\n",
    "        \n",
    "        \n",
    "    def add_face(self, face_id0, face_id1, face_id2, face_id3):\n",
    "        \n",
    "        self.add_faces([face_id0, face_id1, face_id2, face_id3])\n",
    "        \n",
    "        \n",
    "    def add_faces(self, new_faces):\n",
    "        \n",
    "        new_faces = np.array(new_faces)\n",
    "        self.faces = np.concatenate([self.faces, new_faces])\n",
    "        \n",
    "        if new_faces[(new_faces[:,0] > self.num_vertices) | \n",
    "                     (new_faces[:,1] > self.num_vertices) | \n",
    "                     (new_faces[:,2] > self.num_vertices) | \n",
    "                     (new_faces[:,3] > self.num_vertices)].shape[0] > n_vert:\n",
    "            raise Exception('The Id of a vertex must be lesser than the number of vertices')\n",
    "\n",
    "        self.faces = np.concatenate([self.faces, new_faces])\n",
    "        self.__compute_adjacencies()\n",
    "        \n",
    "        \n",
    "    def remove_face(self, face_id):\n",
    "        \n",
    "        self.remove_faces([face_id])\n",
    "        \n",
    "        \n",
    "    def remove_faces(self, face_ids):\n",
    "        \n",
    "        pass\n",
    "        \n",
    "    def removeVertex(self, vtx_id):\n",
    "        \n",
    "        self.vertices = np.delete(self.vertices, vtx_id)\n",
    "        self.faces = np.faces[(self.faces[:,0] != vtx_id) &\n",
    "                              (self.faces[:,1] != vtx_id) &\n",
    "                              (self.faces[:,2] != vtx_id) &\n",
    "                              (self.faces[:,3] != vtx_id)]\n",
    "        \n",
    "        self.faces[(self.faces[:,0] > vtx_id)][0] -=1\n",
    "        self.faces[(self.faces[:,1] > vtx_id)][1] -=1\n",
    "        self.faces[(self.faces[:,2] > vtx_id)][2] -=1\n",
    "        self.faces[(self.faces[:,3] > vtx_id)][2] -=1\n",
    "        \n",
    "        self.__compute_adjacencies()\n",
    "        \n",
    "        \n",
    "    def removeVertices(self, vtx_ids):\n",
    "        raise NotImplementedError\n",
    "        \n",
    "        \n",
    "    def load_from_file(self, filename):\n",
    "        \n",
    "        self.vertices, self.faces, self.face_normals = utils.read_obj(filename)\n",
    "        self.__compute_adjacencies()\n",
    "        \n",
    "        \n",
    "    def save_file(self, filename):\n",
    "        raise NotImplementedError\n",
    "    \n",
    "    \n",
    "    def __compute_adjacencies(self):\n",
    "        \n",
    "        map_ = dict()\n",
    "        adjs =  [[] for i in range(self.faces[:].shape[0])]\n",
    "\n",
    "        edges = np.c_[self.faces[:,0], self.faces[:,1], \n",
    "                      self.faces[:,1], self.faces[:,2], \n",
    "                      self.faces[:,2], self.faces[:,3], \n",
    "                      self.faces[:,3], self.faces[:,0]]\n",
    "        edges.shape = (-1, 2)\n",
    "        faces_idx = np.repeat(np.array(range(self.faces.shape[0])), 4)\n",
    "\n",
    "        for e, f in zip(edges, faces_idx):\n",
    "            e = (e[0], e[1])\n",
    "\n",
    "            try:\n",
    "                tmp = map_[e]\n",
    "            except KeyError:\n",
    "                tmp = None\n",
    "\n",
    "            if tmp is None:\n",
    "                map_[(e[1], e[0])] = f\n",
    "            else:\n",
    "                adjs[f].append(map_[e])\n",
    "                adjs[map_[e]].append(f)\n",
    "\n",
    "        self.face2face = np.array([a.append(-1) if len(a) < 4 else a for a in adjs])\n",
    "    \n",
    "        \n",
    "    @property\n",
    "    def export_triangles(self):\n",
    "        \n",
    "        tris = np.c_[self.faces[:,:3], self.faces[:,2:], self.faces[:,0]]\n",
    "        tris.shape = (-1, 3)\n",
    "        return tris\n",
    "    \n",
    "    @property\n",
    "    def num_faces(self):\n",
    "        \n",
    "        return self.faces.shape[0]\n",
    "    \n",
    "    \n",
    "    def simplex_centroids(self):\n",
    "        \n",
    "        if self._AbstractMesh__simplex_centroid is None:\n",
    "            self._AbstractMesh__simplex_centroids = self.vertices[self.faces].mean(axis = 1)\n",
    "            \n",
    "        return self._AbstractMesh__simplex_centroid\n",
    "    \n",
    "    \n",
    "    def __comput_metrics(self):\n",
    "        \n",
    "        self.simplex_metrics['aspect_ratio'] = aspect_ratio(self.vertices, self.faces)"
   ]
  },
  {
   "cell_type": "code",
   "execution_count": 22,
   "metadata": {},
   "outputs": [],
   "source": [
    "qm = Quadmesh()"
   ]
  },
  {
   "cell_type": "code",
   "execution_count": 23,
   "metadata": {},
   "outputs": [],
   "source": [
    "qm.load_from_file('bunny_quad.obj')"
   ]
  },
  {
   "cell_type": "code",
   "execution_count": 25,
   "metadata": {},
   "outputs": [
    {
     "data": {
      "text/plain": [
       "2412"
      ]
     },
     "execution_count": 25,
     "metadata": {},
     "output_type": "execute_result"
    }
   ],
   "source": [
    "qm.num_faces"
   ]
  },
  {
   "cell_type": "code",
   "execution_count": 64,
   "metadata": {},
   "outputs": [
    {
     "data": {
      "text/plain": [
       "array([[   2,    1,    0],\n",
       "       [   0,    3,    2],\n",
       "       [   5,    4,    0],\n",
       "       ...,\n",
       "       [2408, 2409, 2411],\n",
       "       [2413, 2412, 2410],\n",
       "       [2410, 2411, 2413]])"
      ]
     },
     "execution_count": 64,
     "metadata": {},
     "output_type": "execute_result"
    }
   ],
   "source": [
    "qm.export_triangles"
   ]
  },
  {
   "cell_type": "code",
   "execution_count": null,
   "metadata": {},
   "outputs": [],
   "source": []
  }
 ],
 "metadata": {
  "kernelspec": {
   "display_name": "Python 3",
   "language": "python",
   "name": "python3"
  },
  "language_info": {
   "codemirror_mode": {
    "name": "ipython",
    "version": 3
   },
   "file_extension": ".py",
   "mimetype": "text/x-python",
   "name": "python",
   "nbconvert_exporter": "python",
   "pygments_lexer": "ipython3",
   "version": "3.7.4"
  }
 },
 "nbformat": 4,
 "nbformat_minor": 2
}
