{
 "cells": [
  {
   "cell_type": "code",
   "execution_count": 1,
   "metadata": {},
   "outputs": [],
   "source": [
    "import numpy as np\n",
    "from AbstractMesh import AbstractMesh\n",
    "import utils\n",
    "from scipy.sparse import *"
   ]
  },
  {
   "cell_type": "code",
   "execution_count": 59,
   "metadata": {},
   "outputs": [],
   "source": [
    "class Quadmesh(AbstractMesh):\n",
    "    def __init__(self, vertices= None, faces = None, face_normals = None, labels = None):\n",
    "        \n",
    "        self.face_normals    = None #npArray (Nx3)\n",
    "        self.face_labels     = None #npArray (Nx1)\n",
    "        self.faces           = None #npArray (Nx4)\n",
    "        self.face2face       = None #npArray (Nx3?)\n",
    "        \n",
    "        if vertices and faces:\n",
    "            self.vertices = np.array(vertices)\n",
    "            self.faces = np.array(faces)\n",
    "            \n",
    "            if(faces_normals):\n",
    "                self.face_normals = np.array(face_normals)\n",
    "                \n",
    "            if(labels):\n",
    "                self.labels = np.array(labels)\n",
    "                            \n",
    "            super(Quadmesh, self).__init__()\n",
    "            \n",
    "    \n",
    "    def show(self):\n",
    "        pass\n",
    "        \n",
    "    def add_face(self, face_id0, face_id1, face_id2, face_id3):\n",
    "        new_face = np.array([face_id0, face_id1, face_id2, face_id3])\n",
    "        self.faces = np.concatenate([self.faces, new_face])\n",
    "        self.__compute_adjacencies()\n",
    "        \n",
    "    def add_faces(self, face_ids):\n",
    "        raise NotImplementedError\n",
    "        \n",
    "    def remove_face(self, face_id):\n",
    "        self.faces = np.delete(self.faces, face_id)\n",
    "        self.__compute_adjacencies()\n",
    "        \n",
    "    def remove_faces(self, faces_ids):\n",
    "        raise NotImplementedError\n",
    "        \n",
    "    def removeVertex(self, vtx_id):\n",
    "        self.vertices = np.delete(self.vertices, vtx_id)\n",
    "        self.faces = np.faces[(self.faces[:,0] != vtx_id) &\n",
    "                              (self.faces[:,1] != vtx_id) &\n",
    "                              (self.faces[:,2] != vtx_id) &\n",
    "                              (self.faces[:,3] != vtx_id)]\n",
    "        self.__compute_adjacencies()\n",
    "        \n",
    "    def removeVertices(self, vtx_ids):\n",
    "        raise NotImplementedError\n",
    "        \n",
    "    def load_from_file(self, filename):\n",
    "        self.vertices, self.faces, self.face_normals = utils.read_obj(filename)\n",
    "        #self.__compute_adjacencies()\n",
    "        \n",
    "    def save_file(self, filename):\n",
    "        raise NotImplementedError\n",
    "    \n",
    "    def __compute_adjacencies(self):\n",
    "        raise NotImplementedError\n",
    "        \n",
    "        \n",
    "    @property\n",
    "    def export_triangles(self):\n",
    "        tris = np.c_[self.faces[:,:3], self.faces[:,2:], self.faces[:,0]]\n",
    "        tris.shape = (-1, 3)\n",
    "        return tris\n",
    "    \n",
    "    def simplex_centroids(self):\n",
    "        if self._AbstractMesh__simplex_centroid is None:\n",
    "            self._AbstractMesh__simplex_centroids = self.vertices[self.faces].mean(axis = 1)\n",
    "            \n",
    "        return self._AbstractMesh__simplex_centroid\n",
    "    \n",
    "    def __comput_metrics(self):\n",
    "        raise NotImplementedError('This method must be implemented in the subclasses')"
   ]
  },
  {
   "cell_type": "code",
   "execution_count": 61,
   "metadata": {},
   "outputs": [],
   "source": [
    "qm = Quadmesh()"
   ]
  },
  {
   "cell_type": "code",
   "execution_count": 62,
   "metadata": {},
   "outputs": [],
   "source": [
    "qm.load_from_file('bunny_quad.obj')"
   ]
  },
  {
   "cell_type": "code",
   "execution_count": 53,
   "metadata": {},
   "outputs": [
    {
     "data": {
      "text/plain": [
       "array([[1, 2, 3, 3, 4, 1],\n",
       "       [5, 6, 7, 7, 8, 5]])"
      ]
     },
     "execution_count": 53,
     "metadata": {},
     "output_type": "execute_result"
    }
   ],
   "source": [
    "tris"
   ]
  },
  {
   "cell_type": "code",
   "execution_count": 54,
   "metadata": {},
   "outputs": [],
   "source": [
    "tris.shape = (-1,3)"
   ]
  },
  {
   "cell_type": "code",
   "execution_count": 55,
   "metadata": {},
   "outputs": [
    {
     "data": {
      "text/plain": [
       "array([[1, 2, 3],\n",
       "       [3, 4, 1],\n",
       "       [5, 6, 7],\n",
       "       [7, 8, 5]])"
      ]
     },
     "execution_count": 55,
     "metadata": {},
     "output_type": "execute_result"
    }
   ],
   "source": [
    "tris"
   ]
  },
  {
   "cell_type": "code",
   "execution_count": null,
   "metadata": {},
   "outputs": [],
   "source": []
  }
 ],
 "metadata": {
  "kernelspec": {
   "display_name": "Python 3",
   "language": "python",
   "name": "python3"
  },
  "language_info": {
   "codemirror_mode": {
    "name": "ipython",
    "version": 3
   },
   "file_extension": ".py",
   "mimetype": "text/x-python",
   "name": "python",
   "nbconvert_exporter": "python",
   "pygments_lexer": "ipython3",
   "version": "3.7.4"
  }
 },
 "nbformat": 4,
 "nbformat_minor": 2
}
