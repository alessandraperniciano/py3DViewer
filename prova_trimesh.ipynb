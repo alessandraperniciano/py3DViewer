{
 "cells": [
  {
   "cell_type": "code",
   "execution_count": 32,
   "metadata": {},
   "outputs": [],
   "source": [
    "from pythreejs import *\n",
    "#from .Py3dv_mesh import Py3dv_mesh\n",
    "#from .Py3dv_tetrahedron import Py3dv_tetrahedron\n",
    "#from .Py3dv_triangle import Py3dv_triangle\n",
    "from py3Dviewer import *\n",
    "import numpy as np\n",
    "import math as mt\n",
    "import timeit\n",
    "from functools import reduce\n",
    "\n",
    "\n",
    "class Py3dv_triMesh(Py3dv_mesh):\n",
    "    \n",
    "    def __init__(self, filename = None, vertices = None, faces = None):\n",
    "        \n",
    "        \"\"\"\n",
    "        Class that represents a triangular mesh\n",
    "        Parameters\n",
    "        ----------\n",
    "        filename : String\n",
    "           name of the file to open\n",
    "        vertices : Array\n",
    "           An array of shape N x 3\n",
    "        faces : Array\n",
    "           An array of shape N x 3\n",
    "        Return\n",
    "        ------\n",
    "        A trimesh object\n",
    "        \"\"\"\n",
    "        \n",
    "        self.tri2index = {} #dictionary that returns the index of a triangle given its coord Ids\n",
    "        self.__numTri = 0\n",
    "        self.__trianglesSet = set()\n",
    "        self.triList = [] #lista di MyTriangles\n",
    "        self.npTriList  = None\n",
    "        self.surface = None\n",
    "        super().__init__()\n",
    "        \n",
    "        if filename is not None:\n",
    "            \n",
    "            self.loadMeshFromFile(filename)\n",
    "        \n",
    "        elif vertices is not None and faces is not None:\n",
    "            self.loadMeshFromValues(vertices, faces)\n",
    "        \n",
    "        else:\n",
    "            pass\n",
    "        \n",
    "    def __getattribute__(self,name):\n",
    "        if name=='surface' and self.isDirty:\n",
    "            self.__updateSurface()\n",
    "            return self.surface\n",
    "        elif name=='npTriList':\n",
    "            return np.array([[t.idV0, t.idV1, t.idV2] for t in self.triList])\n",
    "        else:\n",
    "            return object.__getattribute__(self, name)\n",
    "        \n",
    "    def triangleExists(self, triangle):\n",
    "\n",
    "        return (triangle[0], triangle[1], triangle[2]) in self.__trianglesSet\n",
    "        \n",
    "        \n",
    "    def addTriangle(self, triangle):\n",
    "\n",
    "        \"\"\"\n",
    "        Add an object of type \"triangle\" into the current mesh\n",
    "        Parameters\n",
    "        ----------\n",
    "        triangle : Triangle\n",
    "           The triangle that will be added\n",
    "        \"\"\"\n",
    "        \n",
    "        self.triList[self.__numTri] = triangle\n",
    "        self.tri2index[triangle.idV0,triangle.idV1,triangle.idV2] = self.__numTri\n",
    "        self.__numTri += 1\n",
    "        self.isDirty = True\n",
    "    \n",
    "    def addTriangleFromVtxIds(self, v0, v1, v2):\n",
    "        \"\"\"\n",
    "        Add an object of type \"triangle\" into the current mesh\n",
    "        Parameters\n",
    "        ----------\n",
    "        v0, v1, v2 : Int\n",
    "           Vertices IDs composing the new triangle \n",
    "        \"\"\"\n",
    "        self.triList.append(Py3dv_triangle(v0, v1, v2, self.__numTri))\n",
    "        self.tri2index[v0,v1,v2] = self.__numTri\n",
    "        self.__numTri += 1\n",
    "        self.isDirty = True\n",
    "    \n",
    "    def getNumTriangles(self):\n",
    "        return self.__numTri\n",
    "\n",
    "    \n",
    "    # legge file mesh di triangoli\n",
    "    def loadMeshFromFile(self, nameFile):\n",
    "\n",
    "        file = open(nameFile,\"r\") # default\n",
    "        #cicla sino alla ricerca dei vertici\n",
    "        \n",
    "        rows = file.readlines()\n",
    "        nVertices = 0\n",
    "        vtxTmp = []\n",
    "        for row in rows:\n",
    "            \n",
    "            if row[0:2] == 'v ':\n",
    "                \n",
    "                vtx = list(map(float,row.split()[1:]))\n",
    "                vtxTmp.append(Py3dv_vertex(vtx[0], vtx[1], vtx[2], nVertices))\n",
    "                nVertices +=1\n",
    "            \n",
    "            if row[0:2] == 'f ':\n",
    "                \n",
    "                tri =  list(map(int,row.split()[1:]))\n",
    "                tri = [i-1 for i in tri]\n",
    "                self.addTriangleFromVtxIds(tri[0], tri[1], tri[2])\n",
    "                tri = [(tri[0], tri[1], tri[2])]\n",
    "                self.__trianglesSet.update(set((tri)))\n",
    "        \n",
    "        \n",
    "        self.vtxList = vtxTmp\n",
    "        self.npVertices = np.array([v.xyz() for v in self.vtxList])\n",
    "        self.__numVtx = nVertices\n",
    "        self.__initSlices()\n",
    "\n",
    "        print('Read:',self.__numVtx,'vertices')\n",
    "        print('Read:',self.__numTri,'faces')\n",
    "        \n",
    "        \n",
    "    def loadMeshFromValues(self, vertices, faces):\n",
    "        \n",
    "        vertices = np.array(vertices)\n",
    "        faces = np.array(faces)\n",
    "         \n",
    "        try:\n",
    "            \n",
    "            if vertices.shape[1] !=3 or faces.shape[1] !=3:\n",
    "                raise Exception()\n",
    "            \n",
    "            nVertices = 0\n",
    "            vtxTmp = []\n",
    "            for vtx in vertices:\n",
    "                vtxTmp.append(Py3dv_vertex(vtx[0], vtx[1], vtx[2], nVertices))\n",
    "                nVertices +=1\n",
    "                \n",
    "            for tri in faces:\n",
    "                self.addTriangleFromVtxIds(tri[0], tri[1], tri[2])\n",
    "                tri = [(tri[0], tri[1], tri[2])]\n",
    "                self.__trianglesSet.update(set((tri)))\n",
    "            \n",
    "            self.vtxList = vtxTmp\n",
    "            self.npVertices = np.array([v.xyz() for v in self.vtxList])\n",
    "            self.__numVtx = nVertices\n",
    "            self.__initSlices()\n",
    "            \n",
    "        except Exception:\n",
    "            print('Vertices and faces must be array-like structures of shape [Nx3]')\n",
    "        \n",
    "    \n",
    "    def __initSlices(self):\n",
    "        \n",
    "        min_ = self.npVertices.min(axis = 0)\n",
    "        max_ = self.npVertices.max(axis = 0)\n",
    "        \n",
    "        \n",
    "        self.minX = min_[0]\n",
    "        self.minY = min_[1]\n",
    "        self.minZ = min_[2]\n",
    "        self.maxX = max_[0]\n",
    "        self.maxY = max_[1]\n",
    "        self.maxZ = max_[2]\n",
    "        \n",
    "        self.setSliceFromX(self.minX)\n",
    "        self.setSliceFromY(self.minY)\n",
    "        self.setSliceFromZ(self.minZ)\n",
    "        self.setSliceToX(self.maxX)\n",
    "        self.setSliceToY(self.maxY)\n",
    "        self.setSliceToZ(self.maxZ)\n",
    "    \n",
    "    \n",
    "    def updateSurface(self, flipX=None, flipY=None, flipZ=None):\n",
    "        \n",
    "        self.isDirty = False\n",
    "\n",
    "        self.surface = []\n",
    "        \n",
    "        baricenters = np.sum(mesh.npVertices[mesh.npTriList], axis=1)/3\n",
    "        \n",
    "        iminx = np.argwhere(baricenters[:,0] > self.fromX)\n",
    "        imaxx = np.argwhere(baricenters[:,0] < self.toX)\n",
    "        iminy = np.argwhere(baricenters[:,1] > self.fromY)\n",
    "        imaxy = np.argwhere(baricenters[:,1] < self.toY)\n",
    "        iminz = np.argwhere(baricenters[:,2] > self.fromZ)\n",
    "        imaxz = np.argwhere(baricenters[:,2] < self.toZ)\n",
    "        \n",
    "        #TODO: Implement flip...\n",
    "        \n",
    "        surface_indices = reduce(np.intersect1d, (iminx, imaxx, iminy, imaxy, iminz, imaxz))\n",
    "        self.surface = self.npVertices[self.npTriList[surface_indices].flatten()]\n",
    "        \n",
    "            \n",
    "    def __updateDrawableElements(self):\n",
    "        \n",
    "        if self.isDirty:\n",
    "            self.updateSurface()\n",
    "        \n",
    "        if not hasattr(self, 'color'):\n",
    "            self.color = np.array([[0.0,0,1],[0.0,0,1],[0.0,0,1]])\n",
    "            self.color = np.repeat(self.color, self.__numTri*3, axis=0)\n",
    "\n",
    "       \n",
    "    \n",
    "    #visualizza la mesh\n",
    "    def show(self, *args):\n",
    "        self.__updateDrawableElements()\n",
    "        renderer = self.initializeCamera(list(self.centerPoint()))\n",
    "        self.__draw()\n",
    "        display(renderer)\n",
    "\n",
    "    #crea la mesh\n",
    "    def __draw(self): \n",
    "        startDraw = timeit.default_timer()\n",
    "        \n",
    "        triProperties = {\n",
    "            'position': BufferAttribute(self.surface, normalized=False),\n",
    "            #'index' : BufferAttribute(np.asarray(self.surface, dtype='uint32').ravel(), normalized=False),\n",
    "            'color' : BufferAttribute(self.color, normalized=False),\n",
    "        }\n",
    "\n",
    "        meshGeometry = BufferGeometry(attributes=triProperties)\n",
    "    #    meshGeometry.faceColors = [[test.color[i] for i in f] for f in triangleSurface] \n",
    "        meshGeometry.exec_three_obj_method('computeVertexNormals')\n",
    "\n",
    "        meshMaterial = MeshLambertMaterial(#shininess=25,\n",
    "                                         #emissive = '#aaaaaa',#phong\n",
    "                                         #specular = '#aaaaaa',#phong\n",
    "                                           polygonOffset=True,\n",
    "                                           polygonOffsetFactor=1,\n",
    "                                           polygonOffsetUnits=1,\n",
    "                                           flatShading = True,\n",
    "                                           side = 'FrontSide',\n",
    "                                           #color = '#550000',\n",
    "                                           wireframe=False,\n",
    "                                           vertexColors = 'FaceColors',\n",
    "                                          )\n",
    "        edges_material = MeshBasicMaterial(color='black',\n",
    "#                                           side= 'FrontSide'\n",
    "                                           polygonOffset=True,\n",
    "                                           polygonOffsetFactor=1,\n",
    "                                           polygonOffsetUnits=1,\n",
    "                                           #shininess=0.5,\n",
    "                                           wireframe=True,\n",
    "                                           linewidth = 1,\n",
    "                                           opacity=1,\n",
    "                                           depthTest=True,\n",
    "                                           transparent=True)\n",
    "\n",
    "        self.mesh = Mesh(\n",
    "            geometry=meshGeometry,\n",
    "            material=meshMaterial,\n",
    "            position=[0, 0, 0]   # Center in 0\n",
    "        )\n",
    "        self.line = Mesh(\n",
    "            geometry=meshGeometry,\n",
    "            material=edges_material,\n",
    "            position=[0, 0, 0]   # Center in 0\n",
    "        )\n",
    "\n",
    "\n",
    "        #aggiunge la mesh alla scena\n",
    "        self.scene.add(self.mesh)\n",
    "        self.scene.add(self.line)\n",
    "\n",
    "\n",
    "        stopDraw = timeit.default_timer()\n",
    "        print('Print time: ', round(stopDraw-startDraw,2),'s', '(',int(len(self.surface)/3),' faces)')\n",
    "\n",
    "        return meshGeometry \n",
    "   \n",
    "\n",
    "    def changeColorSurface(self,color=None,colorHex=None):\n",
    "         \n",
    "        \"\"\"\n",
    "        Change the color of the mesh surface\n",
    "        Parameters\n",
    "        ----------\n",
    "        color : Array\n",
    "           Color expressed as [R, G, B] with range [0, 1]\n",
    "        colorHex : Array\n",
    "           Color expressed as Hexadecimal value\n",
    "        \"\"\"\n",
    "        if colorHex is not None:\n",
    "            start = timeit.default_timer()\n",
    "            color = [int(colorHex[1:3],16)/255.0,int(colorHex[3:5],16)/255.0,int(colorHex[5:7],16)/255.0]\n",
    "            print(color)\n",
    "        \n",
    "        self.color = np.array(color, dtype = np.float)\n",
    "        self.color = np.repeat(self.color, self.__numTri*3, axis=0)\n",
    "   \n",
    "    \n",
    "    def saveFile(self,fileName, overwrite=False):\n",
    "       \n",
    "        \"\"\"\n",
    "        Save the current mesh into a file\n",
    "        Parameters\n",
    "        ----------\n",
    "        fileName : String\n",
    "           Name of the file to save\n",
    "        overwrite : Bool\n",
    "           True if you want to overwrite a file\n",
    "        \"\"\"        \n",
    "        if overwrite:\n",
    "            write='w'\n",
    "        else:\n",
    "            write='x'\n",
    "            \n",
    "        try:\n",
    "            f = open(fileName,write)\n",
    "            for i in self.vtxList:\n",
    "                f.write('v '+str(i.xyz()[0]) + ' ' + str(i.xyz()[1]) + ' ' + str(i.xyz()[2]) + ' ' + '0\\r')\n",
    "            for i in self.triList:\n",
    "                f.write('f '+str(i.idV0+1) + ' ' + str(i.idV1+1) + ' ' + str(i.idV2+1) + '\\r')\n",
    "            f.close()\n",
    "        except FileExistsError:\n",
    "            print('A file with this name already exists!')\n",
    "            print('Set the overwrite parameter to True to proceed anyway')"
   ]
  },
  {
   "cell_type": "code",
   "execution_count": 33,
   "metadata": {},
   "outputs": [
    {
     "name": "stdout",
     "output_type": "stream",
     "text": [
      "Read: 15772 vertices\n",
      "Read: 31540 faces\n"
     ]
    }
   ],
   "source": [
    "mesh = Py3dv_triMesh('274.obj')"
   ]
  },
  {
   "cell_type": "code",
   "execution_count": 34,
   "metadata": {},
   "outputs": [
    {
     "data": {
      "application/vnd.jupyter.widget-view+json": {
       "model_id": "e4462e5f850e4d8e8def4aedf6fbe76b",
       "version_major": 2,
       "version_minor": 0
      },
      "text/plain": [
       "Accordion(children=(VBox(children=(VBox(children=(HBox(children=(FloatRangeSlider(value=(-0.771, 0.818), descr…"
      ]
     },
     "metadata": {},
     "output_type": "display_data"
    },
    {
     "name": "stdout",
     "output_type": "stream",
     "text": [
      "-0.769255\n",
      "-0.769255\n",
      "Print time:  0.07 s ( 31538  faces)\n"
     ]
    },
    {
     "data": {
      "application/vnd.jupyter.widget-view+json": {
       "model_id": "e91dd47dc26d4022934ca082387e9591",
       "version_major": 2,
       "version_minor": 0
      },
      "text/plain": [
       "Renderer(camera=PerspectiveCamera(children=(DirectionalLight(intensity=0.5, position=(0.0, 10.0, 30.0), quater…"
      ]
     },
     "metadata": {},
     "output_type": "display_data"
    },
    {
     "data": {
      "text/plain": [
       "<py3Dviewer.Py3dv_viewer.Py3dv_viewer at 0x137002630>"
      ]
     },
     "execution_count": 34,
     "metadata": {},
     "output_type": "execute_result"
    }
   ],
   "source": [
    "Py3dv_viewer(mesh)"
   ]
  },
  {
   "cell_type": "code",
   "execution_count": 28,
   "metadata": {},
   "outputs": [],
   "source": [
    "mesh.setSliceFromX(-0.5)"
   ]
  },
  {
   "cell_type": "code",
   "execution_count": 15,
   "metadata": {},
   "outputs": [
    {
     "data": {
      "text/plain": [
       "31540.0"
      ]
     },
     "execution_count": 15,
     "metadata": {},
     "output_type": "execute_result"
    }
   ],
   "source": [
    "mesh.surface.shape[0]/3"
   ]
  },
  {
   "cell_type": "code",
   "execution_count": 27,
   "metadata": {},
   "outputs": [
    {
     "data": {
      "text/plain": [
       "0.325"
      ]
     },
     "execution_count": 27,
     "metadata": {},
     "output_type": "execute_result"
    }
   ],
   "source": [
    "mesh.toX"
   ]
  },
  {
   "cell_type": "code",
   "execution_count": 35,
   "metadata": {},
   "outputs": [
    {
     "name": "stdout",
     "output_type": "stream",
     "text": [
      "-0.406\n",
      "0.269\n"
     ]
    }
   ],
   "source": [
    "mesh.updateSurface(flipX=True)"
   ]
  },
  {
   "cell_type": "code",
   "execution_count": 36,
   "metadata": {},
   "outputs": [
    {
     "ename": "ZeroDivisionError",
     "evalue": "division by zero",
     "output_type": "error",
     "traceback": [
      "\u001b[0;31m---------------------------------------------------------------------------\u001b[0m",
      "\u001b[0;31mZeroDivisionError\u001b[0m                         Traceback (most recent call last)",
      "\u001b[0;32m<ipython-input-36-87b478d28a3e>\u001b[0m in \u001b[0;36m<module>\u001b[0;34m\u001b[0m\n\u001b[0;32m----> 1\u001b[0;31m \u001b[0mmesh\u001b[0m\u001b[0;34m.\u001b[0m\u001b[0mshow\u001b[0m\u001b[0;34m(\u001b[0m\u001b[0;34m)\u001b[0m\u001b[0;34m\u001b[0m\u001b[0;34m\u001b[0m\u001b[0m\n\u001b[0m",
      "\u001b[0;32m<ipython-input-32-0f2e1fe4ec42>\u001b[0m in \u001b[0;36mshow\u001b[0;34m(self, *args)\u001b[0m\n\u001b[1;32m    229\u001b[0m     \u001b[0;32mdef\u001b[0m \u001b[0mshow\u001b[0m\u001b[0;34m(\u001b[0m\u001b[0mself\u001b[0m\u001b[0;34m,\u001b[0m \u001b[0;34m*\u001b[0m\u001b[0margs\u001b[0m\u001b[0;34m)\u001b[0m\u001b[0;34m:\u001b[0m\u001b[0;34m\u001b[0m\u001b[0;34m\u001b[0m\u001b[0m\n\u001b[1;32m    230\u001b[0m         \u001b[0mself\u001b[0m\u001b[0;34m.\u001b[0m\u001b[0m__updateDrawableElements\u001b[0m\u001b[0;34m(\u001b[0m\u001b[0;34m)\u001b[0m\u001b[0;34m\u001b[0m\u001b[0;34m\u001b[0m\u001b[0m\n\u001b[0;32m--> 231\u001b[0;31m         \u001b[0mrenderer\u001b[0m \u001b[0;34m=\u001b[0m \u001b[0mself\u001b[0m\u001b[0;34m.\u001b[0m\u001b[0minitializeCamera\u001b[0m\u001b[0;34m(\u001b[0m\u001b[0mlist\u001b[0m\u001b[0;34m(\u001b[0m\u001b[0mself\u001b[0m\u001b[0;34m.\u001b[0m\u001b[0mcenterPoint\u001b[0m\u001b[0;34m(\u001b[0m\u001b[0;34m)\u001b[0m\u001b[0;34m)\u001b[0m\u001b[0;34m)\u001b[0m\u001b[0;34m\u001b[0m\u001b[0;34m\u001b[0m\u001b[0m\n\u001b[0m\u001b[1;32m    232\u001b[0m         \u001b[0mself\u001b[0m\u001b[0;34m.\u001b[0m\u001b[0m__draw\u001b[0m\u001b[0;34m(\u001b[0m\u001b[0;34m)\u001b[0m\u001b[0;34m\u001b[0m\u001b[0;34m\u001b[0m\u001b[0m\n\u001b[1;32m    233\u001b[0m         \u001b[0mdisplay\u001b[0m\u001b[0;34m(\u001b[0m\u001b[0mrenderer\u001b[0m\u001b[0;34m)\u001b[0m\u001b[0;34m\u001b[0m\u001b[0;34m\u001b[0m\u001b[0m\n",
      "\u001b[0;32m~/py3DViewer/py3Dviewer/Py3dv_mesh.py\u001b[0m in \u001b[0;36mcenterPoint\u001b[0;34m(self)\u001b[0m\n\u001b[1;32m     77\u001b[0m \u001b[0;34m\u001b[0m\u001b[0m\n\u001b[1;32m     78\u001b[0m     \u001b[0;32mdef\u001b[0m \u001b[0mcenterPoint\u001b[0m\u001b[0;34m(\u001b[0m\u001b[0mself\u001b[0m\u001b[0;34m)\u001b[0m\u001b[0;34m:\u001b[0m\u001b[0;34m\u001b[0m\u001b[0;34m\u001b[0m\u001b[0m\n\u001b[0;32m---> 79\u001b[0;31m         \u001b[0;32mreturn\u001b[0m  \u001b[0mnp\u001b[0m\u001b[0;34m.\u001b[0m\u001b[0maverage\u001b[0m\u001b[0;34m(\u001b[0m\u001b[0mnp\u001b[0m\u001b[0;34m.\u001b[0m\u001b[0maverage\u001b[0m\u001b[0;34m(\u001b[0m\u001b[0;34m[\u001b[0m\u001b[0mself\u001b[0m\u001b[0;34m.\u001b[0m\u001b[0msurface\u001b[0m\u001b[0;34m]\u001b[0m\u001b[0;34m,\u001b[0m \u001b[0maxis\u001b[0m\u001b[0;34m=\u001b[0m\u001b[0;36m0\u001b[0m\u001b[0;34m)\u001b[0m\u001b[0;34m,\u001b[0m \u001b[0maxis\u001b[0m\u001b[0;34m=\u001b[0m\u001b[0;36m0\u001b[0m\u001b[0;34m)\u001b[0m\u001b[0;34m\u001b[0m\u001b[0;34m\u001b[0m\u001b[0m\n\u001b[0m\u001b[1;32m     80\u001b[0m \u001b[0;34m\u001b[0m\u001b[0m\n\u001b[1;32m     81\u001b[0m \u001b[0;34m\u001b[0m\u001b[0m\n",
      "\u001b[0;32m/usr/local/lib/python3.7/site-packages/numpy/lib/function_base.py\u001b[0m in \u001b[0;36maverage\u001b[0;34m(a, axis, weights, returned)\u001b[0m\n\u001b[1;32m    391\u001b[0m     \u001b[0;32mif\u001b[0m \u001b[0mweights\u001b[0m \u001b[0;32mis\u001b[0m \u001b[0;32mNone\u001b[0m\u001b[0;34m:\u001b[0m\u001b[0;34m\u001b[0m\u001b[0;34m\u001b[0m\u001b[0m\n\u001b[1;32m    392\u001b[0m         \u001b[0mavg\u001b[0m \u001b[0;34m=\u001b[0m \u001b[0ma\u001b[0m\u001b[0;34m.\u001b[0m\u001b[0mmean\u001b[0m\u001b[0;34m(\u001b[0m\u001b[0maxis\u001b[0m\u001b[0;34m)\u001b[0m\u001b[0;34m\u001b[0m\u001b[0;34m\u001b[0m\u001b[0m\n\u001b[0;32m--> 393\u001b[0;31m         \u001b[0mscl\u001b[0m \u001b[0;34m=\u001b[0m \u001b[0mavg\u001b[0m\u001b[0;34m.\u001b[0m\u001b[0mdtype\u001b[0m\u001b[0;34m.\u001b[0m\u001b[0mtype\u001b[0m\u001b[0;34m(\u001b[0m\u001b[0ma\u001b[0m\u001b[0;34m.\u001b[0m\u001b[0msize\u001b[0m\u001b[0;34m/\u001b[0m\u001b[0mavg\u001b[0m\u001b[0;34m.\u001b[0m\u001b[0msize\u001b[0m\u001b[0;34m)\u001b[0m\u001b[0;34m\u001b[0m\u001b[0;34m\u001b[0m\u001b[0m\n\u001b[0m\u001b[1;32m    394\u001b[0m     \u001b[0;32melse\u001b[0m\u001b[0;34m:\u001b[0m\u001b[0;34m\u001b[0m\u001b[0;34m\u001b[0m\u001b[0m\n\u001b[1;32m    395\u001b[0m         \u001b[0mwgt\u001b[0m \u001b[0;34m=\u001b[0m \u001b[0mnp\u001b[0m\u001b[0;34m.\u001b[0m\u001b[0masanyarray\u001b[0m\u001b[0;34m(\u001b[0m\u001b[0mweights\u001b[0m\u001b[0;34m)\u001b[0m\u001b[0;34m\u001b[0m\u001b[0;34m\u001b[0m\u001b[0m\n",
      "\u001b[0;31mZeroDivisionError\u001b[0m: division by zero"
     ]
    }
   ],
   "source": [
    "mesh.show()"
   ]
  },
  {
   "cell_type": "code",
   "execution_count": 22,
   "metadata": {},
   "outputs": [],
   "source": [
    "baricenters = np.sum(mesh.npVertices[mesh.npTriList], axis=1)/3"
   ]
  },
  {
   "cell_type": "code",
   "execution_count": 35,
   "metadata": {},
   "outputs": [],
   "source": [
    "iminx = np.argwhere(baricenters[:,0] < mesh.fromX)\n",
    "imaxx = np.argwhere(baricenters[:,0] < mesh.toX)\n",
    "iminy = np.argwhere(baricenters[:,1] < mesh.fromY)\n",
    "imaxy = np.argwhere(baricenters[:,1] < mesh.toY)\n",
    "iminz = np.argwhere(baricenters[:,2] < mesh.fromZ)\n",
    "imaxz = np.argwhere(baricenters[:,2] < mesh.toZ)"
   ]
  },
  {
   "cell_type": "code",
   "execution_count": 39,
   "metadata": {},
   "outputs": [
    {
     "data": {
      "text/plain": [
       "(30726,)"
      ]
     },
     "execution_count": 39,
     "metadata": {},
     "output_type": "execute_result"
    }
   ],
   "source": [
    "np.unique(np.concatenate([iminx, imaxx, iminy, imaxy, iminz, imaxz])).shape"
   ]
  }
 ],
 "metadata": {
  "kernelspec": {
   "display_name": "Python 3",
   "language": "python",
   "name": "python3"
  },
  "language_info": {
   "codemirror_mode": {
    "name": "ipython",
    "version": 3
   },
   "file_extension": ".py",
   "mimetype": "text/x-python",
   "name": "python",
   "nbconvert_exporter": "python",
   "pygments_lexer": "ipython3",
   "version": "3.7.4"
  }
 },
 "nbformat": 4,
 "nbformat_minor": 4
}
