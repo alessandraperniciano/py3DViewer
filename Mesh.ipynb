{
 "cells": [
  {
   "cell_type": "code",
   "execution_count": 2,
   "metadata": {},
   "outputs": [],
   "source": [
    "import numpy as np"
   ]
  },
  {
   "cell_type": "code",
   "execution_count": 46,
   "metadata": {},
   "outputs": [],
   "source": [
    "class AbstractMesh(object):\n",
    "    \n",
    "    def __init__(self):\n",
    "        \n",
    "        self.vertices        = None #npArray (Nx3)\n",
    "        self.vtxNormals      = None #npArray (Nx3)\n",
    "        self.boundary        = None #TriMesh or QuadMesh\n",
    "        self.faces           = None #npArray (NxM)\n",
    "        self.vtx2face        = None #npArray (NxM)\n",
    "        self.__boundingBox   = None #npArray (2x3)\n",
    "        self.subspace        = None #npArray (3x2)\n",
    "        self.simplexMetrics   = None #dictionary[propertyName : npArray (Nx1)]\n",
    "        self.simplexCentroids = None #npArray (Nx1)\n",
    "        self.isDirty         = None #Bool\n",
    "        \n",
    "        super().__init__()\n",
    "    \n",
    "    def cut(self, minX = None, maxX = None, \n",
    "            minY = None, maxY = None, \n",
    "            minZ = None, maxZ = None):\n",
    "        \n",
    "        raise NotImplementedError\n",
    "    \n",
    "    @staticmethod\n",
    "    def loadFromFile(filename):\n",
    "        raise NotImplementedError\n",
    "    \n",
    "    def saveFile(self, filename):\n",
    "        raise NotImplementedError('This method must be implemented in the subclasses')\n",
    "\n",
    "\n",
    "    def getMetric(self, propertyName, idElement):\n",
    "        raise NotImplementedError\n",
    "    \n",
    "    @property\n",
    "    def __simplexCentroids(self):\n",
    "        raise NotImplementedError('This method must be implemented in the subclasses')\n",
    "    \n",
    "    def __computeMetrics(self): \n",
    "        raise NotImplementedError\n",
    "        \n",
    "    def addVertex(self, x, y, z): \n",
    "        raise NotImplementedError\n",
    "        \n",
    "    @property\n",
    "    def vtx2vtx(self, vtx):\n",
    "        raise NotImplementedError('This method must be implemented in the subclasses')\n",
    "    \n",
    "    def __updateBoundingBox(self):\n",
    "        raise NotImplementedError"
   ]
  },
  {
   "cell_type": "code",
   "execution_count": 38,
   "metadata": {},
   "outputs": [],
   "source": [
    "class Trimesh(AbstractMesh):\n",
    "    \n",
    "    \n",
    "    def __init__(self):\n",
    "        self.prova(5)\n",
    "        pass\n",
    "    \n",
    "    \n",
    "    def prova(self,value):\n",
    "        vertices = value"
   ]
  },
  {
   "cell_type": "code",
   "execution_count": 43,
   "metadata": {},
   "outputs": [],
   "source": [
    "prova = AbstractMesh()"
   ]
  },
  {
   "cell_type": "code",
   "execution_count": 45,
   "metadata": {},
   "outputs": [
    {
     "ename": "NotImplementedError",
     "evalue": "",
     "output_type": "error",
     "traceback": [
      "\u001b[0;31m---------------------------------------------------------------------------\u001b[0m",
      "\u001b[0;31mNotImplementedError\u001b[0m                       Traceback (most recent call last)",
      "\u001b[0;32m<ipython-input-45-5c0f99098855>\u001b[0m in \u001b[0;36m<module>\u001b[0;34m\u001b[0m\n\u001b[0;32m----> 1\u001b[0;31m \u001b[0mprova\u001b[0m\u001b[0;34m.\u001b[0m\u001b[0mcut\u001b[0m\u001b[0;34m(\u001b[0m\u001b[0;36m0\u001b[0m\u001b[0;34m,\u001b[0m\u001b[0;36m0\u001b[0m\u001b[0;34m,\u001b[0m\u001b[0;36m0\u001b[0m\u001b[0;34m,\u001b[0m\u001b[0;36m0\u001b[0m\u001b[0;34m,\u001b[0m\u001b[0;36m0\u001b[0m\u001b[0;34m,\u001b[0m\u001b[0;36m0\u001b[0m\u001b[0;34m)\u001b[0m\u001b[0;34m\u001b[0m\u001b[0;34m\u001b[0m\u001b[0m\n\u001b[0m",
      "\u001b[0;32m<ipython-input-42-de9e17487e53>\u001b[0m in \u001b[0;36mcut\u001b[0;34m(self, minX, maxX, minY, maxY, minZ, maxZ)\u001b[0m\n\u001b[1;32m     17\u001b[0m \u001b[0;34m\u001b[0m\u001b[0m\n\u001b[1;32m     18\u001b[0m     \u001b[0;32mdef\u001b[0m \u001b[0mcut\u001b[0m\u001b[0;34m(\u001b[0m\u001b[0mself\u001b[0m\u001b[0;34m,\u001b[0m \u001b[0mminX\u001b[0m\u001b[0;34m,\u001b[0m \u001b[0mmaxX\u001b[0m\u001b[0;34m,\u001b[0m \u001b[0mminY\u001b[0m\u001b[0;34m,\u001b[0m \u001b[0mmaxY\u001b[0m\u001b[0;34m,\u001b[0m \u001b[0mminZ\u001b[0m\u001b[0;34m,\u001b[0m \u001b[0mmaxZ\u001b[0m\u001b[0;34m)\u001b[0m\u001b[0;34m:\u001b[0m\u001b[0;34m\u001b[0m\u001b[0;34m\u001b[0m\u001b[0m\n\u001b[0;32m---> 19\u001b[0;31m         \u001b[0;32mraise\u001b[0m \u001b[0mNotImplementedError\u001b[0m\u001b[0;34m\u001b[0m\u001b[0;34m\u001b[0m\u001b[0m\n\u001b[0m\u001b[1;32m     20\u001b[0m \u001b[0;34m\u001b[0m\u001b[0m\n\u001b[1;32m     21\u001b[0m \u001b[0;34m\u001b[0m\u001b[0m\n",
      "\u001b[0;31mNotImplementedError\u001b[0m: "
     ]
    }
   ],
   "source": [
    "prova.cut(0,0,0,0,0,0)"
   ]
  },
  {
   "cell_type": "code",
   "execution_count": null,
   "metadata": {},
   "outputs": [],
   "source": []
  }
 ],
 "metadata": {
  "kernelspec": {
   "display_name": "Python 3",
   "language": "python",
   "name": "python3"
  },
  "language_info": {
   "codemirror_mode": {
    "name": "ipython",
    "version": 3
   },
   "file_extension": ".py",
   "mimetype": "text/x-python",
   "name": "python",
   "nbconvert_exporter": "python",
   "pygments_lexer": "ipython3",
   "version": "3.7.4"
  }
 },
 "nbformat": 4,
 "nbformat_minor": 4
}
