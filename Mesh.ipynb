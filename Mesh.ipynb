{
 "cells": [
  {
   "cell_type": "code",
   "execution_count": 27,
   "metadata": {},
   "outputs": [],
   "source": [
    "import numpy as np"
   ]
  },
  {
   "cell_type": "code",
   "execution_count": 18,
   "metadata": {},
   "outputs": [],
   "source": [
    "class AbstractMesh(object):\n",
    "    \n",
    "    def __init__(self):\n",
    "        \n",
    "        self.vertices         = None #npArray (Nx3)\n",
    "        self.vtx_normals       = None #npArray (Nx3)\n",
    "        self.boundary         = None #TriMesh or QuadMesh\n",
    "        self.faces            = None #npArray (NxM)\n",
    "        self.vtx2face         = None #npArray (NxM)\n",
    "        self.__vtx2vtx        = None\n",
    "        self.__bounding_box    = None #npArray (2x3)\n",
    "        self.subspace         = None #npArray (3x2)\n",
    "        self.simplex_metrics   = None #dictionary[propertyName : npArray (Nx1)]\n",
    "        self.simplex_centroids = None #npArray (Nx1)\n",
    "        self.is_dirty          = None #Bool\n",
    "        \n",
    "        #CUT\n",
    "        self.__cut            = {'min_x':None, \n",
    "                                 'max_x':None, \n",
    "                                 'min_y':None, \n",
    "                                 'max_y':None, \n",
    "                                 'min_z':None, \n",
    "                                 'max_z':None}  \n",
    "        \n",
    "        super().__init__()\n",
    "     \n",
    "    @property\n",
    "    def cut(self):\n",
    "        return self.__cut\n",
    "    \n",
    "    def setCut(self, min_x = None, max_x = None, \n",
    "            min_y = None, max_y = None, \n",
    "            min_z = None, max_z = None):\n",
    "        \n",
    "        \n",
    "        if min_x:\n",
    "            self.__cut['min_x'] = min_x\n",
    "        if max_x:\n",
    "            self.__cut['max_x'] = max_x\n",
    "        if min_y:\n",
    "            self.__cut['min_y'] = min_y\n",
    "        if max_y:\n",
    "            self.__cut['max_y'] = max_y\n",
    "        if min_z:\n",
    "            self.__cut['min_z'] = min_z\n",
    "        if max_z:\n",
    "            self.__cut['max_z'] = max_z\n",
    "           \n",
    "\n",
    "    def loadFromFile(filename):\n",
    "        \n",
    "        raise NotImplementedError('This method must be implemented in the subclasses')\n",
    "        \n",
    "    \n",
    "    def saveFile(self, filename):\n",
    "        raise NotImplementedError('This method must be implemented in the subclasses')\n",
    "\n",
    "\n",
    "    def getMetric(self, propertyName, idElement):\n",
    "        \n",
    "        return self.simplexMetrics[propertyName][idElement]\n",
    "    \n",
    "    @property\n",
    "    def __simplexCentroids(self):\n",
    "        raise NotImplementedError('This method must be implemented in the subclasses')\n",
    "    \n",
    "    def __computeMetrics(self): \n",
    "        raise NotImplementedError('This method must be implemented in the subclasses')\n",
    "        \n",
    "    def addVertex(self, x, y, z): \n",
    "        \n",
    "        newVertex = np.array([x,y,z], dtype=np.float)\n",
    "        \n",
    "        self.vertices = np.concatenate([self.vertices, newVertex])\n",
    "    \n",
    "    \n",
    "    def addVertexList(newVertices):\n",
    "        \n",
    "        newVertices = np.array(newVertices)\n",
    "        self.vertices = np.concatenate([self.vertices, newVertices])\n",
    "        \n",
    "        \n",
    "    @property\n",
    "    def vtx2vtx(self, vtx):\n",
    "        \n",
    "        return self.__vtx2vtx[vtx]\n",
    "        \n",
    "    \n",
    "    @property\n",
    "    def bbox(self):\n",
    "\n",
    "        return self.__boundingBox\n",
    "    \n",
    "    \n",
    "    def __updateBoundingBox(self):\n",
    "        \n",
    "        minXCoord = self.vertices[:,0].min()\n",
    "        maxXCoord = self.vertices[:,0].max()\n",
    "        minYCoord = self.vertices[:,1].min()\n",
    "        maxYCoord = self.vertices[:,1].max()\n",
    "        minZCoord = self.vertices[:,2].min()\n",
    "        maxZCoord = self.vertices[:,2].max()\n",
    "        \n",
    "        self.__boundingBox = np.array([[minXCoord, maxXCoord],[minYCoord, maxXCoord],[minZCoord, maxZCoord]])\n",
    "        \n",
    "        "
   ]
  },
  {
   "cell_type": "code",
   "execution_count": 38,
   "metadata": {},
   "outputs": [],
   "source": [
    "class Trimesh(AbstractMesh):\n",
    "    \n",
    "    \n",
    "    def __init__(self):\n",
    "        self.prova(5)\n",
    "        pass\n",
    "    \n",
    "    \n",
    "    def prova(self,value):\n",
    "        vertices = value"
   ]
  },
  {
   "cell_type": "code",
   "execution_count": 19,
   "metadata": {},
   "outputs": [],
   "source": [
    "prova = AbstractMesh()"
   ]
  },
  {
   "cell_type": "code",
   "execution_count": 21,
   "metadata": {},
   "outputs": [],
   "source": [
    "prova.setCut(10, 12, 14, 16, 18, 20)"
   ]
  },
  {
   "cell_type": "code",
   "execution_count": 24,
   "metadata": {},
   "outputs": [
    {
     "data": {
      "text/plain": [
       "18"
      ]
     },
     "execution_count": 24,
     "metadata": {},
     "output_type": "execute_result"
    }
   ],
   "source": [
    "prova.cut['min_z']"
   ]
  },
  {
   "cell_type": "code",
   "execution_count": 37,
   "metadata": {},
   "outputs": [],
   "source": [
    "vtx, faces, face_norm = read_obj('bunny.obj')"
   ]
  },
  {
   "cell_type": "code",
   "execution_count": 42,
   "metadata": {},
   "outputs": [
    {
     "data": {
      "text/plain": [
       "array([], dtype=float64)"
      ]
     },
     "execution_count": 42,
     "metadata": {},
     "output_type": "execute_result"
    }
   ],
   "source": [
    "face_norm"
   ]
  },
  {
   "cell_type": "code",
   "execution_count": null,
   "metadata": {},
   "outputs": [],
   "source": []
  }
 ],
 "metadata": {
  "kernelspec": {
   "display_name": "Python 3",
   "language": "python",
   "name": "python3"
  },
  "language_info": {
   "codemirror_mode": {
    "name": "ipython",
    "version": 3
   },
   "file_extension": ".py",
   "mimetype": "text/x-python",
   "name": "python",
   "nbconvert_exporter": "python",
   "pygments_lexer": "ipython3",
   "version": "3.7.4"
  }
 },
 "nbformat": 4,
 "nbformat_minor": 4
}
