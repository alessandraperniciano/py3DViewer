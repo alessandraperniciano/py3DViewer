{
 "cells": [
  {
   "cell_type": "code",
   "execution_count": 1,
   "metadata": {},
   "outputs": [],
   "source": [
    "\"\"\"\n",
    "Running this cell takes some time the first time, because the Numba JIT compilaton that compiles some \n",
    "\"\"\"\n",
    "\n",
    "from Py3DViewer import Trimesh, Quadmesh, Tetmesh, Hexmesh\n",
    "from Py3DViewer import Viewer, laplacian_smoothing\n",
    "import numpy as np"
   ]
  },
  {
   "cell_type": "code",
   "execution_count": 2,
   "metadata": {},
   "outputs": [],
   "source": [
    "mesh = [Trimesh('data/bunny_tris.obj')]"
   ]
  },
  {
   "cell_type": "code",
   "execution_count": 3,
   "metadata": {},
   "outputs": [
    {
     "name": "stderr",
     "output_type": "stream",
     "text": [
      "/usr/local/lib/python3.7/dist-packages/traitlets/traitlets.py:567: RuntimeWarning: invalid value encountered in equal\n",
      "  silent = bool(old_value == new_value)\n"
     ]
    },
    {
     "data": {
      "text/plain": [
       "Use the show method to view the content."
      ]
     },
     "execution_count": 3,
     "metadata": {},
     "output_type": "execute_result"
    }
   ],
   "source": [
    "\"\"\"\n",
    "After running this cell, you will notice that the quad bunny is quite larger than the tri bunny,\n",
    "and is also oriented differently.\n",
    "\"\"\"\n",
    "viewer = Viewer(mesh, width=1000, height=300)\n",
    "viewer"
   ]
  },
  {
   "cell_type": "code",
   "execution_count": 4,
   "metadata": {},
   "outputs": [
    {
     "data": {
      "application/vnd.jupyter.widget-view+json": {
       "model_id": "26ea936431994eda90c03ed6b0eafe43",
       "version_major": 2,
       "version_minor": 0
      },
      "text/plain": [
       "Renderer(camera=PerspectiveCamera(aspect=3.3333333333333335, children=(DirectionalLight(matrixWorldNeedsUpdate…"
      ]
     },
     "metadata": {},
     "output_type": "display_data"
    }
   ],
   "source": [
    "viewer.show()"
   ]
  },
  {
   "cell_type": "code",
   "execution_count": null,
   "metadata": {},
   "outputs": [],
   "source": [
    "for i in range(10):\n",
    "    mesh[0].vertices[:] *= 10"
   ]
  },
  {
   "cell_type": "code",
   "execution_count": null,
   "metadata": {},
   "outputs": [],
   "source": [
    "\"\"\"\n",
    "Let's first scale the meshes to have a bounding box diagonal of 10, then update the viewer. \n",
    "NOTE: The viewer update takes some time depending\n",
    "on the quality of your connect, since the new geometry is streamed from the backend to your browser.\n",
    "\"\"\"\n",
    "\n",
    "mesh[0].vertices /= np.linalg.norm(mesh[0].bbox[1]-mesh[0].bbox[0])\n",
    "mesh[0].vertices *= 10\n",
    "mesh[1].vertices /= np.linalg.norm(mesh[1].bbox[1]-mesh[1].bbox[0])\n",
    "mesh[1].vertices *=10\n",
    "viewer.update_controls()\n",
    "viewer.update()"
   ]
  },
  {
   "cell_type": "code",
   "execution_count": null,
   "metadata": {},
   "outputs": [],
   "source": [
    "\"\"\"\n",
    "Let's rotate the quad bunny by using the extremely useful scientific computing library scipy.\n",
    "\"\"\"\n",
    "from scipy.spatial.transform import Rotation as R\n",
    "rot = R.from_euler('x', -90, degrees=True)\n",
    "mesh[1].vertices[:] = rot.apply(mesh[1].vertices)\n",
    "viewer.update()"
   ]
  },
  {
   "cell_type": "code",
   "execution_count": null,
   "metadata": {},
   "outputs": [],
   "source": [
    "\"\"\"\n",
    "Let's now do the same with a \"reactive\" approach.\n",
    "When using a reactive viewer, the user can simply act on the mesh data however they choose, and the viewer\n",
    "is asynchronously updated (with a minimal, if any, overhead on the computation).\n",
    "\n",
    "Again, consider that the redraws are strongly bound by the fact that the Python and Javascript backend are\n",
    "de-coupled in this context, since Binder runs in the cloud. We highly suggest trying the library locally to\n",
    "properly experience the reactive redraws.\n",
    "\"\"\"\n",
    "mesh2 = [Trimesh('data/bunny_tris.obj'), Quadmesh('data/bunny_quad.obj')]\n",
    "viewer2 = Viewer(mesh2, width=1000, height=500, reactive=True)\n",
    "viewer2"
   ]
  },
  {
   "cell_type": "code",
   "execution_count": null,
   "metadata": {},
   "outputs": [],
   "source": [
    "mesh2[0].vertices /= np.linalg.norm(mesh2[0].bbox[1]-mesh2[0].bbox[0])\n",
    "mesh2[0].vertices *= 10\n",
    "mesh2[1].vertices /= np.linalg.norm(mesh2[1].bbox[1]-mesh2[1].bbox[0])\n",
    "mesh2[1].vertices *=10\n",
    "viewer2.update_controls()\n",
    "rot2 = R.from_euler('x', -90, degrees=True)\n",
    "mesh2[1].vertices[:] = rot2.apply(mesh2[1].vertices)"
   ]
  },
  {
   "cell_type": "code",
   "execution_count": null,
   "metadata": {},
   "outputs": [],
   "source": [
    "\"\"\"\n",
    "Here's an example with the GUI, which only works with a single mesh per scene so far. We are working to support multiple meshes.\n",
    "\"\"\"\n",
    "mesh3 = Hexmesh('data/double_hinge_hex.mesh')\n",
    "viewer3 = Viewer(mesh3, width=1000, height=300, with_gui=True)\n",
    "viewer3"
   ]
  },
  {
   "cell_type": "code",
   "execution_count": null,
   "metadata": {},
   "outputs": [],
   "source": []
  }
 ],
 "metadata": {
  "kernelspec": {
   "display_name": "Python 3",
   "language": "python",
   "name": "python3"
  },
  "language_info": {
   "codemirror_mode": {
    "name": "ipython",
    "version": 3
   },
   "file_extension": ".py",
   "mimetype": "text/x-python",
   "name": "python",
   "nbconvert_exporter": "python",
   "pygments_lexer": "ipython3",
   "version": "3.7.2"
  }
 },
 "nbformat": 4,
 "nbformat_minor": 4
}
