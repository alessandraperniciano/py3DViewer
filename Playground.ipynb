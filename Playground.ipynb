{
 "cells": [
  {
   "cell_type": "code",
   "execution_count": 1,
   "metadata": {},
   "outputs": [],
   "source": [
    "\"\"\"\n",
    "Running this cell takes some time the first time, because the Numba JIT compilaton that compiles some \n",
    "\n",
    "\"\"\"\n",
    "from Py3DViewer import Trimesh, Quadmesh, Tetmesh, Hexmesh\n",
    "from Py3DViewer import Viewer, laplacian_smoothing\n",
    "import numpy as np"
   ]
  },
  {
   "cell_type": "code",
   "execution_count": 2,
   "metadata": {},
   "outputs": [],
   "source": [
    "mesh = [Trimesh('data/bunny_tris.obj'), Quadmesh('data/bunny_quad.obj')]"
   ]
  },
  {
   "cell_type": "code",
   "execution_count": 3,
   "metadata": {},
   "outputs": [
    {
     "data": {
      "application/vnd.jupyter.widget-view+json": {
       "model_id": "2b41469bd7c84fcdaa613ecc1a02a575",
       "version_major": 2,
       "version_minor": 0
      },
      "text/plain": [
       "Renderer(camera=PerspectiveCamera(aspect=3.3333333333333335, children=(DirectionalLight(position=(0.0, 10.0, 0…"
      ]
     },
     "metadata": {},
     "output_type": "display_data"
    },
    {
     "data": {
      "text/plain": []
     },
     "execution_count": 3,
     "metadata": {},
     "output_type": "execute_result"
    }
   ],
   "source": [
    "\"\"\"\n",
    "After running this cell, you will notice that the quad bunny is quite larger than the tri bunny,\n",
    "and is also oriented differently.\n",
    "\"\"\"\n",
    "viewer = Viewer(mesh, width=1000, height=300)\n",
    "viewer"
   ]
  },
  {
   "cell_type": "code",
   "execution_count": 4,
   "metadata": {},
   "outputs": [],
   "source": [
    "\"\"\"\n",
    "Let's first scale the meshes to have a bounding box diagonal of 10, then update the viewer. \n",
    "NOTE: The viewer update takes some time depending\n",
    "on the quality of your connect, since the new geometry is streamed from the backend to your browser.\n",
    "\"\"\"\n",
    "\n",
    "mesh[0].vertices /= np.linalg.norm(mesh[0].bbox[1]-mesh[0].bbox[0])\n",
    "mesh[0].vertices *= 10\n",
    "mesh[1].vertices /= np.linalg.norm(mesh[1].bbox[1]-mesh[1].bbox[0])\n",
    "mesh[1].vertices *=10\n",
    "viewer.update_controls()\n",
    "viewer.update()"
   ]
  },
  {
   "cell_type": "code",
   "execution_count": 5,
   "metadata": {},
   "outputs": [],
   "source": [
    "\"\"\"\n",
    "Let's rotate the quad bunny by using the extremely useful scientific computing library scipy.\n",
    "\"\"\"\n",
    "from scipy.spatial.transform import Rotation as R\n",
    "rot = R.from_euler('x', -90, degrees=True)\n",
    "mesh[1].vertices[:] = rot.apply(mesh[1].vertices)\n",
    "viewer.update()"
   ]
  },
  {
   "cell_type": "code",
   "execution_count": 6,
   "metadata": {},
   "outputs": [
    {
     "data": {
      "application/vnd.jupyter.widget-view+json": {
       "model_id": "1133c2db1e78411aa485a42a59a988c9",
       "version_major": 2,
       "version_minor": 0
      },
      "text/plain": [
       "Renderer(camera=PerspectiveCamera(aspect=2.0, children=(DirectionalLight(position=(0.0, 10.0, 0.0), quaternion…"
      ]
     },
     "metadata": {},
     "output_type": "display_data"
    },
    {
     "data": {
      "text/plain": []
     },
     "execution_count": 6,
     "metadata": {},
     "output_type": "execute_result"
    }
   ],
   "source": [
    "\"\"\"\n",
    "Let's now do the same with a \"reactive\" approach.\n",
    "When using a reactive viewer, the user can simply act on the mesh data however they choose, and the viewer\n",
    "is asynchronously updated (with a minimal, if any, overhead on the computation).\n",
    "\n",
    "Again, consider that the redraws are strongly bound by the fact that the Python and Javascript backend are\n",
    "de-coupled in this context, since Binder runs in the cloud. We highly suggest trying the library locally to\n",
    "properly experience the reactive redraws.\n",
    "\"\"\"\n",
    "mesh2 = [Trimesh('data/bunny_tris.obj'), Quadmesh('data/bunny_quad.obj')]\n",
    "viewer2 = Viewer(mesh2, width=1000, height=500, reactive=True)\n",
    "viewer2"
   ]
  },
  {
   "cell_type": "code",
   "execution_count": 8,
   "metadata": {},
   "outputs": [],
   "source": [
    "mesh2[0].vertices /= np.linalg.norm(mesh2[0].bbox[1]-mesh2[0].bbox[0])\n",
    "mesh2[0].vertices *= 10\n",
    "mesh2[1].vertices /= np.linalg.norm(mesh2[1].bbox[1]-mesh2[1].bbox[0])\n",
    "mesh2[1].vertices *=10\n",
    "viewer2.update_controls()\n",
    "rot2 = R.from_euler('x', -90, degrees=True)\n",
    "mesh2[1].vertices[:] = rot2.apply(mesh2[1].vertices)"
   ]
  },
  {
   "cell_type": "code",
   "execution_count": 9,
   "metadata": {},
   "outputs": [
    {
     "data": {
      "application/vnd.jupyter.widget-view+json": {
       "model_id": "0c2e7e5513994b378e23e56aa3d0fd76",
       "version_major": 2,
       "version_minor": 0
      },
      "text/plain": [
       "HBox(children=(FloatRangeSlider(value=(0.012374861637492563, 30.1132707384022), description='X Clipping:', max…"
      ]
     },
     "metadata": {},
     "output_type": "display_data"
    },
    {
     "data": {
      "application/vnd.jupyter.widget-view+json": {
       "model_id": "b8393829450247d5ae75d07a6f874aaa",
       "version_major": 2,
       "version_minor": 0
      },
      "text/plain": [
       "HBox(children=(FloatRangeSlider(value=(-0.07395435249202324, 15.13990811155742), description='Y Clipping:', ma…"
      ]
     },
     "metadata": {},
     "output_type": "display_data"
    },
    {
     "data": {
      "application/vnd.jupyter.widget-view+json": {
       "model_id": "56670d470e1d4bfcbcf5907358eb08bc",
       "version_major": 2,
       "version_minor": 0
      },
      "text/plain": [
       "HBox(children=(FloatRangeSlider(value=(-0.07353763389816496, 15.138676967458913), description='Z Clipping:', m…"
      ]
     },
     "metadata": {},
     "output_type": "display_data"
    },
    {
     "data": {
      "application/vnd.jupyter.widget-view+json": {
       "model_id": "8ad28af1a27c408a916a028f67c8dfdb",
       "version_major": 2,
       "version_minor": 0
      },
      "text/plain": [
       "HBox(children=(FloatSlider(value=0.4, description='Wireframe', max=1.0, readout_format='.1f'), ColorPicker(val…"
      ]
     },
     "metadata": {},
     "output_type": "display_data"
    },
    {
     "data": {
      "application/vnd.jupyter.widget-view+json": {
       "model_id": "ce2a85b125154dc3b865786a27dfeec5",
       "version_major": 2,
       "version_minor": 0
      },
      "text/plain": [
       "Dropdown(description='Color-Map:', layout=Layout(display='none'), options=(('virdis', 0), ('parula', 1), ('jet…"
      ]
     },
     "metadata": {},
     "output_type": "display_data"
    },
    {
     "data": {
      "application/vnd.jupyter.widget-view+json": {
       "model_id": "1a3e7a72e23040c78f5837d1d7fa0d18",
       "version_major": 2,
       "version_minor": 0
      },
      "text/plain": [
       "Dropdown(description='Metric:', layout=Layout(display='none'), options=(('scaled_jacobian', 0), ('volume', 1))…"
      ]
     },
     "metadata": {},
     "output_type": "display_data"
    },
    {
     "data": {
      "application/vnd.jupyter.widget-view+json": {
       "model_id": "ad97d2faa43f4a1ea804daebab827854",
       "version_major": 2,
       "version_minor": 0
      },
      "text/plain": [
       "Dropdown(description='Color Type:', options=(('Default', 0), ('Simplex Quality', 1), ('Label', 2)), value=0)"
      ]
     },
     "metadata": {},
     "output_type": "display_data"
    },
    {
     "data": {
      "application/vnd.jupyter.widget-view+json": {
       "model_id": "05adb20fe5d5444fbcebcc40a14b0f9f",
       "version_major": 2,
       "version_minor": 0
      },
      "text/plain": [
       "HBox(children=(ColorPicker(value='#ffa500', concise=True, description='Internal'), ColorPicker(value='#01d4b4'…"
      ]
     },
     "metadata": {},
     "output_type": "display_data"
    },
    {
     "data": {
      "application/vnd.jupyter.widget-view+json": {
       "model_id": "02ab15dbb8eb4ab09db5625fd5414916",
       "version_major": 2,
       "version_minor": 0
      },
      "text/plain": [
       "HBox(children=(ColorPicker(value='#3f0620', concise=True, description='Label 0', layout=Layout(display='')),),…"
      ]
     },
     "metadata": {},
     "output_type": "display_data"
    },
    {
     "data": {
      "application/vnd.jupyter.widget-view+json": {
       "model_id": "d81d29f57f9f4d539eb6d9d4ad882637",
       "version_major": 2,
       "version_minor": 0
      },
      "text/plain": [
       "Renderer(camera=PerspectiveCamera(aspect=3.3333333333333335, children=(DirectionalLight(position=(0.0, 10.0, 0…"
      ]
     },
     "metadata": {},
     "output_type": "display_data"
    },
    {
     "data": {
      "text/plain": []
     },
     "execution_count": 9,
     "metadata": {},
     "output_type": "execute_result"
    }
   ],
   "source": [
    "\"\"\"\n",
    "Here's an example with the GUI, which only works with a single mesh per scene so far. We are working to support multiple meshes.\n",
    "\"\"\"\n",
    "mesh3 = Hexmesh('data/double_hinge_hex.mesh')\n",
    "viewer3 = Viewer(mesh3, width=1000, height=300, with_gui=True)\n",
    "viewer3"
   ]
  },
  {
   "cell_type": "code",
   "execution_count": null,
   "metadata": {},
   "outputs": [],
   "source": []
  }
 ],
 "metadata": {
  "kernelspec": {
   "display_name": "Python 3",
   "language": "python",
   "name": "python3"
  },
  "language_info": {
   "codemirror_mode": {
    "name": "ipython",
    "version": 3
   },
   "file_extension": ".py",
   "mimetype": "text/x-python",
   "name": "python",
   "nbconvert_exporter": "python",
   "pygments_lexer": "ipython3",
   "version": "3.7.4"
  }
 },
 "nbformat": 4,
 "nbformat_minor": 4
}
