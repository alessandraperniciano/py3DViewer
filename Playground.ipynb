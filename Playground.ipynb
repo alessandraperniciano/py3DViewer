{
 "cells": [
  {
   "cell_type": "code",
   "execution_count": 1,
   "metadata": {},
   "outputs": [],
   "source": [
    "\"\"\"\n",
    "Running this cell takes some time the first time, because the Numba JIT compilaton that compiles some \n",
    "\n",
    "\"\"\"\n",
    "from Py3DViewer import Trimesh, Quadmesh, Tetmesh, Hexmesh\n",
    "from Py3DViewer import Viewer\n",
    "import numpy as np"
   ]
  },
  {
   "cell_type": "code",
   "execution_count": 2,
   "metadata": {},
   "outputs": [],
   "source": [
    "mesh = Hexmesh('data/bumpy_hex.mesh')"
   ]
  },
  {
   "cell_type": "code",
   "execution_count": 3,
   "metadata": {},
   "outputs": [
    {
     "data": {
      "application/vnd.jupyter.widget-view+json": {
       "model_id": "e18f0db0f73346aebba41cb722bc4d4a",
       "version_major": 2,
       "version_minor": 0
      },
      "text/plain": [
       "Renderer(camera=PerspectiveCamera(aspect=4.0, children=(DirectionalLight(position=(0.0, 10.0, 0.0), quaternion…"
      ]
     },
     "metadata": {},
     "output_type": "display_data"
    },
    {
     "data": {
      "text/plain": []
     },
     "execution_count": 3,
     "metadata": {},
     "output_type": "execute_result"
    }
   ],
   "source": [
    "\"\"\"\n",
    "After running this cell, you will notice that the quad bunny is quite larger than the tri bunny,\n",
    "and is also oriented differently.\n",
    "\"\"\"\n",
    "viewer = Viewer(mesh, width=2000, height=500, reactive=True)\n",
    "viewer"
   ]
  },
  {
   "cell_type": "code",
   "execution_count": 4,
   "metadata": {},
   "outputs": [],
   "source": [
    "\"\"\"\n",
    "Let's first normalize the vertices, then update the viewer. \n",
    "NOTE: The viewer update takes some time depending\n",
    "on the quality of your internet service, since the new geometry is streamed from the backend to your browser.\n",
    "\n",
    "Also, ignore the warning. We are going to fix these mini-problems ASAP.\n",
    "\"\"\"\n",
    "\"\"\"\n",
    "mesh[0].vertices /= np.linalg.norm(mesh[0].bbox[1]-mesh[0].bbox[0])\n",
    "mesh[0].vertices*=10\n",
    "mesh[1].vertices /= np.linalg.norm(mesh[1].bbox[1]-mesh[1].bbox[0])\n",
    "mesh[1].vertices*=10\n",
    "\"\"\"\n",
    "mesh.vertices /= np.linalg.norm(mesh.bbox[1]-mesh.bbox[0])\n",
    "viewer.update_controls()"
   ]
  },
  {
   "cell_type": "code",
   "execution_count": 8,
   "metadata": {},
   "outputs": [
    {
     "data": {
      "text/plain": [
       "array([[0.83097281, 4.23993445, 1.52795571],\n",
       "       [3.06350272, 5.6566143 , 1.95003587],\n",
       "       [2.28693588, 4.24991985, 2.47643902],\n",
       "       ...,\n",
       "       [2.72882723, 5.3916371 , 1.58751897],\n",
       "       [3.99115734, 4.64022828, 3.57891295],\n",
       "       [2.08244965, 4.01111816, 4.29275432]])"
      ]
     },
     "execution_count": 8,
     "metadata": {},
     "output_type": "execute_result"
    }
   ],
   "source": [
    "mesh.vertices"
   ]
  },
  {
   "cell_type": "code",
   "execution_count": 12,
   "metadata": {},
   "outputs": [
    {
     "data": {
      "text/plain": [
       "1.0"
      ]
     },
     "execution_count": 12,
     "metadata": {},
     "output_type": "execute_result"
    }
   ],
   "source": [
    "np.linalg.norm(mesh[0].bbox[1]-mesh[0].bbox[0])"
   ]
  },
  {
   "cell_type": "code",
   "execution_count": 11,
   "metadata": {},
   "outputs": [
    {
     "data": {
      "text/plain": [
       "array([[ 9.64960868e-02, -2.87474319e-01,  1.39921369e-01],\n",
       "       [-7.67789851e-02,  1.81654279e-01,  1.84885256e-02],\n",
       "       [ 1.01280328e-01, -2.86864553e-01,  1.32417979e-01],\n",
       "       ...,\n",
       "       [-5.06613735e-02,  1.80944705e-01, -1.23824496e-04],\n",
       "       [ 2.50146692e-01, -1.02162695e-01,  7.52980816e-02],\n",
       "       [ 1.08660206e-01, -1.04248997e-01,  2.25872724e-01]])"
      ]
     },
     "execution_count": 11,
     "metadata": {},
     "output_type": "execute_result"
    }
   ],
   "source": [
    "mesh[0].vertices"
   ]
  },
  {
   "cell_type": "code",
   "execution_count": 10,
   "metadata": {},
   "outputs": [],
   "source": [
    "\"\"\"\n",
    "Let's rotate the quad bunny by using the extremely useful scientific computing library scipy.\n",
    "\"\"\"\n",
    "from scipy.spatial.transform import Rotation as R\n",
    "rot = R.from_euler('x', -90, degrees=True)\n",
    "mesh[1].vertices = rot.apply(mesh[1].vertices)\n",
    "viewer.update()"
   ]
  },
  {
   "cell_type": "code",
   "execution_count": 36,
   "metadata": {},
   "outputs": [],
   "source": [
    "viewer.camera.position = tuple(np.mean([drawable.center for drawable in viewer.drawables], axis=0))"
   ]
  },
  {
   "cell_type": "code",
   "execution_count": 26,
   "metadata": {},
   "outputs": [
    {
     "data": {
      "text/plain": [
       "array([[ 0.25969417, -0.01655568,  0.0245404 ],\n",
       "       [ 0.25890282, -0.03483695,  0.02366463],\n",
       "       [ 0.27954405, -0.03421129,  0.01915897],\n",
       "       ...,\n",
       "       [ 0.10891762, -0.58816335,  0.4502681 ],\n",
       "       [ 0.10566833, -0.58994126,  0.46952609],\n",
       "       [ 0.1150439 , -0.59192772,  0.46441492]])"
      ]
     },
     "execution_count": 26,
     "metadata": {},
     "output_type": "execute_result"
    }
   ],
   "source": [
    "rot.apply(mesh[1].vertices)"
   ]
  },
  {
   "cell_type": "code",
   "execution_count": null,
   "metadata": {},
   "outputs": [],
   "source": []
  }
 ],
 "metadata": {
  "kernelspec": {
   "display_name": "Python 3",
   "language": "python",
   "name": "python3"
  },
  "language_info": {
   "codemirror_mode": {
    "name": "ipython",
    "version": 3
   },
   "file_extension": ".py",
   "mimetype": "text/x-python",
   "name": "python",
   "nbconvert_exporter": "python",
   "pygments_lexer": "ipython3",
   "version": "3.7.4"
  }
 },
 "nbformat": 4,
 "nbformat_minor": 4
}
