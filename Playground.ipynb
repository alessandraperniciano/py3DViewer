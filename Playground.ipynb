{
 "cells": [
  {
   "cell_type": "code",
   "execution_count": 1,
   "metadata": {},
   "outputs": [],
   "source": [
    "\"\"\"\n",
    "Running this cell takes some time the first time, because the Numba JIT compilaton that compiles some \n",
    "\n",
    "\"\"\"\n",
    "from Py3DViewer import Trimesh, Quadmesh, Tetmesh, Hexmesh\n",
    "from Py3DViewer import Viewer, laplacian_smoothing\n",
    "import numpy as np"
   ]
  },
  {
   "cell_type": "code",
   "execution_count": 2,
   "metadata": {},
   "outputs": [],
   "source": [
    "mesh = [Trimesh('data/bunny_tris.obj'), Quadmesh('data/bunny_quad.obj')]"
   ]
  },
  {
   "cell_type": "code",
   "execution_count": 3,
   "metadata": {},
   "outputs": [
    {
     "data": {
      "application/vnd.jupyter.widget-view+json": {
       "model_id": "237d025ee5ff4745b70259466ce97f41",
       "version_major": 2,
       "version_minor": 0
      },
      "text/plain": [
       "Renderer(camera=PerspectiveCamera(aspect=2.0, children=(DirectionalLight(position=(0.0, 10.0, 0.0), quaternion…"
      ]
     },
     "metadata": {},
     "output_type": "display_data"
    },
    {
     "data": {
      "text/plain": []
     },
     "execution_count": 3,
     "metadata": {},
     "output_type": "execute_result"
    }
   ],
   "source": [
    "\"\"\"\n",
    "After running this cell, you will notice that the quad bunny is quite larger than the tri bunny,\n",
    "and is also oriented differently.\n",
    "\"\"\"\n",
    "viewer = Viewer(mesh, width=1000, height=500)\n",
    "viewer"
   ]
  },
  {
   "cell_type": "code",
   "execution_count": 4,
   "metadata": {},
   "outputs": [],
   "source": [
    "\"\"\"\n",
    "Let's first scale the meshes to have a bounding box diagonal of 10, then update the viewer. \n",
    "NOTE: The viewer update takes some time depending\n",
    "on the quality of your internet service, since the new geometry is streamed from the backend to your browser.\n",
    "\n",
    "Also, ignore the warning. We are going to fix these mini-problems ASAP.\n",
    "\"\"\"\n",
    "mesh[0].vertices /= np.linalg.norm(mesh[0].bbox[1]-mesh[0].bbox[0])\n",
    "mesh[0].vertices *= 10\n",
    "mesh[1].vertices /= np.linalg.norm(mesh[1].bbox[1]-mesh[1].bbox[0])\n",
    "mesh[1].vertices *=10\n",
    "viewer.update_controls()\n",
    "viewer.update()"
   ]
  },
  {
   "cell_type": "code",
   "execution_count": null,
   "metadata": {},
   "outputs": [],
   "source": [
    "\"\"\"\n",
    "Let's rotate the quad bunny by using the extremely useful scientific computing library scipy.\n",
    "\"\"\"\n",
    "from scipy.spatial.transform import Rotation as R\n",
    "rot = R.from_euler('x', -90, degrees=True)\n",
    "mesh[1].vertices[:] = rot.apply(mesh[1].vertices)\n",
    "viewer.update()"
   ]
  },
  {
   "cell_type": "code",
   "execution_count": null,
   "metadata": {},
   "outputs": [],
   "source": [
    "\"\"\"\n",
    "Let's now do the same with a \"reactive\" approach.\n",
    "When using a reactive viewer, the user can simply act on the mesh data however they choose, and the viewer\n",
    "is asynchronously updated (with a minimal, if any, overhead on the computation).\n",
    "\n",
    "Again, consider that the redraws are strongly bound by the fact that the Python and Javascript backend are\n",
    "de-coupled in this context, since Binder runs in the cloud. We highly suggest trying the library locally to\n",
    "properly experience the reactive redraws.\n",
    "\"\"\"\n",
    "mesh2 = [Trimesh('data/bunny_tris.obj'), Quadmesh('data/bunny_quad.obj')]\n",
    "viewer2 = Viewer(mesh2, width=1000, height=500, reactive=True)\n",
    "viewer2"
   ]
  },
  {
   "cell_type": "code",
   "execution_count": null,
   "metadata": {},
   "outputs": [],
   "source": [
    "mesh2[0].vertices /= np.linalg.norm(mesh2[0].bbox[1]-mesh2[0].bbox[0])\n",
    "mesh2[0].vertices *= 10\n",
    "mesh2[1].vertices /= np.linalg.norm(mesh2[1].bbox[1]-mesh2[1].bbox[0])\n",
    "mesh2[1].vertices *=10\n",
    "viewer2.update_controls()\n",
    "rot2 = R.from_euler('x', -90, degrees=True)\n",
    "mesh2[1].vertices[:] = rot2.apply(mesh2[1].vertices)"
   ]
  },
  {
   "cell_type": "code",
   "execution_count": 2,
   "metadata": {},
   "outputs": [
    {
     "data": {
      "application/vnd.jupyter.widget-view+json": {
       "model_id": "f7c974d5e3c44c849230f29c9c841f22",
       "version_major": 2,
       "version_minor": 0
      },
      "text/plain": [
       "HBox(children=(FloatRangeSlider(value=(0.012374861637492563, 30.1132707384022), description='X Clipping:', max…"
      ]
     },
     "metadata": {},
     "output_type": "display_data"
    },
    {
     "data": {
      "application/vnd.jupyter.widget-view+json": {
       "model_id": "2aa5f88a67004591814dfde1c36ba100",
       "version_major": 2,
       "version_minor": 0
      },
      "text/plain": [
       "HBox(children=(FloatRangeSlider(value=(-0.07395435249202324, 15.13990811155742), description='Y Clipping:', ma…"
      ]
     },
     "metadata": {},
     "output_type": "display_data"
    },
    {
     "data": {
      "application/vnd.jupyter.widget-view+json": {
       "model_id": "69dc042974f34919974561cf61e67f34",
       "version_major": 2,
       "version_minor": 0
      },
      "text/plain": [
       "HBox(children=(FloatRangeSlider(value=(-0.07353763389816496, 15.138676967458913), description='Z Clipping:', m…"
      ]
     },
     "metadata": {},
     "output_type": "display_data"
    },
    {
     "data": {
      "application/vnd.jupyter.widget-view+json": {
       "model_id": "a95ddbdb00234afcb4a8ad5080291ef3",
       "version_major": 2,
       "version_minor": 0
      },
      "text/plain": [
       "HBox(children=(FloatSlider(value=0.4, description='Wireframe', max=1.0, readout_format='.1f'), ColorPicker(val…"
      ]
     },
     "metadata": {},
     "output_type": "display_data"
    },
    {
     "data": {
      "application/vnd.jupyter.widget-view+json": {
       "model_id": "9d5150901e81456ba329a9e8e7831c36",
       "version_major": 2,
       "version_minor": 0
      },
      "text/plain": [
       "Dropdown(description='Color-Map:', layout=Layout(display='none'), options=(('virdis', 0), ('parula', 1), ('jet…"
      ]
     },
     "metadata": {},
     "output_type": "display_data"
    },
    {
     "data": {
      "application/vnd.jupyter.widget-view+json": {
       "model_id": "861750c7affd401694e7fa92eb43081c",
       "version_major": 2,
       "version_minor": 0
      },
      "text/plain": [
       "Dropdown(description='Metric:', layout=Layout(display='none'), options=(('scaled_jacobian', 0), ('volume', 1))…"
      ]
     },
     "metadata": {},
     "output_type": "display_data"
    },
    {
     "data": {
      "application/vnd.jupyter.widget-view+json": {
       "model_id": "ab65433529034b11a3adcfb53d768bec",
       "version_major": 2,
       "version_minor": 0
      },
      "text/plain": [
       "Dropdown(description='Color Type:', options=(('Default', 0), ('Simplex Quality', 1), ('Label', 2)), value=0)"
      ]
     },
     "metadata": {},
     "output_type": "display_data"
    },
    {
     "data": {
      "application/vnd.jupyter.widget-view+json": {
       "model_id": "30a8fdf166d3408f865c1da024f18721",
       "version_major": 2,
       "version_minor": 0
      },
      "text/plain": [
       "HBox(children=(ColorPicker(value='#ffa500', concise=True, description='Internal'), ColorPicker(value='#01d4b4'…"
      ]
     },
     "metadata": {},
     "output_type": "display_data"
    },
    {
     "data": {
      "application/vnd.jupyter.widget-view+json": {
       "model_id": "939858c44c4840d3986944f71975bbf7",
       "version_major": 2,
       "version_minor": 0
      },
      "text/plain": [
       "HBox(children=(ColorPicker(value='#161a62', concise=True, description='Label 0', layout=Layout(display='')),),…"
      ]
     },
     "metadata": {},
     "output_type": "display_data"
    },
    {
     "data": {
      "application/vnd.jupyter.widget-view+json": {
       "model_id": "557384212abb481692e0a95aa7cc10fa",
       "version_major": 2,
       "version_minor": 0
      },
      "text/plain": [
       "Renderer(camera=PerspectiveCamera(aspect=2.0, children=(DirectionalLight(position=(0.0, 10.0, 0.0), quaternion…"
      ]
     },
     "metadata": {},
     "output_type": "display_data"
    },
    {
     "data": {
      "text/plain": []
     },
     "execution_count": 2,
     "metadata": {},
     "output_type": "execute_result"
    }
   ],
   "source": [
    "\"\"\"\n",
    "Here's an example with the GUI, which only works with a single mesh per scene so far. We are working to support multiple meshes.\n",
    "\"\"\"\n",
    "mesh3 = Hexmesh('data/double_hinge_hex.mesh')\n",
    "viewer3 = Viewer(mesh3, width=1000, height=500, with_gui=True)\n",
    "viewer3"
   ]
  },
  {
   "cell_type": "code",
   "execution_count": null,
   "metadata": {},
   "outputs": [],
   "source": []
  }
 ],
 "metadata": {
  "kernelspec": {
   "display_name": "Python 3",
   "language": "python",
   "name": "python3"
  },
  "language_info": {
   "codemirror_mode": {
    "name": "ipython",
    "version": 3
   },
   "file_extension": ".py",
   "mimetype": "text/x-python",
   "name": "python",
   "nbconvert_exporter": "python",
   "pygments_lexer": "ipython3",
   "version": "3.7.4"
  }
 },
 "nbformat": 4,
 "nbformat_minor": 4
}
