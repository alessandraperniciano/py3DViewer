{
 "cells": [
  {
   "cell_type": "code",
   "execution_count": 30,
   "metadata": {},
   "outputs": [],
   "source": [
    "\"\"\"\n",
    "Running this cell takes some time the first time, because the Numba JIT compilaton that compiles some \n",
    "\n",
    "\"\"\"\n",
    "from Py3DViewer import Trimesh, Quadmesh, Tetmesh, Hexmesh\n",
    "from Py3DViewer import Viewer\n",
    "import numpy as np"
   ]
  },
  {
   "cell_type": "code",
   "execution_count": 31,
   "metadata": {},
   "outputs": [],
   "source": [
    "mesh = [Trimesh('data/bunny_tris.obj'), Quadmesh('data/bunny_quad.obj')]"
   ]
  },
  {
   "cell_type": "code",
   "execution_count": 32,
   "metadata": {},
   "outputs": [
    {
     "data": {
      "application/vnd.jupyter.widget-view+json": {
       "model_id": "684452676c734fcc9d61c1368818d659",
       "version_major": 2,
       "version_minor": 0
      },
      "text/plain": [
       "Renderer(camera=PerspectiveCamera(aspect=2.0, children=(DirectionalLight(position=(0.0, 10.0, 0.0), quaternion…"
      ]
     },
     "metadata": {},
     "output_type": "display_data"
    },
    {
     "data": {
      "text/plain": []
     },
     "execution_count": 32,
     "metadata": {},
     "output_type": "execute_result"
    }
   ],
   "source": [
    "\"\"\"\n",
    "After running this cell, you will notice that the quad bunny is quite larger than the tri bunny,\n",
    "and is also oriented differently.\n",
    "\"\"\"\n",
    "viewer = Viewer(mesh, width=1000, height=500)\n",
    "viewer"
   ]
  },
  {
   "cell_type": "code",
   "execution_count": 33,
   "metadata": {},
   "outputs": [],
   "source": [
    "\"\"\"\n",
    "Let's first normalize the vertices, then update the viewer. \n",
    "NOTE: The viewer update takes some time depending\n",
    "on the quality of your internet service, since the new geometry is streamed from the backend to your browser.\n",
    "\n",
    "Also, ignore the warning. We are going to fix these mini-problems ASAP.\n",
    "\"\"\"\n",
    "mesh[0].vertices /= np.linalg.norm(mesh[0].bbox[1]-mesh[0].bbox[0])\n",
    "mesh[1].vertices /= np.linalg.norm(mesh[1].bbox[1]-mesh[1].bbox[0])\n",
    "viewer.update()\n",
    "viewer.update_camera() #Utility to reset controls and camera, since we changed the scales"
   ]
  },
  {
   "cell_type": "code",
   "execution_count": 34,
   "metadata": {},
   "outputs": [],
   "source": [
    "\"\"\"\n",
    "Let's rotate the quad bunny by using the extremely useful scientific computing library scipy.\n",
    "\"\"\"\n",
    "from scipy.spatial.transform import Rotation as R\n",
    "rot = R.from_euler('x', -90, degrees=True)\n",
    "mesh[1].vertices = rot.apply(mesh[1].vertices)\n",
    "viewer.update()"
   ]
  },
  {
   "cell_type": "code",
   "execution_count": 36,
   "metadata": {},
   "outputs": [],
   "source": [
    "viewer.camera.position = tuple(np.mean([drawable.center for drawable in viewer.drawables], axis=0))"
   ]
  },
  {
   "cell_type": "code",
   "execution_count": 26,
   "metadata": {},
   "outputs": [
    {
     "data": {
      "text/plain": [
       "array([[ 0.25969417, -0.01655568,  0.0245404 ],\n",
       "       [ 0.25890282, -0.03483695,  0.02366463],\n",
       "       [ 0.27954405, -0.03421129,  0.01915897],\n",
       "       ...,\n",
       "       [ 0.10891762, -0.58816335,  0.4502681 ],\n",
       "       [ 0.10566833, -0.58994126,  0.46952609],\n",
       "       [ 0.1150439 , -0.59192772,  0.46441492]])"
      ]
     },
     "execution_count": 26,
     "metadata": {},
     "output_type": "execute_result"
    }
   ],
   "source": [
    "rot.apply(mesh[1].vertices)"
   ]
  },
  {
   "cell_type": "code",
   "execution_count": null,
   "metadata": {},
   "outputs": [],
   "source": []
  }
 ],
 "metadata": {
  "kernelspec": {
   "display_name": "Python 3",
   "language": "python",
   "name": "python3"
  },
  "language_info": {
   "codemirror_mode": {
    "name": "ipython",
    "version": 3
   },
   "file_extension": ".py",
   "mimetype": "text/x-python",
   "name": "python",
   "nbconvert_exporter": "python",
   "pygments_lexer": "ipython3",
   "version": "3.7.3"
  }
 },
 "nbformat": 4,
 "nbformat_minor": 4
}
