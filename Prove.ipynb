{
 "cells": [
  {
   "cell_type": "code",
   "execution_count": 1,
   "metadata": {},
   "outputs": [],
   "source": [
    "from pythreejs import *\n",
    "from Py3DViewer import Trimesh, Quadmesh, Tetmesh, Hexmesh\n",
    "from Py3DViewer import Viewer\n",
    "import numpy as np"
   ]
  },
  {
   "cell_type": "code",
   "execution_count": 45,
   "metadata": {},
   "outputs": [],
   "source": [
    "mesh = Hexmesh('data/bumpy_hex.mesh')"
   ]
  },
  {
   "cell_type": "code",
   "execution_count": 64,
   "metadata": {},
   "outputs": [],
   "source": [
    "camera_target = mesh.center\n",
    "camera_position = tuple(camera_target + [0, 0, 1])\n",
    "directional_light = DirectionalLight(color = '#ffffff', position = [0, 10, 0], intensity = 1)\n",
    "camera = PerspectiveCamera(\n",
    "    position=camera_position, aspect=1000/700, lookAt=camera_target, fov=50, near=.1, far=10000,\n",
    "    children=[directional_light]\n",
    ")\n",
    "drawable_mesh = Mesh(geometry = BufferGeometry(attributes={'position': BufferAttribute(mesh._as_threejs_triangle_soup()[0], normalized=False)}), \n",
    "                     material=MeshBasicMaterial(color='gray'))\n",
    "wireframe = LineSegments(geometry = BufferGeometry(attributes={'position': BufferAttribute(mesh.as_edges_flat(), normalized=False)}),\n",
    "                         material = LineBasicMaterial(color='#686868', \n",
    "                                                        linewidth = 1, \n",
    "                                                        depthTest=True, \n",
    "                                                        opacity=1,\n",
    "                                                        transparent=True))\n",
    "scene = Scene(children=[AmbientLight(color='white', intensity=1),\n",
    "                                      camera,\n",
    "                                      drawable_mesh,\n",
    "                                      wireframe])\n",
    "controls = OrbitControls(controlling=camera)\n",
    "controls.target = tuple(mesh.center) \n",
    "renderer = Renderer(camera = camera, background_opacity=1,\n",
    "                        scene = scene, controls=[controls], width=1000, height=700,\n",
    "                        antialias=True)"
   ]
  },
  {
   "cell_type": "code",
   "execution_count": 65,
   "metadata": {},
   "outputs": [
    {
     "data": {
      "text/plain": [
       "(157788, 3)"
      ]
     },
     "execution_count": 65,
     "metadata": {},
     "output_type": "execute_result"
    }
   ],
   "source": [
    "drawable_mesh.geometry.attributes['position'].array.shape"
   ]
  },
  {
   "cell_type": "code",
   "execution_count": 66,
   "metadata": {},
   "outputs": [
    {
     "data": {
      "application/vnd.jupyter.widget-view+json": {
       "model_id": "fc8dfada3eb745bca2b85096a3e7a300",
       "version_major": 2,
       "version_minor": 0
      },
      "text/plain": [
       "Renderer(camera=PerspectiveCamera(aspect=1.4285714285714286, children=(DirectionalLight(matrixWorldNeedsUpdate…"
      ]
     },
     "metadata": {},
     "output_type": "display_data"
    }
   ],
   "source": [
    "renderer"
   ]
  },
  {
   "cell_type": "code",
   "execution_count": 68,
   "metadata": {},
   "outputs": [
    {
     "ename": "KeyboardInterrupt",
     "evalue": "",
     "output_type": "error",
     "traceback": [
      "\u001b[0;31m---------------------------------------------------------------------------\u001b[0m",
      "\u001b[0;31mKeyboardInterrupt\u001b[0m                         Traceback (most recent call last)",
      "\u001b[0;32m<ipython-input-68-ccdfbd522de8>\u001b[0m in \u001b[0;36m<module>\u001b[0;34m\u001b[0m\n\u001b[1;32m      6\u001b[0m     \u001b[0mmesh\u001b[0m\u001b[0;34m.\u001b[0m\u001b[0mset_clipping\u001b[0m\u001b[0;34m(\u001b[0m\u001b[0mmax_z\u001b[0m\u001b[0;34m=\u001b[0m\u001b[0mmin_z\u001b[0m\u001b[0;34m+\u001b[0m\u001b[0;36m.1\u001b[0m\u001b[0;34m)\u001b[0m\u001b[0;34m\u001b[0m\u001b[0;34m\u001b[0m\u001b[0m\n\u001b[1;32m      7\u001b[0m     \u001b[0mdrawable_mesh\u001b[0m\u001b[0;34m.\u001b[0m\u001b[0mgeometry\u001b[0m\u001b[0;34m.\u001b[0m\u001b[0mattributes\u001b[0m\u001b[0;34m[\u001b[0m\u001b[0;34m'position'\u001b[0m\u001b[0;34m]\u001b[0m\u001b[0;34m.\u001b[0m\u001b[0marray\u001b[0m \u001b[0;34m=\u001b[0m \u001b[0mmesh\u001b[0m\u001b[0;34m.\u001b[0m\u001b[0m_as_threejs_triangle_soup\u001b[0m\u001b[0;34m(\u001b[0m\u001b[0;34m)\u001b[0m\u001b[0;34m[\u001b[0m\u001b[0;36m0\u001b[0m\u001b[0;34m]\u001b[0m\u001b[0;34m\u001b[0m\u001b[0;34m\u001b[0m\u001b[0m\n\u001b[0;32m----> 8\u001b[0;31m     \u001b[0mwireframe\u001b[0m\u001b[0;34m.\u001b[0m\u001b[0mgeometry\u001b[0m\u001b[0;34m.\u001b[0m\u001b[0mattributes\u001b[0m\u001b[0;34m[\u001b[0m\u001b[0;34m'position'\u001b[0m\u001b[0;34m]\u001b[0m\u001b[0;34m.\u001b[0m\u001b[0marray\u001b[0m \u001b[0;34m=\u001b[0m \u001b[0mmesh\u001b[0m\u001b[0;34m.\u001b[0m\u001b[0mas_edges_flat\u001b[0m\u001b[0;34m(\u001b[0m\u001b[0;34m)\u001b[0m\u001b[0;34m\u001b[0m\u001b[0;34m\u001b[0m\u001b[0m\n\u001b[0m\u001b[1;32m      9\u001b[0m     \u001b[0msleep\u001b[0m\u001b[0;34m(\u001b[0m\u001b[0;36m1\u001b[0m\u001b[0;34m/\u001b[0m\u001b[0;36m100\u001b[0m\u001b[0;34m)\u001b[0m\u001b[0;34m\u001b[0m\u001b[0;34m\u001b[0m\u001b[0m\n\u001b[1;32m     10\u001b[0m \u001b[0;34m\u001b[0m\u001b[0m\n",
      "\u001b[0;32m~/Documents/TesiGipo/py3DViewer/Py3DViewer/structures/Hexmesh.py\u001b[0m in \u001b[0;36mas_edges_flat\u001b[0;34m(self)\u001b[0m\n\u001b[1;32m    297\u001b[0m         \u001b[0mboundaries\u001b[0m \u001b[0;34m=\u001b[0m \u001b[0mself\u001b[0m\u001b[0;34m.\u001b[0m\u001b[0mboundary\u001b[0m\u001b[0;34m(\u001b[0m\u001b[0;34m)\u001b[0m\u001b[0;34m[\u001b[0m\u001b[0;36m0\u001b[0m\u001b[0;34m]\u001b[0m\u001b[0;34m\u001b[0m\u001b[0;34m\u001b[0m\u001b[0m\n\u001b[1;32m    298\u001b[0m         \u001b[0medges\u001b[0m \u001b[0;34m=\u001b[0m \u001b[0mnp\u001b[0m\u001b[0;34m.\u001b[0m\u001b[0mc_\u001b[0m\u001b[0;34m[\u001b[0m\u001b[0mboundaries\u001b[0m\u001b[0;34m[\u001b[0m\u001b[0;34m:\u001b[0m\u001b[0;34m,\u001b[0m\u001b[0;34m:\u001b[0m\u001b[0;36m2\u001b[0m\u001b[0;34m]\u001b[0m\u001b[0;34m,\u001b[0m \u001b[0mboundaries\u001b[0m\u001b[0;34m[\u001b[0m\u001b[0;34m:\u001b[0m\u001b[0;34m,\u001b[0m\u001b[0;36m1\u001b[0m\u001b[0;34m:\u001b[0m\u001b[0;36m3\u001b[0m\u001b[0;34m]\u001b[0m\u001b[0;34m,\u001b[0m \u001b[0mboundaries\u001b[0m\u001b[0;34m[\u001b[0m\u001b[0;34m:\u001b[0m\u001b[0;34m,\u001b[0m\u001b[0;36m2\u001b[0m\u001b[0;34m:\u001b[0m\u001b[0;36m4\u001b[0m\u001b[0;34m]\u001b[0m\u001b[0;34m,\u001b[0m \u001b[0mboundaries\u001b[0m\u001b[0;34m[\u001b[0m\u001b[0;34m:\u001b[0m\u001b[0;34m,\u001b[0m\u001b[0;36m3\u001b[0m\u001b[0;34m]\u001b[0m\u001b[0;34m,\u001b[0m \u001b[0mboundaries\u001b[0m\u001b[0;34m[\u001b[0m\u001b[0;34m:\u001b[0m\u001b[0;34m,\u001b[0m\u001b[0;36m0\u001b[0m\u001b[0;34m]\u001b[0m\u001b[0;34m]\u001b[0m\u001b[0;34m.\u001b[0m\u001b[0mflatten\u001b[0m\u001b[0;34m(\u001b[0m\u001b[0;34m)\u001b[0m\u001b[0;34m\u001b[0m\u001b[0;34m\u001b[0m\u001b[0m\n\u001b[0;32m--> 299\u001b[0;31m         \u001b[0medges_flat\u001b[0m \u001b[0;34m=\u001b[0m \u001b[0mself\u001b[0m\u001b[0;34m.\u001b[0m\u001b[0mvertices\u001b[0m\u001b[0;34m[\u001b[0m\u001b[0medges\u001b[0m\u001b[0;34m]\u001b[0m\u001b[0;34m\u001b[0m\u001b[0;34m\u001b[0m\u001b[0m\n\u001b[0m\u001b[1;32m    300\u001b[0m         \u001b[0;32mreturn\u001b[0m \u001b[0medges_flat\u001b[0m\u001b[0;34m.\u001b[0m\u001b[0mastype\u001b[0m\u001b[0;34m(\u001b[0m\u001b[0mnp\u001b[0m\u001b[0;34m.\u001b[0m\u001b[0mfloat32\u001b[0m\u001b[0;34m)\u001b[0m\u001b[0;34m\u001b[0m\u001b[0;34m\u001b[0m\u001b[0m\n\u001b[1;32m    301\u001b[0m \u001b[0;34m\u001b[0m\u001b[0m\n",
      "\u001b[0;32m~/Documents/TesiGipo/py3DViewer/Py3DViewer/utils/ObservableArray.py\u001b[0m in \u001b[0;36m__getitem__\u001b[0;34m(self, index)\u001b[0m\n\u001b[1;32m     21\u001b[0m \u001b[0;34m\u001b[0m\u001b[0m\n\u001b[1;32m     22\u001b[0m     \u001b[0;32mdef\u001b[0m \u001b[0m__getitem__\u001b[0m\u001b[0;34m(\u001b[0m\u001b[0mself\u001b[0m\u001b[0;34m,\u001b[0m \u001b[0mindex\u001b[0m\u001b[0;34m)\u001b[0m\u001b[0;34m:\u001b[0m\u001b[0;34m\u001b[0m\u001b[0;34m\u001b[0m\u001b[0m\n\u001b[0;32m---> 23\u001b[0;31m         \u001b[0mto_return\u001b[0m \u001b[0;34m=\u001b[0m \u001b[0msuper\u001b[0m\u001b[0;34m(\u001b[0m\u001b[0mObservableArray\u001b[0m\u001b[0;34m,\u001b[0m \u001b[0mself\u001b[0m\u001b[0;34m)\u001b[0m\u001b[0;34m.\u001b[0m\u001b[0m__getitem__\u001b[0m\u001b[0;34m(\u001b[0m\u001b[0mindex\u001b[0m\u001b[0;34m)\u001b[0m\u001b[0;34m\u001b[0m\u001b[0;34m\u001b[0m\u001b[0m\n\u001b[0m\u001b[1;32m     24\u001b[0m         \u001b[0;32mif\u001b[0m \u001b[0mhasattr\u001b[0m\u001b[0;34m(\u001b[0m\u001b[0mself\u001b[0m\u001b[0;34m,\u001b[0m \u001b[0;34m\"_observers\"\u001b[0m\u001b[0;34m)\u001b[0m \u001b[0;32mand\u001b[0m \u001b[0mtype\u001b[0m\u001b[0;34m(\u001b[0m\u001b[0mto_return\u001b[0m\u001b[0;34m)\u001b[0m \u001b[0;32mis\u001b[0m \u001b[0;32mnot\u001b[0m \u001b[0mObservableArray\u001b[0m\u001b[0;34m:\u001b[0m\u001b[0;34m\u001b[0m\u001b[0;34m\u001b[0m\u001b[0m\n\u001b[1;32m     25\u001b[0m             \u001b[0mtmp\u001b[0m \u001b[0;34m=\u001b[0m \u001b[0mObservableArray\u001b[0m\u001b[0;34m(\u001b[0m\u001b[0mto_return\u001b[0m\u001b[0;34m.\u001b[0m\u001b[0mshape\u001b[0m\u001b[0;34m)\u001b[0m\u001b[0;34m\u001b[0m\u001b[0;34m\u001b[0m\u001b[0m\n",
      "\u001b[0;31mKeyboardInterrupt\u001b[0m: "
     ]
    }
   ],
   "source": [
    "from time import sleep\n",
    "n = 1000\n",
    "for i in range(n):\n",
    "    min_z=i*3/n\n",
    "    mesh.set_clipping(min_z=min_z)\n",
    "    mesh.set_clipping(max_z=min_z+.1)\n",
    "    drawable_mesh.geometry.attributes['position'].array = mesh._as_threejs_triangle_soup()[0]\n",
    "    wireframe.geometry.attributes['position'].array = mesh.as_edges_flat()\n",
    "    sleep(1/100)\n",
    "        "
   ]
  },
  {
   "cell_type": "code",
   "execution_count": null,
   "metadata": {},
   "outputs": [],
   "source": [
    "for i in range(100):\n",
    "    mesh."
   ]
  },
  {
   "cell_type": "code",
   "execution_count": null,
   "metadata": {},
   "outputs": [],
   "source": []
  },
  {
   "cell_type": "code",
   "execution_count": null,
   "metadata": {},
   "outputs": [],
   "source": []
  },
  {
   "cell_type": "code",
   "execution_count": null,
   "metadata": {},
   "outputs": [],
   "source": []
  },
  {
   "cell_type": "code",
   "execution_count": null,
   "metadata": {},
   "outputs": [],
   "source": []
  },
  {
   "cell_type": "code",
   "execution_count": 46,
   "metadata": {},
   "outputs": [
    {
     "data": {
      "application/vnd.jupyter.widget-view+json": {
       "model_id": "62f4c433c0414ad8976fa609dfbeaa35",
       "version_major": 2,
       "version_minor": 0
      },
      "text/plain": [
       "ToggleButton(value=False, button_style='info', description='Flip x', icon='check', tooltip='Flip the visualiza…"
      ]
     },
     "metadata": {},
     "output_type": "display_data"
    },
    {
     "data": {
      "application/vnd.jupyter.widget-view+json": {
       "model_id": "7663d16fb9834cd7a18b752636cb5392",
       "version_major": 2,
       "version_minor": 0
      },
      "text/plain": [
       "ToggleButton(value=False, button_style='info', description='Flip y', icon='check', tooltip='IFlip the visualiz…"
      ]
     },
     "metadata": {},
     "output_type": "display_data"
    },
    {
     "data": {
      "application/vnd.jupyter.widget-view+json": {
       "model_id": "07bd4167e96a43e4894b7ee59841877b",
       "version_major": 2,
       "version_minor": 0
      },
      "text/plain": [
       "ToggleButton(value=False, button_style='info', description='Flip z', icon='check', tooltip='Flip the visualiza…"
      ]
     },
     "metadata": {},
     "output_type": "display_data"
    },
    {
     "data": {
      "application/vnd.jupyter.widget-view+json": {
       "model_id": "f650ecf32a6c4fb9bcab9c9c7ec97a42",
       "version_major": 2,
       "version_minor": 0
      },
      "text/plain": [
       "FloatRangeSlider(value=(-0.000494, 0.622704), description='X:', max=0.622704, min=-0.000494, step=0.0062319800…"
      ]
     },
     "metadata": {},
     "output_type": "display_data"
    },
    {
     "data": {
      "application/vnd.jupyter.widget-view+json": {
       "model_id": "e3a5731a3a704179a1f07d1f797976b2",
       "version_major": 2,
       "version_minor": 0
      },
      "text/plain": [
       "FloatRangeSlider(value=(-0.000887, 0.622859), description='Y:', max=0.622859, min=-0.000887, step=0.00623746)"
      ]
     },
     "metadata": {},
     "output_type": "display_data"
    },
    {
     "data": {
      "application/vnd.jupyter.widget-view+json": {
       "model_id": "06a94a0d676a474cb7aa1e7f6430eda3",
       "version_major": 2,
       "version_minor": 0
      },
      "text/plain": [
       "FloatRangeSlider(value=(-0.000867, 0.476101), description='Z:', max=0.476101, min=-0.000867, step=0.00476968)"
      ]
     },
     "metadata": {},
     "output_type": "display_data"
    },
    {
     "data": {
      "application/vnd.jupyter.widget-view+json": {
       "model_id": "31d122bf21234a6494965801bcf28f4a",
       "version_major": 2,
       "version_minor": 0
      },
      "text/plain": [
       "FloatSlider(value=0.4, description='Wireframe Opacity', max=1.0, readout_format='.1f')"
      ]
     },
     "metadata": {},
     "output_type": "display_data"
    },
    {
     "data": {
      "application/vnd.jupyter.widget-view+json": {
       "model_id": "9d1096db1dbc48098f82e34873b90988",
       "version_major": 2,
       "version_minor": 0
      },
      "text/plain": [
       "ColorPicker(value='#686868', concise=True, description='Wireframe Color')"
      ]
     },
     "metadata": {},
     "output_type": "display_data"
    },
    {
     "data": {
      "application/vnd.jupyter.widget-view+json": {
       "model_id": "7da608861a19450b9d32492d37054d9d",
       "version_major": 2,
       "version_minor": 0
      },
      "text/plain": [
       "Dropdown(description='Color-Map:', options=(('virdis', 0), ('parula', 1), ('jet', 2), ('red_blue', 3)), value=…"
      ]
     },
     "metadata": {},
     "output_type": "display_data"
    },
    {
     "data": {
      "application/vnd.jupyter.widget-view+json": {
       "model_id": "ceba112405e244cd921781f694a4a947",
       "version_major": 2,
       "version_minor": 0
      },
      "text/plain": [
       "Dropdown(description='Type Color:', options=(('Default', 0), ('Simplex Quality', 1), ('Label', 2)), value=0)"
      ]
     },
     "metadata": {},
     "output_type": "display_data"
    },
    {
     "data": {
      "application/vnd.jupyter.widget-view+json": {
       "model_id": "53cd7f7676cc497294630abdaf5e6f86",
       "version_major": 2,
       "version_minor": 0
      },
      "text/plain": [
       "Dropdown(description='Metric:', options=(('scaled_jacobian', 0), ('volume', 1)), value=0)"
      ]
     },
     "metadata": {},
     "output_type": "display_data"
    },
    {
     "data": {
      "application/vnd.jupyter.widget-view+json": {
       "model_id": "cbc3774c214b4a6e846823c5e8dff063",
       "version_major": 2,
       "version_minor": 0
      },
      "text/plain": [
       "ColorPicker(value='#ffa500', concise=True, description='Internal Color')"
      ]
     },
     "metadata": {},
     "output_type": "display_data"
    },
    {
     "data": {
      "application/vnd.jupyter.widget-view+json": {
       "model_id": "2162a45da310466d979d39305f2bc0b6",
       "version_major": 2,
       "version_minor": 0
      },
      "text/plain": [
       "ColorPicker(value='#01d4b4', concise=True, description='External Color')"
      ]
     },
     "metadata": {},
     "output_type": "display_data"
    },
    {
     "data": {
      "application/vnd.jupyter.widget-view+json": {
       "model_id": "3658f11e7a2847d39925eb6bdd701403",
       "version_major": 2,
       "version_minor": 0
      },
      "text/plain": [
       "Renderer(camera=PerspectiveCamera(aspect=2.0, children=(DirectionalLight(position=(0.0, 10.0, 0.0), quaternion…"
      ]
     },
     "metadata": {},
     "output_type": "display_data"
    },
    {
     "data": {
      "text/plain": []
     },
     "execution_count": 46,
     "metadata": {},
     "output_type": "execute_result"
    }
   ],
   "source": [
    "viewer = Viewer(mesh, width=1000, height=500, reactive=True, with_gui=True)\n",
    "viewer"
   ]
  },
  {
   "cell_type": "code",
   "execution_count": 48,
   "metadata": {},
   "outputs": [
    {
     "data": {
      "text/plain": [
       "(372744, 9)"
      ]
     },
     "execution_count": 48,
     "metadata": {},
     "output_type": "execute_result"
    }
   ],
   "source": [
    "viewer.drawable.drawable_mesh.geometry.attributes['position'].data.array.shape"
   ]
  },
  {
   "cell_type": "code",
   "execution_count": null,
   "metadata": {},
   "outputs": [],
   "source": []
  },
  {
   "cell_type": "code",
   "execution_count": 18,
   "metadata": {},
   "outputs": [
    {
     "data": {
      "text/plain": [
       "array([[ True,  True,  True],\n",
       "       [ True,  True,  True],\n",
       "       [ True,  True,  True],\n",
       "       ...,\n",
       "       [ True,  True,  True],\n",
       "       [ True,  True,  True],\n",
       "       [ True,  True,  True]])"
      ]
     },
     "execution_count": 18,
     "metadata": {},
     "output_type": "execute_result"
    }
   ],
   "source": [
    "viewer.drawable.geometry.as_edges_flat() == viewer.drawable.wireframe.geometry.attributes['position'].array"
   ]
  },
  {
   "cell_type": "code",
   "execution_count": 6,
   "metadata": {},
   "outputs": [],
   "source": [
    "a = np.arange(mesh.num_hexes)\n",
    "np.random.shuffle(a)\n",
    "mesh.remove_hexes(a[:1000])"
   ]
  },
  {
   "cell_type": "code",
   "execution_count": 46,
   "metadata": {},
   "outputs": [
    {
     "name": "stdout",
     "output_type": "stream",
     "text": [
      "Recalculating boundary\n"
     ]
    }
   ],
   "source": [
    "viewer.UI._GUI__update_clipping(None)"
   ]
  },
  {
   "cell_type": "code",
   "execution_count": 11,
   "metadata": {},
   "outputs": [],
   "source": [
    "prova = viewer.drawable.wireframe.geometry.attributes['position'].array[:10]"
   ]
  },
  {
   "cell_type": "code",
   "execution_count": 12,
   "metadata": {},
   "outputs": [
    {
     "data": {
      "text/plain": [
       "array([[0.228085, 0.537425, 0.33089 ],\n",
       "       [0.228508, 0.544761, 0.330348],\n",
       "       [0.228508, 0.544761, 0.330348],\n",
       "       [0.234053, 0.542159, 0.32936 ],\n",
       "       [0.234053, 0.542159, 0.32936 ],\n",
       "       [0.234562, 0.53585 , 0.330083],\n",
       "       [0.234562, 0.53585 , 0.330083],\n",
       "       [0.228085, 0.537425, 0.33089 ],\n",
       "       [0.234562, 0.53585 , 0.330083],\n",
       "       [0.234053, 0.542159, 0.32936 ]], dtype=float32)"
      ]
     },
     "execution_count": 12,
     "metadata": {},
     "output_type": "execute_result"
    }
   ],
   "source": [
    "mesh.as_edges_flat()[:10]"
   ]
  },
  {
   "cell_type": "code",
   "execution_count": 13,
   "metadata": {},
   "outputs": [
    {
     "data": {
      "text/plain": [
       "array([[0.228085, 0.537425, 0.33089 ],\n",
       "       [0.228508, 0.544761, 0.330348],\n",
       "       [0.228508, 0.544761, 0.330348],\n",
       "       [0.234053, 0.542159, 0.32936 ],\n",
       "       [0.234053, 0.542159, 0.32936 ],\n",
       "       [0.234562, 0.53585 , 0.330083],\n",
       "       [0.234562, 0.53585 , 0.330083],\n",
       "       [0.228085, 0.537425, 0.33089 ],\n",
       "       [0.234562, 0.53585 , 0.330083],\n",
       "       [0.234053, 0.542159, 0.32936 ]], dtype=float32)"
      ]
     },
     "execution_count": 13,
     "metadata": {},
     "output_type": "execute_result"
    }
   ],
   "source": [
    "prova"
   ]
  },
  {
   "cell_type": "code",
   "execution_count": 11,
   "metadata": {},
   "outputs": [
    {
     "data": {
      "text/plain": [
       "array([[0.474766, 0.180712, 0.376744],\n",
       "       [0.481462, 0.182349, 0.389143],\n",
       "       [0.487047, 0.190819, 0.387821],\n",
       "       ...,\n",
       "       [0.265075, 0.521803, 0.114792],\n",
       "       [0.269969, 0.528507, 0.116668],\n",
       "       [0.271077, 0.521732, 0.126003]])"
      ]
     },
     "execution_count": 11,
     "metadata": {},
     "output_type": "execute_result"
    }
   ],
   "source": [
    "mesh.as_triangles_flat()"
   ]
  },
  {
   "cell_type": "code",
   "execution_count": 5,
   "metadata": {},
   "outputs": [],
   "source": [
    "first_tris = mesh.as_triangles_flat()[:6]"
   ]
  },
  {
   "cell_type": "code",
   "execution_count": 14,
   "metadata": {},
   "outputs": [
    {
     "ename": "NameError",
     "evalue": "name 'first_tris' is not defined",
     "output_type": "error",
     "traceback": [
      "\u001b[0;31m---------------------------------------------------------------------------\u001b[0m",
      "\u001b[0;31mNameError\u001b[0m                                 Traceback (most recent call last)",
      "\u001b[0;32m<ipython-input-14-acb365299d87>\u001b[0m in \u001b[0;36m<module>\u001b[0;34m\u001b[0m\n\u001b[0;32m----> 1\u001b[0;31m \u001b[0mtmp\u001b[0m \u001b[0;34m=\u001b[0m \u001b[0mfirst_tris\u001b[0m\u001b[0;34m[\u001b[0m\u001b[0;36m0\u001b[0m\u001b[0;34m:\u001b[0m\u001b[0;34m:\u001b[0m\u001b[0;36m3\u001b[0m\u001b[0;34m]\u001b[0m\u001b[0;34m\u001b[0m\u001b[0;34m\u001b[0m\u001b[0m\n\u001b[0m\u001b[1;32m      2\u001b[0m \u001b[0ma\u001b[0m \u001b[0;34m=\u001b[0m \u001b[0mfirst_tris\u001b[0m\u001b[0;34m[\u001b[0m\u001b[0;36m1\u001b[0m\u001b[0;34m:\u001b[0m\u001b[0;34m:\u001b[0m\u001b[0;36m3\u001b[0m\u001b[0;34m]\u001b[0m \u001b[0;34m-\u001b[0m \u001b[0mtmp\u001b[0m\u001b[0;34m\u001b[0m\u001b[0;34m\u001b[0m\u001b[0m\n\u001b[1;32m      3\u001b[0m \u001b[0mb\u001b[0m \u001b[0;34m=\u001b[0m \u001b[0mfirst_tris\u001b[0m\u001b[0;34m[\u001b[0m\u001b[0;36m2\u001b[0m\u001b[0;34m:\u001b[0m\u001b[0;34m:\u001b[0m\u001b[0;36m3\u001b[0m\u001b[0;34m]\u001b[0m \u001b[0;34m-\u001b[0m \u001b[0mtmp\u001b[0m\u001b[0;34m\u001b[0m\u001b[0;34m\u001b[0m\u001b[0m\n\u001b[1;32m      4\u001b[0m \u001b[0mcross\u001b[0m \u001b[0;34m=\u001b[0m \u001b[0mnp\u001b[0m\u001b[0;34m.\u001b[0m\u001b[0mcross\u001b[0m\u001b[0;34m(\u001b[0m\u001b[0ma\u001b[0m\u001b[0;34m,\u001b[0m\u001b[0mb\u001b[0m\u001b[0;34m)\u001b[0m\u001b[0;34m\u001b[0m\u001b[0;34m\u001b[0m\u001b[0m\n\u001b[1;32m      5\u001b[0m \u001b[0mface_normals\u001b[0m \u001b[0;34m=\u001b[0m \u001b[0mcross\u001b[0m \u001b[0;34m/\u001b[0m \u001b[0mnp\u001b[0m\u001b[0;34m.\u001b[0m\u001b[0mlinalg\u001b[0m\u001b[0;34m.\u001b[0m\u001b[0mnorm\u001b[0m\u001b[0;34m(\u001b[0m\u001b[0mcross\u001b[0m\u001b[0;34m,\u001b[0m \u001b[0maxis\u001b[0m\u001b[0;34m=\u001b[0m\u001b[0;36m1\u001b[0m\u001b[0;34m,\u001b[0m \u001b[0mkeepdims\u001b[0m\u001b[0;34m=\u001b[0m\u001b[0;32mTrue\u001b[0m\u001b[0;34m)\u001b[0m\u001b[0;34m\u001b[0m\u001b[0;34m\u001b[0m\u001b[0m\n",
      "\u001b[0;31mNameError\u001b[0m: name 'first_tris' is not defined"
     ]
    }
   ],
   "source": [
    "tmp = first_tris[0::3]\n",
    "a = first_tris[1::3] - tmp\n",
    "b = first_tris[2::3] - tmp\n",
    "cross = np.cross(a,b)\n",
    "face_normals = cross / np.linalg.norm(cross, axis=1, keepdims=True)\n",
    "vtx_normals = np.repeat(face_normals, 3, axis=0)"
   ]
  },
  {
   "cell_type": "code",
   "execution_count": 14,
   "metadata": {},
   "outputs": [
    {
     "data": {
      "text/plain": [
       "array([-1.07183644e-04,  7.81005270e-05,  4.75724750e-05])"
      ]
     },
     "execution_count": 14,
     "metadata": {},
     "output_type": "execute_result"
    }
   ],
   "source": [
    "np.cross(first_tri[1]-first_tri[0], first_tri[2]-first_tri[0])"
   ]
  },
  {
   "cell_type": "code",
   "execution_count": 15,
   "metadata": {},
   "outputs": [
    {
     "data": {
      "text/plain": [
       "array([-1.07183644e-04,  7.81005270e-05,  4.75724750e-05])"
      ]
     },
     "execution_count": 15,
     "metadata": {},
     "output_type": "execute_result"
    }
   ],
   "source": [
    "np.cross(first_tri[1]-first_tri[0], first_tri[2]-first_tri[1])"
   ]
  },
  {
   "cell_type": "code",
   "execution_count": 15,
   "metadata": {},
   "outputs": [
    {
     "name": "stdout",
     "output_type": "stream",
     "text": [
      "Recalculating boundary\n"
     ]
    },
    {
     "name": "stderr",
     "output_type": "stream",
     "text": [
      "/usr/local/lib/python3.7/site-packages/pythreejs/traits.py:191: UserWarning: 64-bit data types not supported for WebGL data, casting to 32-bit.\n",
      "  warnings.warn('64-bit data types not supported for WebGL '\n"
     ]
    },
    {
     "name": "stdout",
     "output_type": "stream",
     "text": [
      "Recalculating boundary\n",
      "Recalculating boundary\n",
      "Recalculating boundary\n",
      "Recalculating boundary\n",
      "Recalculating boundary\n",
      "Recalculating boundary\n",
      "Recalculating boundary\n",
      "Recalculating boundary\n",
      "Recalculating boundary\n",
      "Recalculating boundary\n",
      "Recalculating boundary\n",
      "Recalculating boundary\n",
      "Recalculating boundary\n",
      "Recalculating boundary\n",
      "Recalculating boundary\n",
      "Recalculating boundary\n",
      "Recalculating boundary\n",
      "Recalculating boundary\n",
      "Recalculating boundary\n",
      "Recalculating boundary\n",
      "Recalculating boundary\n",
      "Recalculating boundary\n",
      "Recalculating boundary\n",
      "Recalculating boundary\n",
      "Recalculating boundary\n",
      "Recalculating boundary\n",
      "Recalculating boundary\n",
      "Recalculating boundary\n",
      "Recalculating boundary\n",
      "Recalculating boundary\n",
      "Recalculating boundary\n",
      "Recalculating boundary\n",
      "Recalculating boundary\n",
      "Recalculating boundary\n",
      "Recalculating boundary\n",
      "Recalculating boundary\n",
      "Recalculating boundary\n",
      "Recalculating boundary\n",
      "Recalculating boundary\n",
      "Recalculating boundary\n",
      "Recalculating boundary\n",
      "Recalculating boundary\n",
      "Recalculating boundary\n",
      "Recalculating boundary\n",
      "Recalculating boundary\n",
      "Recalculating boundary\n",
      "Recalculating boundary\n",
      "Recalculating boundary\n",
      "Recalculating boundary\n",
      "Recalculating boundary\n",
      "Recalculating boundary\n",
      "Recalculating boundary\n",
      "Recalculating boundary\n",
      "Recalculating boundary\n",
      "Recalculating boundary\n",
      "Recalculating boundary\n",
      "Recalculating boundary\n",
      "Recalculating boundary\n",
      "Recalculating boundary\n",
      "Recalculating boundary\n",
      "Recalculating boundary\n",
      "Recalculating boundary\n",
      "Recalculating boundary\n",
      "Recalculating boundary\n",
      "Recalculating boundary\n",
      "Recalculating boundary\n",
      "Recalculating boundary\n",
      "Recalculating boundary\n",
      "Recalculating boundary\n",
      "Recalculating boundary\n",
      "Recalculating boundary\n",
      "Recalculating boundary\n",
      "Recalculating boundary\n",
      "Recalculating boundary\n",
      "Recalculating boundary\n",
      "Recalculating boundary\n",
      "Recalculating boundary\n",
      "Recalculating boundary\n",
      "Recalculating boundary\n",
      "Recalculating boundary\n",
      "Recalculating boundary\n",
      "Recalculating boundary\n",
      "Recalculating boundary\n",
      "Recalculating boundary\n",
      "Recalculating boundary\n",
      "Recalculating boundary\n",
      "Recalculating boundary\n",
      "Recalculating boundary\n",
      "Recalculating boundary\n",
      "Recalculating boundary\n",
      "Recalculating boundary\n",
      "Recalculating boundary\n",
      "Recalculating boundary\n",
      "Recalculating boundary\n",
      "Recalculating boundary\n",
      "Recalculating boundary\n",
      "Recalculating boundary\n",
      "Recalculating boundary\n",
      "Recalculating boundary\n",
      "Recalculating boundary\n",
      "Recalculating boundary\n",
      "Recalculating boundary\n",
      "Recalculating boundary\n",
      "Recalculating boundary\n",
      "Recalculating boundary\n",
      "Recalculating boundary\n",
      "Recalculating boundary\n",
      "Recalculating boundary\n",
      "Recalculating boundary\n",
      "Recalculating boundary\n",
      "Recalculating boundary\n",
      "Recalculating boundary\n",
      "Recalculating boundary\n",
      "Recalculating boundary\n",
      "Recalculating boundary\n",
      "Recalculating boundary\n",
      "Recalculating boundary\n",
      "Recalculating boundary\n",
      "Recalculating boundary\n",
      "Recalculating boundary\n",
      "Recalculating boundary\n",
      "Recalculating boundary\n",
      "Recalculating boundary\n",
      "Recalculating boundary\n",
      "Recalculating boundary\n",
      "Recalculating boundary\n",
      "Recalculating boundary\n",
      "Recalculating boundary\n",
      "Recalculating boundary\n",
      "Recalculating boundary\n",
      "Recalculating boundary\n",
      "Recalculating boundary\n",
      "Recalculating boundary\n",
      "Recalculating boundary\n",
      "Recalculating boundary\n",
      "Recalculating boundary\n",
      "Recalculating boundary\n",
      "Recalculating boundary\n",
      "Recalculating boundary\n",
      "Recalculating boundary\n",
      "Recalculating boundary\n",
      "Recalculating boundary\n",
      "Recalculating boundary\n",
      "Recalculating boundary\n",
      "Recalculating boundary\n",
      "Recalculating boundary\n",
      "Recalculating boundary\n",
      "Recalculating boundary\n",
      "Recalculating boundary\n",
      "Recalculating boundary\n",
      "Recalculating boundary\n",
      "Recalculating boundary\n",
      "Recalculating boundary\n",
      "Recalculating boundary\n",
      "Recalculating boundary\n",
      "Recalculating boundary\n",
      "Recalculating boundary\n",
      "Recalculating boundary\n",
      "Recalculating boundary\n",
      "Recalculating boundary\n",
      "Recalculating boundary\n",
      "Recalculating boundary\n",
      "Recalculating boundary\n",
      "Recalculating boundary\n",
      "Recalculating boundary\n",
      "Recalculating boundary\n",
      "Recalculating boundary\n",
      "Recalculating boundary\n",
      "Recalculating boundary\n",
      "Recalculating boundary\n",
      "Recalculating boundary\n",
      "Recalculating boundary\n",
      "Recalculating boundary\n",
      "Recalculating boundary\n",
      "Recalculating boundary\n",
      "Recalculating boundary\n",
      "Recalculating boundary\n",
      "Recalculating boundary\n",
      "Recalculating boundary\n",
      "Recalculating boundary\n",
      "Recalculating boundary\n",
      "Recalculating boundary\n",
      "Recalculating boundary\n",
      "Recalculating boundary\n",
      "Recalculating boundary\n",
      "Recalculating boundary\n",
      "Recalculating boundary\n",
      "Recalculating boundary\n",
      "Recalculating boundary\n",
      "Recalculating boundary\n",
      "Recalculating boundary\n",
      "Recalculating boundary\n",
      "Recalculating boundary\n",
      "Recalculating boundary\n",
      "Recalculating boundary\n",
      "Recalculating boundary\n",
      "Recalculating boundary\n",
      "Recalculating boundary\n",
      "Recalculating boundary\n",
      "Recalculating boundary\n",
      "Recalculating boundary\n",
      "Recalculating boundary\n",
      "Recalculating boundary\n",
      "Recalculating boundary\n",
      "Recalculating boundary\n",
      "Recalculating boundary\n",
      "Recalculating boundary\n",
      "Recalculating boundary\n",
      "Recalculating boundary\n",
      "Recalculating boundary\n",
      "Recalculating boundary\n",
      "Recalculating boundary\n",
      "Recalculating boundary\n",
      "Recalculating boundary\n",
      "Recalculating boundary\n",
      "Recalculating boundary\n",
      "Recalculating boundary\n",
      "Recalculating boundary\n",
      "Recalculating boundary\n",
      "Recalculating boundary\n",
      "Recalculating boundary\n",
      "Recalculating boundary\n",
      "Recalculating boundary\n",
      "Recalculating boundary\n",
      "Recalculating boundary\n",
      "Recalculating boundary\n",
      "Recalculating boundary\n",
      "Recalculating boundary\n",
      "Recalculating boundary\n",
      "Recalculating boundary\n",
      "Recalculating boundary\n",
      "Recalculating boundary\n",
      "Recalculating boundary\n",
      "Recalculating boundary\n",
      "Recalculating boundary\n",
      "Recalculating boundary\n",
      "Recalculating boundary\n",
      "Recalculating boundary\n",
      "Recalculating boundary\n",
      "Recalculating boundary\n",
      "Recalculating boundary\n",
      "Recalculating boundary\n",
      "Recalculating boundary\n",
      "Recalculating boundary\n",
      "Recalculating boundary\n",
      "Recalculating boundary\n",
      "Recalculating boundary\n",
      "Recalculating boundary\n",
      "Recalculating boundary\n",
      "Recalculating boundary\n",
      "Recalculating boundary\n",
      "Recalculating boundary\n",
      "Recalculating boundary\n",
      "Recalculating boundary\n",
      "Recalculating boundary\n",
      "Recalculating boundary\n",
      "Recalculating boundary\n",
      "Recalculating boundary\n",
      "Recalculating boundary\n",
      "Recalculating boundary\n",
      "Recalculating boundary\n",
      "Recalculating boundary\n",
      "Recalculating boundary\n",
      "Recalculating boundary\n",
      "Recalculating boundary\n",
      "Recalculating boundary\n",
      "Recalculating boundary\n",
      "Recalculating boundary\n",
      "Recalculating boundary\n",
      "Recalculating boundary\n",
      "Recalculating boundary\n",
      "Recalculating boundary\n",
      "Recalculating boundary\n",
      "Recalculating boundary\n",
      "Recalculating boundary\n",
      "Recalculating boundary\n",
      "Recalculating boundary\n",
      "Recalculating boundary\n",
      "Recalculating boundary\n",
      "Recalculating boundary\n",
      "Recalculating boundary\n",
      "Recalculating boundary\n",
      "Recalculating boundary\n",
      "Recalculating boundary\n",
      "Recalculating boundary\n",
      "Recalculating boundary\n",
      "Recalculating boundary\n",
      "Recalculating boundary\n",
      "Recalculating boundary\n",
      "Recalculating boundary\n",
      "Recalculating boundary\n",
      "Recalculating boundary\n",
      "Recalculating boundary\n",
      "Recalculating boundary\n",
      "Recalculating boundary\n",
      "Recalculating boundary\n",
      "Recalculating boundary\n",
      "Recalculating boundary\n",
      "Recalculating boundary\n",
      "Recalculating boundary\n",
      "Recalculating boundary\n",
      "Recalculating boundary\n",
      "Recalculating boundary\n",
      "Recalculating boundary\n",
      "Recalculating boundary\n",
      "Recalculating boundary\n",
      "Recalculating boundary\n",
      "Recalculating boundary\n",
      "Recalculating boundary\n",
      "Recalculating boundary\n",
      "Recalculating boundary\n",
      "Recalculating boundary\n",
      "Recalculating boundary\n",
      "Recalculating boundary\n",
      "Recalculating boundary\n",
      "Recalculating boundary\n",
      "Recalculating boundary\n",
      "Recalculating boundary\n",
      "Recalculating boundary\n",
      "Recalculating boundary\n",
      "Recalculating boundary\n",
      "Recalculating boundary\n",
      "Recalculating boundary\n",
      "Recalculating boundary\n",
      "Recalculating boundary\n",
      "Recalculating boundary\n",
      "Recalculating boundary\n",
      "Recalculating boundary\n",
      "Recalculating boundary\n",
      "Recalculating boundary\n",
      "Recalculating boundary\n",
      "Recalculating boundary\n",
      "Recalculating boundary\n",
      "Recalculating boundary\n",
      "Recalculating boundary\n",
      "Recalculating boundary\n",
      "Recalculating boundary\n",
      "Recalculating boundary\n",
      "Recalculating boundary\n",
      "Recalculating boundary\n",
      "Recalculating boundary\n",
      "Recalculating boundary\n",
      "Recalculating boundary\n",
      "Recalculating boundary\n",
      "Recalculating boundary\n",
      "Recalculating boundary\n",
      "Recalculating boundary\n",
      "Recalculating boundary\n",
      "Recalculating boundary\n",
      "Recalculating boundary\n",
      "Recalculating boundary\n",
      "Recalculating boundary\n",
      "Recalculating boundary\n",
      "Recalculating boundary\n",
      "Recalculating boundary\n",
      "Recalculating boundary\n",
      "Recalculating boundary\n",
      "Recalculating boundary\n",
      "Recalculating boundary\n",
      "Recalculating boundary\n",
      "Recalculating boundary\n",
      "Recalculating boundary\n",
      "Recalculating boundary\n",
      "Recalculating boundary\n",
      "Recalculating boundary\n",
      "Recalculating boundary\n",
      "Recalculating boundary\n",
      "Recalculating boundary\n",
      "Recalculating boundary\n",
      "Recalculating boundary\n",
      "Recalculating boundary\n",
      "Recalculating boundary\n",
      "Recalculating boundary\n",
      "Recalculating boundary\n",
      "Recalculating boundary\n",
      "Recalculating boundary\n",
      "Recalculating boundary\n",
      "Recalculating boundary\n",
      "Recalculating boundary\n",
      "Recalculating boundary\n",
      "Recalculating boundary\n",
      "Recalculating boundary\n",
      "Recalculating boundary\n",
      "Recalculating boundary\n",
      "Recalculating boundary\n",
      "Recalculating boundary\n",
      "Recalculating boundary\n",
      "Recalculating boundary\n",
      "Recalculating boundary\n",
      "Recalculating boundary\n",
      "Recalculating boundary\n",
      "Recalculating boundary\n",
      "Recalculating boundary\n",
      "Recalculating boundary\n",
      "Recalculating boundary\n",
      "Recalculating boundary\n",
      "Recalculating boundary\n",
      "Recalculating boundary\n",
      "Recalculating boundary\n",
      "Recalculating boundary\n",
      "Recalculating boundary\n",
      "Recalculating boundary\n",
      "Recalculating boundary\n",
      "Recalculating boundary\n",
      "Recalculating boundary\n",
      "Recalculating boundary\n",
      "Recalculating boundary\n",
      "Recalculating boundary\n",
      "Recalculating boundary\n",
      "Recalculating boundary\n",
      "Recalculating boundary\n",
      "Recalculating boundary\n",
      "Recalculating boundary\n",
      "Recalculating boundary\n",
      "Recalculating boundary\n",
      "Recalculating boundary\n",
      "Recalculating boundary\n",
      "Recalculating boundary\n",
      "Recalculating boundary\n",
      "Recalculating boundary\n",
      "Recalculating boundary\n",
      "Recalculating boundary\n",
      "Recalculating boundary\n",
      "Recalculating boundary\n",
      "Recalculating boundary\n",
      "Recalculating boundary\n",
      "Recalculating boundary\n",
      "Recalculating boundary\n",
      "Recalculating boundary\n",
      "Recalculating boundary\n",
      "Recalculating boundary\n",
      "Recalculating boundary\n",
      "Recalculating boundary\n",
      "Recalculating boundary\n",
      "Recalculating boundary\n",
      "Recalculating boundary\n",
      "Recalculating boundary\n",
      "Recalculating boundary\n",
      "Recalculating boundary\n",
      "Recalculating boundary\n",
      "Recalculating boundary\n",
      "Recalculating boundary\n",
      "Recalculating boundary\n",
      "Recalculating boundary\n",
      "Recalculating boundary\n",
      "Recalculating boundary\n",
      "Recalculating boundary\n",
      "Recalculating boundary\n",
      "Recalculating boundary\n",
      "Recalculating boundary\n",
      "Recalculating boundary\n",
      "Recalculating boundary\n",
      "Recalculating boundary\n",
      "Recalculating boundary\n",
      "Recalculating boundary\n",
      "Recalculating boundary\n",
      "Recalculating boundary\n",
      "Recalculating boundary\n",
      "Recalculating boundary\n",
      "Recalculating boundary\n",
      "Recalculating boundary\n",
      "Recalculating boundary\n",
      "Recalculating boundary\n",
      "Recalculating boundary\n",
      "Recalculating boundary\n",
      "Recalculating boundary\n",
      "Recalculating boundary\n",
      "Recalculating boundary\n",
      "Recalculating boundary\n",
      "Recalculating boundary\n",
      "Recalculating boundary\n",
      "Recalculating boundary\n",
      "Recalculating boundary\n",
      "Recalculating boundary\n",
      "Recalculating boundary\n",
      "Recalculating boundary\n",
      "Recalculating boundary\n",
      "Recalculating boundary\n",
      "Recalculating boundary\n",
      "Recalculating boundary\n",
      "Recalculating boundary\n",
      "Recalculating boundary\n",
      "Recalculating boundary\n",
      "Recalculating boundary\n",
      "Recalculating boundary\n",
      "Recalculating boundary\n",
      "Recalculating boundary\n",
      "Recalculating boundary\n",
      "Recalculating boundary\n",
      "Recalculating boundary\n",
      "Recalculating boundary\n",
      "Recalculating boundary\n",
      "Recalculating boundary\n",
      "Recalculating boundary\n",
      "Recalculating boundary\n",
      "Recalculating boundary\n",
      "Recalculating boundary\n",
      "Recalculating boundary\n",
      "Recalculating boundary\n",
      "Recalculating boundary\n",
      "Recalculating boundary\n",
      "Recalculating boundary\n",
      "Recalculating boundary\n",
      "Recalculating boundary\n",
      "Recalculating boundary\n",
      "Recalculating boundary\n",
      "Recalculating boundary\n",
      "Recalculating boundary\n",
      "Recalculating boundary\n",
      "Recalculating boundary\n",
      "Recalculating boundary\n",
      "Recalculating boundary\n",
      "Recalculating boundary\n",
      "Recalculating boundary\n",
      "Recalculating boundary\n",
      "Recalculating boundary\n",
      "Recalculating boundary\n",
      "Recalculating boundary\n",
      "Recalculating boundary\n",
      "Recalculating boundary\n",
      "Recalculating boundary\n",
      "Recalculating boundary\n",
      "Recalculating boundary\n",
      "Recalculating boundary\n",
      "Recalculating boundary\n",
      "Recalculating boundary\n",
      "Recalculating boundary\n",
      "Recalculating boundary\n",
      "Recalculating boundary\n",
      "Recalculating boundary\n",
      "Recalculating boundary\n",
      "Recalculating boundary\n",
      "Recalculating boundary\n",
      "Recalculating boundary\n",
      "Recalculating boundary\n",
      "Recalculating boundary\n",
      "Recalculating boundary\n",
      "Recalculating boundary\n",
      "Recalculating boundary\n",
      "Recalculating boundary\n",
      "Recalculating boundary\n",
      "Recalculating boundary\n",
      "Recalculating boundary\n",
      "Recalculating boundary\n",
      "Recalculating boundary\n",
      "Recalculating boundary\n",
      "Recalculating boundary\n",
      "Recalculating boundary\n",
      "Recalculating boundary\n",
      "Recalculating boundary\n",
      "Recalculating boundary\n",
      "Recalculating boundary\n",
      "Recalculating boundary\n",
      "Recalculating boundary\n",
      "Recalculating boundary\n",
      "Recalculating boundary\n",
      "Recalculating boundary\n",
      "Recalculating boundary\n",
      "Recalculating boundary\n",
      "Recalculating boundary\n",
      "Recalculating boundary\n",
      "Recalculating boundary\n",
      "Recalculating boundary\n",
      "Recalculating boundary\n",
      "Recalculating boundary\n",
      "Recalculating boundary\n",
      "Recalculating boundary\n",
      "Recalculating boundary\n",
      "Recalculating boundary\n",
      "Recalculating boundary\n",
      "Recalculating boundary\n",
      "Recalculating boundary\n",
      "Recalculating boundary\n",
      "Recalculating boundary\n",
      "Recalculating boundary\n",
      "Recalculating boundary\n",
      "Recalculating boundary\n",
      "Recalculating boundary\n",
      "Recalculating boundary\n",
      "Recalculating boundary\n",
      "Recalculating boundary\n",
      "Recalculating boundary\n",
      "Recalculating boundary\n",
      "Recalculating boundary\n",
      "Recalculating boundary\n",
      "Recalculating boundary\n",
      "Recalculating boundary\n",
      "Recalculating boundary\n",
      "Recalculating boundary\n",
      "Recalculating boundary\n",
      "Recalculating boundary\n",
      "Recalculating boundary\n",
      "Recalculating boundary\n",
      "Recalculating boundary\n",
      "Recalculating boundary\n",
      "Recalculating boundary\n",
      "Recalculating boundary\n",
      "Recalculating boundary\n",
      "Recalculating boundary\n",
      "Recalculating boundary\n",
      "Recalculating boundary\n",
      "Recalculating boundary\n",
      "Recalculating boundary\n",
      "Recalculating boundary\n",
      "Recalculating boundary\n",
      "Recalculating boundary\n",
      "Recalculating boundary\n",
      "Recalculating boundary\n",
      "Recalculating boundary\n",
      "Recalculating boundary\n",
      "Recalculating boundary\n",
      "Recalculating boundary\n",
      "Recalculating boundary\n",
      "Recalculating boundary\n",
      "Recalculating boundary\n",
      "Recalculating boundary\n",
      "Recalculating boundary\n",
      "Recalculating boundary\n",
      "Recalculating boundary\n",
      "Recalculating boundary\n",
      "Recalculating boundary\n",
      "Recalculating boundary\n",
      "Recalculating boundary\n",
      "Recalculating boundary\n",
      "Recalculating boundary\n",
      "Recalculating boundary\n",
      "Recalculating boundary\n",
      "Recalculating boundary\n",
      "Recalculating boundary\n",
      "Recalculating boundary\n",
      "Recalculating boundary\n",
      "Recalculating boundary\n",
      "Recalculating boundary\n",
      "Recalculating boundary\n",
      "Recalculating boundary\n",
      "Recalculating boundary\n",
      "Recalculating boundary\n",
      "Recalculating boundary\n",
      "Recalculating boundary\n",
      "Recalculating boundary\n",
      "Recalculating boundary\n",
      "Recalculating boundary\n",
      "Recalculating boundary\n",
      "Recalculating boundary\n",
      "Recalculating boundary\n",
      "Recalculating boundary\n",
      "Recalculating boundary\n",
      "Recalculating boundary\n",
      "Recalculating boundary\n",
      "Recalculating boundary\n",
      "Recalculating boundary\n",
      "Recalculating boundary\n",
      "Recalculating boundary\n",
      "Recalculating boundary\n",
      "Recalculating boundary\n",
      "Recalculating boundary\n",
      "Recalculating boundary\n",
      "Recalculating boundary\n",
      "Recalculating boundary\n",
      "Recalculating boundary\n",
      "Recalculating boundary\n",
      "Recalculating boundary\n",
      "Recalculating boundary\n",
      "Recalculating boundary\n",
      "Recalculating boundary\n",
      "Recalculating boundary\n",
      "Recalculating boundary\n",
      "Recalculating boundary\n",
      "Recalculating boundary\n",
      "Recalculating boundary\n",
      "Recalculating boundary\n",
      "Recalculating boundary\n",
      "Recalculating boundary\n",
      "Recalculating boundary\n",
      "Recalculating boundary\n",
      "Recalculating boundary\n",
      "Recalculating boundary\n",
      "Recalculating boundary\n",
      "Recalculating boundary\n",
      "Recalculating boundary\n",
      "Recalculating boundary\n",
      "Recalculating boundary\n",
      "Recalculating boundary\n",
      "Recalculating boundary\n",
      "Recalculating boundary\n",
      "Recalculating boundary\n",
      "Recalculating boundary\n",
      "Recalculating boundary\n",
      "Recalculating boundary\n",
      "Recalculating boundary\n",
      "Recalculating boundary\n",
      "Recalculating boundary\n",
      "Recalculating boundary\n",
      "Recalculating boundary\n",
      "Recalculating boundary\n",
      "Recalculating boundary\n",
      "Recalculating boundary\n",
      "Recalculating boundary\n",
      "Recalculating boundary\n",
      "Recalculating boundary\n",
      "Recalculating boundary\n",
      "Recalculating boundary\n",
      "Recalculating boundary\n",
      "Recalculating boundary\n",
      "Recalculating boundary\n",
      "Recalculating boundary\n",
      "Recalculating boundary\n",
      "Recalculating boundary\n",
      "Recalculating boundary\n",
      "Recalculating boundary\n",
      "Recalculating boundary\n",
      "Recalculating boundary\n",
      "Recalculating boundary\n",
      "Recalculating boundary\n",
      "Recalculating boundary\n",
      "Recalculating boundary\n",
      "Recalculating boundary\n",
      "Recalculating boundary\n",
      "Recalculating boundary\n",
      "Recalculating boundary\n",
      "Recalculating boundary\n",
      "Recalculating boundary\n",
      "Recalculating boundary\n",
      "Recalculating boundary\n",
      "Recalculating boundary\n",
      "Recalculating boundary\n",
      "Recalculating boundary\n",
      "Recalculating boundary\n",
      "Recalculating boundary\n",
      "Recalculating boundary\n",
      "Recalculating boundary\n",
      "Recalculating boundary\n",
      "Recalculating boundary\n",
      "Recalculating boundary\n",
      "Recalculating boundary\n",
      "Recalculating boundary\n",
      "Recalculating boundary\n",
      "Recalculating boundary\n",
      "Recalculating boundary\n",
      "Recalculating boundary\n",
      "Recalculating boundary\n",
      "Recalculating boundary\n",
      "Recalculating boundary\n",
      "Recalculating boundary\n",
      "Recalculating boundary\n",
      "Recalculating boundary\n",
      "Recalculating boundary\n",
      "Recalculating boundary\n",
      "Recalculating boundary\n",
      "Recalculating boundary\n",
      "Recalculating boundary\n",
      "Recalculating boundary\n",
      "Recalculating boundary\n",
      "Recalculating boundary\n",
      "Recalculating boundary\n",
      "Recalculating boundary\n",
      "Recalculating boundary\n",
      "Recalculating boundary\n",
      "Recalculating boundary\n",
      "Recalculating boundary\n",
      "Recalculating boundary\n",
      "Recalculating boundary\n",
      "Recalculating boundary\n",
      "Recalculating boundary\n",
      "Recalculating boundary\n",
      "Recalculating boundary\n",
      "Recalculating boundary\n",
      "Recalculating boundary\n",
      "Recalculating boundary\n",
      "Recalculating boundary\n",
      "Recalculating boundary\n",
      "Recalculating boundary\n",
      "Recalculating boundary\n",
      "Recalculating boundary\n",
      "Recalculating boundary\n",
      "Recalculating boundary\n",
      "Recalculating boundary\n",
      "Recalculating boundary\n",
      "Recalculating boundary\n",
      "Recalculating boundary\n",
      "Recalculating boundary\n",
      "Recalculating boundary\n",
      "Recalculating boundary\n",
      "Recalculating boundary\n",
      "Recalculating boundary\n",
      "Recalculating boundary\n",
      "Recalculating boundary\n",
      "Recalculating boundary\n",
      "Recalculating boundary\n",
      "Recalculating boundary\n",
      "Recalculating boundary\n",
      "Recalculating boundary\n",
      "Recalculating boundary\n",
      "Recalculating boundary\n",
      "Recalculating boundary\n",
      "Recalculating boundary\n",
      "Recalculating boundary\n",
      "Recalculating boundary\n",
      "Recalculating boundary\n",
      "Recalculating boundary\n",
      "Recalculating boundary\n",
      "Recalculating boundary\n",
      "Recalculating boundary\n",
      "Recalculating boundary\n",
      "Recalculating boundary\n",
      "Recalculating boundary\n",
      "Recalculating boundary\n",
      "Recalculating boundary\n",
      "Recalculating boundary\n",
      "Recalculating boundary\n",
      "Recalculating boundary\n",
      "Recalculating boundary\n",
      "Recalculating boundary\n",
      "Recalculating boundary\n",
      "Recalculating boundary\n",
      "Recalculating boundary\n",
      "Recalculating boundary\n",
      "Recalculating boundary\n",
      "Recalculating boundary\n",
      "Recalculating boundary\n",
      "Recalculating boundary\n",
      "Recalculating boundary\n",
      "Recalculating boundary\n",
      "Recalculating boundary\n",
      "Recalculating boundary\n",
      "Recalculating boundary\n",
      "Recalculating boundary\n",
      "Recalculating boundary\n",
      "Recalculating boundary\n",
      "Recalculating boundary\n",
      "Recalculating boundary\n",
      "Recalculating boundary\n",
      "Recalculating boundary\n",
      "Recalculating boundary\n",
      "Recalculating boundary\n",
      "Recalculating boundary\n",
      "Recalculating boundary\n",
      "Recalculating boundary\n",
      "Recalculating boundary\n",
      "Recalculating boundary\n",
      "Recalculating boundary\n",
      "Recalculating boundary\n",
      "Recalculating boundary\n",
      "Recalculating boundary\n",
      "Recalculating boundary\n",
      "Recalculating boundary\n",
      "Recalculating boundary\n",
      "Recalculating boundary\n",
      "Recalculating boundary\n",
      "Recalculating boundary\n",
      "Recalculating boundary\n",
      "Recalculating boundary\n",
      "Recalculating boundary\n",
      "Recalculating boundary\n",
      "Recalculating boundary\n",
      "Recalculating boundary\n",
      "Recalculating boundary\n",
      "Recalculating boundary\n",
      "Recalculating boundary\n",
      "Recalculating boundary\n",
      "Recalculating boundary\n",
      "Recalculating boundary\n",
      "Recalculating boundary\n",
      "Recalculating boundary\n",
      "Recalculating boundary\n",
      "Recalculating boundary\n",
      "Recalculating boundary\n",
      "Recalculating boundary\n",
      "Recalculating boundary\n",
      "Recalculating boundary\n",
      "Recalculating boundary\n",
      "Recalculating boundary\n",
      "Recalculating boundary\n",
      "Recalculating boundary\n",
      "Recalculating boundary\n",
      "Recalculating boundary\n",
      "Recalculating boundary\n",
      "Recalculating boundary\n",
      "Recalculating boundary\n",
      "Recalculating boundary\n",
      "Recalculating boundary\n",
      "Recalculating boundary\n",
      "Recalculating boundary\n",
      "Recalculating boundary\n",
      "Recalculating boundary\n",
      "Recalculating boundary\n",
      "Recalculating boundary\n",
      "Recalculating boundary\n",
      "Recalculating boundary\n",
      "Recalculating boundary\n",
      "Recalculating boundary\n",
      "Recalculating boundary\n",
      "Recalculating boundary\n",
      "Recalculating boundary\n",
      "Recalculating boundary\n",
      "Recalculating boundary\n",
      "Recalculating boundary\n",
      "Recalculating boundary\n",
      "Recalculating boundary\n",
      "Recalculating boundary\n",
      "Recalculating boundary\n",
      "Recalculating boundary\n",
      "Recalculating boundary\n",
      "Recalculating boundary\n",
      "Recalculating boundary\n",
      "Recalculating boundary\n",
      "Recalculating boundary\n",
      "Recalculating boundary\n",
      "Recalculating boundary\n",
      "Recalculating boundary\n",
      "Recalculating boundary\n",
      "Recalculating boundary\n",
      "Recalculating boundary\n",
      "Recalculating boundary\n",
      "Recalculating boundary\n",
      "Recalculating boundary\n",
      "Recalculating boundary\n",
      "Recalculating boundary\n",
      "Recalculating boundary\n",
      "Recalculating boundary\n",
      "Recalculating boundary\n",
      "Recalculating boundary\n",
      "Recalculating boundary\n",
      "Recalculating boundary\n",
      "Recalculating boundary\n",
      "Recalculating boundary\n",
      "Recalculating boundary\n",
      "Recalculating boundary\n",
      "Recalculating boundary\n",
      "Recalculating boundary\n",
      "Recalculating boundary\n",
      "Recalculating boundary\n",
      "Recalculating boundary\n",
      "Recalculating boundary\n",
      "Recalculating boundary\n",
      "Recalculating boundary\n",
      "Recalculating boundary\n",
      "Recalculating boundary\n",
      "Recalculating boundary\n",
      "Recalculating boundary\n",
      "Recalculating boundary\n",
      "Recalculating boundary\n",
      "Recalculating boundary\n",
      "Recalculating boundary\n",
      "Recalculating boundary\n",
      "Recalculating boundary\n",
      "Recalculating boundary\n",
      "Recalculating boundary\n",
      "Recalculating boundary\n",
      "Recalculating boundary\n",
      "Recalculating boundary\n",
      "Recalculating boundary\n",
      "Recalculating boundary\n",
      "Recalculating boundary\n",
      "Recalculating boundary\n",
      "Recalculating boundary\n",
      "Recalculating boundary\n",
      "Recalculating boundary\n",
      "Recalculating boundary\n",
      "Recalculating boundary\n",
      "Recalculating boundary\n",
      "Recalculating boundary\n",
      "Recalculating boundary\n",
      "Recalculating boundary\n",
      "Recalculating boundary\n",
      "Recalculating boundary\n",
      "Recalculating boundary\n",
      "Recalculating boundary\n",
      "Recalculating boundary\n",
      "Recalculating boundary\n",
      "Recalculating boundary\n",
      "Recalculating boundary\n",
      "Recalculating boundary\n",
      "Recalculating boundary\n",
      "Recalculating boundary\n",
      "Recalculating boundary\n",
      "Recalculating boundary\n",
      "Recalculating boundary\n",
      "Recalculating boundary\n",
      "Recalculating boundary\n",
      "Recalculating boundary\n",
      "Recalculating boundary\n",
      "Recalculating boundary\n",
      "Recalculating boundary\n",
      "Recalculating boundary\n",
      "Recalculating boundary\n",
      "Recalculating boundary\n",
      "Recalculating boundary\n",
      "Recalculating boundary\n",
      "Recalculating boundary\n",
      "Recalculating boundary\n",
      "Recalculating boundary\n",
      "Recalculating boundary\n",
      "Recalculating boundary\n",
      "Recalculating boundary\n",
      "Recalculating boundary\n",
      "Recalculating boundary\n",
      "Recalculating boundary\n",
      "Recalculating boundary\n",
      "Recalculating boundary\n",
      "Recalculating boundary\n",
      "Recalculating boundary\n",
      "Recalculating boundary\n",
      "Recalculating boundary\n",
      "Recalculating boundary\n",
      "Recalculating boundary\n",
      "Recalculating boundary\n",
      "Recalculating boundary\n",
      "Recalculating boundary\n",
      "Recalculating boundary\n",
      "Recalculating boundary\n",
      "Recalculating boundary\n",
      "Recalculating boundary\n",
      "Recalculating boundary\n",
      "Recalculating boundary\n",
      "Recalculating boundary\n",
      "Recalculating boundary\n",
      "Recalculating boundary\n",
      "Recalculating boundary\n",
      "Recalculating boundary\n",
      "Recalculating boundary\n",
      "Recalculating boundary\n",
      "Recalculating boundary\n",
      "Recalculating boundary\n",
      "Recalculating boundary\n",
      "Recalculating boundary\n",
      "Recalculating boundary\n",
      "Recalculating boundary\n",
      "Recalculating boundary\n",
      "Recalculating boundary\n",
      "Recalculating boundary\n",
      "Recalculating boundary\n",
      "Recalculating boundary\n",
      "Recalculating boundary\n",
      "Recalculating boundary\n",
      "Recalculating boundary\n",
      "Recalculating boundary\n",
      "Recalculating boundary\n",
      "Recalculating boundary\n",
      "Recalculating boundary\n",
      "Recalculating boundary\n",
      "Recalculating boundary\n",
      "Recalculating boundary\n",
      "Recalculating boundary\n",
      "Recalculating boundary\n",
      "Recalculating boundary\n",
      "Recalculating boundary\n",
      "Recalculating boundary\n",
      "Recalculating boundary\n",
      "Recalculating boundary\n",
      "Recalculating boundary\n",
      "Recalculating boundary\n",
      "Recalculating boundary\n",
      "Recalculating boundary\n",
      "Recalculating boundary\n",
      "Recalculating boundary\n",
      "Recalculating boundary\n",
      "Recalculating boundary\n",
      "Recalculating boundary\n",
      "Recalculating boundary\n",
      "Recalculating boundary\n",
      "Recalculating boundary\n",
      "Recalculating boundary\n",
      "Recalculating boundary\n",
      "Recalculating boundary\n",
      "Recalculating boundary\n",
      "Recalculating boundary\n",
      "Recalculating boundary\n",
      "Recalculating boundary\n",
      "Recalculating boundary\n",
      "Recalculating boundary\n",
      "Recalculating boundary\n",
      "Recalculating boundary\n",
      "Recalculating boundary\n",
      "Recalculating boundary\n",
      "Recalculating boundary\n",
      "Recalculating boundary\n",
      "Recalculating boundary\n",
      "Recalculating boundary\n",
      "Recalculating boundary\n",
      "Recalculating boundary\n",
      "Recalculating boundary\n",
      "Recalculating boundary\n",
      "Recalculating boundary\n",
      "Recalculating boundary\n",
      "Recalculating boundary\n",
      "Recalculating boundary\n",
      "Recalculating boundary\n",
      "Recalculating boundary\n",
      "Recalculating boundary\n",
      "Recalculating boundary\n",
      "Recalculating boundary\n",
      "Recalculating boundary\n",
      "Recalculating boundary\n",
      "Recalculating boundary\n",
      "Recalculating boundary\n",
      "Recalculating boundary\n",
      "Recalculating boundary\n",
      "Recalculating boundary\n",
      "Recalculating boundary\n",
      "Recalculating boundary\n",
      "Recalculating boundary\n",
      "Recalculating boundary\n",
      "Recalculating boundary\n",
      "Recalculating boundary\n",
      "Recalculating boundary\n",
      "Recalculating boundary\n",
      "Recalculating boundary\n",
      "Recalculating boundary\n",
      "Recalculating boundary\n",
      "Recalculating boundary\n",
      "Recalculating boundary\n",
      "Recalculating boundary\n",
      "Recalculating boundary\n",
      "Recalculating boundary\n",
      "Recalculating boundary\n",
      "Recalculating boundary\n",
      "Recalculating boundary\n",
      "Recalculating boundary\n",
      "Recalculating boundary\n",
      "Recalculating boundary\n",
      "Recalculating boundary\n",
      "Recalculating boundary\n",
      "Recalculating boundary\n",
      "Recalculating boundary\n",
      "Recalculating boundary\n",
      "Recalculating boundary\n",
      "Recalculating boundary\n",
      "Recalculating boundary\n",
      "Recalculating boundary\n",
      "Recalculating boundary\n",
      "Recalculating boundary\n",
      "Recalculating boundary\n",
      "Recalculating boundary\n",
      "Recalculating boundary\n",
      "Recalculating boundary\n",
      "Recalculating boundary\n",
      "Recalculating boundary\n",
      "Recalculating boundary\n",
      "Recalculating boundary\n",
      "Recalculating boundary\n",
      "Recalculating boundary\n",
      "Recalculating boundary\n",
      "Recalculating boundary\n",
      "Recalculating boundary\n",
      "Recalculating boundary\n",
      "Recalculating boundary\n",
      "Recalculating boundary\n",
      "Recalculating boundary\n",
      "Recalculating boundary\n",
      "Recalculating boundary\n",
      "Recalculating boundary\n",
      "Recalculating boundary\n",
      "Recalculating boundary\n",
      "Recalculating boundary\n",
      "Recalculating boundary\n",
      "Recalculating boundary\n",
      "Recalculating boundary\n",
      "Recalculating boundary\n",
      "Recalculating boundary\n",
      "Recalculating boundary\n",
      "Recalculating boundary\n",
      "Recalculating boundary\n",
      "Recalculating boundary\n",
      "Recalculating boundary\n",
      "Recalculating boundary\n",
      "Recalculating boundary\n",
      "Recalculating boundary\n",
      "Recalculating boundary\n",
      "Recalculating boundary\n",
      "Recalculating boundary\n",
      "Recalculating boundary\n",
      "Recalculating boundary\n",
      "Recalculating boundary\n",
      "Recalculating boundary\n",
      "Recalculating boundary\n",
      "Recalculating boundary\n",
      "Recalculating boundary\n",
      "Recalculating boundary\n",
      "Recalculating boundary\n",
      "Recalculating boundary\n",
      "Recalculating boundary\n",
      "Recalculating boundary\n",
      "Recalculating boundary\n",
      "Recalculating boundary\n",
      "Recalculating boundary\n",
      "Recalculating boundary\n",
      "Recalculating boundary\n",
      "Recalculating boundary\n"
     ]
    }
   ],
   "source": [
    "from time import sleep\n",
    "n = 1000\n",
    "for i in range(n):\n",
    "    min_z=i/n\n",
    "    mesh.set_clipping(min_z=min_z)\n",
    "    mesh.set_clipping(max_z=min_z+.1)\n",
    "    sleep(1/100)\n",
    "        "
   ]
  },
  {
   "cell_type": "code",
   "execution_count": 7,
   "metadata": {},
   "outputs": [],
   "source": [
    "\n",
    "with viewer.renderer.hold():\n",
    "    mesh.set_clipping(min_x=.3)\n",
    "    sleep(1/20)"
   ]
  },
  {
   "cell_type": "code",
   "execution_count": 7,
   "metadata": {},
   "outputs": [
    {
     "data": {
      "text/plain": [
       "array([ 1.64343504e+00,  1.34543422e+00, -3.45946240e-01,  6.97279987e-01,\n",
       "        1.81114226e+00,  6.26428835e-01,  3.75743140e-01, -9.55614814e-01,\n",
       "       -2.14220866e+00, -1.22775715e+00, -1.20272434e+00, -3.38972843e-01,\n",
       "        7.38285625e-01,  9.38776813e-02,  2.02606358e+00,  1.27508635e+00,\n",
       "       -1.06958296e+00,  4.65543127e-01,  5.05701276e-01, -1.84582569e+00,\n",
       "        2.14601180e+00, -5.48487817e-01,  8.59233573e-01,  5.47582772e-01,\n",
       "       -1.79311766e+00, -1.97025539e-01,  6.89669712e-01, -1.48238083e+00,\n",
       "        1.10974450e+00,  7.57352736e-01, -5.24126667e-01,  8.72771101e-01,\n",
       "       -2.43140531e-01, -9.92638164e-01, -1.53481491e+00,  2.04123989e-01,\n",
       "        3.07535911e-01, -8.52815507e-02, -1.32673272e+00, -8.69164703e-01,\n",
       "        4.23365253e-01,  5.12382838e-01,  1.39452275e+00,  2.03501333e+00,\n",
       "        4.65959191e-01,  3.06518585e-01,  5.46508656e-01,  1.09457887e+00,\n",
       "       -4.28653828e-01, -8.43869725e-01, -1.72477364e-01,  7.94710173e-01,\n",
       "        7.01255606e-01,  4.71662650e-01,  9.75349854e-01,  2.00484697e+00,\n",
       "        4.90115597e-01, -6.98374812e-01, -4.82309111e-01, -3.68589360e-01,\n",
       "        1.51373370e+00, -1.82017640e-01, -9.79980178e-01,  5.14398610e-01,\n",
       "        2.41072023e+00,  1.60161658e+00,  6.14719837e-01, -1.65634078e+00,\n",
       "       -1.59406769e-01,  1.93504613e-01,  4.44656272e-01,  7.45066917e-01,\n",
       "        1.26668187e+00,  6.32259477e-01,  3.59146329e-01, -1.39646396e-01,\n",
       "       -4.68097294e-01,  1.48055693e-01,  4.28535401e-01,  6.65905146e-01,\n",
       "        8.87758395e-01,  7.97598393e-02, -5.58653481e-01,  6.64958912e-01,\n",
       "        4.10802847e-01,  1.51692675e+00,  1.02668800e+00, -6.14591546e-01,\n",
       "       -8.86675589e-01, -4.38089020e-01, -9.66111863e-01, -2.55899269e+00,\n",
       "       -1.57414669e+00, -6.05362110e-01,  1.10463390e+00,  1.46938380e+00,\n",
       "       -1.98266838e+00, -5.65071110e-01,  6.43250005e-01,  1.07252318e-02,\n",
       "       -4.31899540e-01, -1.21236039e-02, -1.21287021e+00, -8.58671776e-01,\n",
       "       -1.92517423e+00, -1.73361541e+00,  5.25946869e-01,  1.41488847e+00,\n",
       "        1.30372898e-01,  9.31651164e-01, -5.31230810e-01, -2.58715760e-01,\n",
       "       -7.90917403e-01,  4.75127564e-01, -7.60618457e-01,  6.60341128e-01,\n",
       "       -1.02473923e+00, -6.65259513e-02,  8.10285661e-01,  1.37483284e+00,\n",
       "        8.46639593e-01, -4.83904470e-02, -1.24078280e+00, -1.21686799e+00,\n",
       "       -1.24747967e+00,  1.22941874e+00, -3.58680478e-01,  6.23256700e-01,\n",
       "        7.82418031e-01,  1.71302739e+00, -3.52461142e-01, -1.28586125e+00,\n",
       "       -1.07031597e+00, -1.10561720e+00, -7.45800739e-01,  1.37973512e+00,\n",
       "        2.60341595e-01, -3.41350738e-01, -2.98496437e-01, -6.52089572e-01,\n",
       "       -2.28379813e-01, -7.12130404e-01,  8.74894102e-01, -1.37959218e+00,\n",
       "        1.99916147e-01, -4.73250530e-01, -1.05333227e+00,  9.39948669e-01,\n",
       "        7.66194531e-01, -9.49439065e-02, -6.68163129e-01,  1.43935885e-01,\n",
       "        6.73145076e-01,  3.95834098e-01, -5.68655708e-01, -8.85837365e-01,\n",
       "       -1.24576920e+00,  3.28418157e-01,  1.14066692e-01, -2.79738908e-01,\n",
       "       -2.48625401e-02,  1.25342918e-01, -8.29567226e-01, -1.52094610e+00,\n",
       "        1.98411063e+00,  2.00285373e-01, -1.87334136e+00,  1.68508050e+00,\n",
       "        1.39700825e+00,  9.03809139e-01,  3.61935324e-01, -1.20802748e+00,\n",
       "       -2.17805507e-01, -1.83790055e+00,  1.77292465e-01, -7.04350971e-01,\n",
       "        1.32137893e+00, -1.28195224e+00,  3.17493375e-01,  2.21883023e-01,\n",
       "       -1.05434398e+00, -1.37010185e-01, -4.87391871e-01,  8.50247128e-03,\n",
       "        3.47705620e-01, -1.39222666e+00, -2.02643508e-01,  1.00461848e+00,\n",
       "        9.71113249e-01,  1.45646563e+00, -4.72995197e-01,  3.22451739e-03,\n",
       "       -4.49870842e-02,  1.43651650e+00, -5.55606505e-01,  1.73581783e+00,\n",
       "        2.28800643e+00,  7.62295949e-01, -3.31381119e-01,  2.89660302e-01,\n",
       "        9.80511965e-01,  7.74362046e-01, -8.85989003e-01, -7.26300646e-01,\n",
       "        2.95645362e-01,  1.02551704e+00, -1.19702081e+00,  7.33502082e-01,\n",
       "       -8.59585003e-01, -2.34161246e-01,  2.10413855e-01,  3.71043897e-01,\n",
       "        8.85827878e-02,  1.63958680e+00, -5.00647351e-03, -1.53224433e-02,\n",
       "        9.36687326e-01, -1.59275579e+00,  1.85521565e+00, -1.39343354e-02,\n",
       "       -6.08463405e-01, -1.10993142e+00, -8.79060546e-01,  2.05940061e-01,\n",
       "       -4.80509511e-01, -1.87899582e+00,  1.58490370e+00, -4.42592120e-01,\n",
       "        3.59627061e-01, -2.28138120e+00, -1.30680972e+00, -7.45822890e-01,\n",
       "       -1.43627297e+00, -1.16546685e+00,  1.25069616e+00, -1.27055134e+00,\n",
       "       -9.41537165e-01, -5.42287555e-03,  2.02674084e-01, -1.77427992e+00,\n",
       "        1.19626405e+00, -5.21546192e-01,  1.20874445e+00,  2.19218317e-01,\n",
       "       -7.30619311e-01,  1.92465074e-01,  1.20426430e+00,  3.57485660e-01,\n",
       "       -1.86305273e+00,  1.14644762e+00,  5.19843753e-01,  6.07487478e-02,\n",
       "        9.76657996e-01, -7.13759588e-02, -1.01518979e-01,  9.14488243e-01,\n",
       "       -3.73169790e-01,  1.67722472e-01, -1.88643520e-01,  1.41163254e+00,\n",
       "       -3.81399695e-01,  3.00473592e-01,  2.06235876e-01, -9.16121572e-01,\n",
       "        5.78769207e-01,  4.29124729e-01,  7.98564630e-01,  7.10790936e-01,\n",
       "       -1.42326861e+00, -8.80054293e-01,  8.86095654e-01,  3.95097463e-01,\n",
       "        1.55882001e+00,  7.64302570e-01,  6.50394441e-01,  1.16262029e+00,\n",
       "       -6.95409547e-01, -4.52142685e-01, -4.44338003e-01, -1.51234101e+00,\n",
       "       -7.42949942e-01,  1.46427971e+00,  1.21234333e+00,  1.72119836e+00,\n",
       "       -3.39657699e-01, -8.10815274e-01, -9.41003911e-02,  3.30762146e-01,\n",
       "        1.35524085e+00,  6.93602705e-01,  5.95293622e-01, -1.29770843e+00,\n",
       "        3.99747209e-01,  1.06928430e-01,  1.45006306e+00, -3.61830691e-02,\n",
       "        5.59594913e-01,  7.91245040e-01,  5.43327968e-01, -1.24460643e+00,\n",
       "        7.86999978e-01, -1.25638843e+00,  9.03549816e-01, -3.62029350e-01,\n",
       "       -3.59318175e-02, -9.88655968e-01,  9.48509154e-01,  1.31792236e+00,\n",
       "       -1.07627572e+00, -8.48015417e-02,  4.93786775e-01,  3.20951633e-01,\n",
       "       -4.54544685e-02, -1.01995267e+00, -1.63099045e+00, -1.95731129e+00,\n",
       "       -1.19543806e+00,  1.03964547e+00,  8.44154481e-01,  5.33564220e-01,\n",
       "        4.76460223e-01,  1.64097251e-01, -6.03673943e-01,  8.83262474e-02,\n",
       "        1.37360890e+00, -2.38517022e-01,  4.35958315e-01,  2.21582305e-01,\n",
       "       -6.81972550e-01, -1.06114406e+00,  7.00147728e-02,  3.93967099e-01,\n",
       "        4.29024192e-01,  2.26773398e-01, -9.20093058e-01, -1.26641456e+00,\n",
       "        2.90370568e+00,  2.09457219e-01, -3.20715384e-01, -1.16289774e+00,\n",
       "       -1.38339944e+00,  3.69693825e-01, -4.06909866e-01,  2.63927243e+00,\n",
       "        8.85267245e-01,  1.09627930e+00,  8.73477251e-01,  4.18108024e-01,\n",
       "       -3.04827066e-01, -8.58671469e-01,  2.39635871e-01,  1.44300161e+00,\n",
       "       -1.31294485e+00,  1.55155314e-01,  7.53550721e-01,  6.83213118e-01,\n",
       "        7.48567931e-01,  8.02172889e-02,  6.45967889e-01, -1.30303807e+00,\n",
       "        1.30495155e+00, -2.25950958e-01, -6.14925722e-01, -7.11707389e-01,\n",
       "       -5.13609132e-02,  6.99021848e-02,  5.23168288e-01,  4.70514788e-01,\n",
       "       -4.38080872e-01,  9.77729875e-01,  3.32401480e-01,  7.34521999e-01,\n",
       "       -1.52300860e-01,  8.08604836e-01,  5.49224405e-01,  1.13163189e+00,\n",
       "        8.54410422e-01, -3.45893679e-01, -2.35196130e+00, -7.72189725e-01,\n",
       "       -1.42453983e+00, -9.75043179e-02,  4.28854065e-01,  1.61803386e+00,\n",
       "       -1.08323298e+00, -4.63165756e-02,  1.69929673e-01,  9.21707935e-01,\n",
       "       -1.08955723e+00,  2.37591360e-01, -6.26772991e-01,  1.11309586e+00,\n",
       "        4.98619151e-01,  1.35406354e+00,  8.74470806e-01, -6.04890601e-01,\n",
       "       -1.24789850e-01, -1.16817025e+00,  3.66980748e-01, -7.11641297e-01,\n",
       "        5.09719825e-02,  7.64716233e-01, -3.61241145e-01, -2.87819182e-01,\n",
       "        2.65154068e-01, -1.57150522e+00,  1.29605648e+00,  1.73109584e+00,\n",
       "        2.57397779e+00, -1.39417496e+00,  5.44527737e-01,  2.08678641e+00,\n",
       "        4.72161279e-01,  1.47183124e+00,  1.44827653e+00, -6.68571110e-01,\n",
       "        3.15099243e-01,  9.06169248e-02,  1.21138374e-01,  3.95396757e-01,\n",
       "        5.31965237e-01, -1.57300061e+00,  2.43683701e+00, -1.35194628e-01,\n",
       "       -3.54593583e-01, -4.70963381e-01,  4.01426186e-01,  9.77496567e-01,\n",
       "        2.44213896e+00, -2.03260428e+00,  8.57495688e-01, -7.20970891e-01,\n",
       "       -1.04728846e-01,  1.04025328e+00, -1.11545636e+00,  6.59010548e-01,\n",
       "        1.31987903e+00,  1.50154941e+00,  1.27809234e+00,  4.14024870e-01,\n",
       "       -1.58065693e+00, -9.28775498e-01,  4.75557452e-01, -4.22282804e-01,\n",
       "       -1.85938579e+00,  2.90482321e-01,  5.44253792e-01,  4.51750717e-01,\n",
       "        3.29024224e-01, -1.84966391e-01,  5.14380433e-01,  1.67418914e-01,\n",
       "       -2.02981550e-01, -1.68051133e+00,  1.06277601e+00, -1.26319688e+00,\n",
       "        6.35634876e-01,  1.57186793e-01, -4.29894444e-01,  7.14555914e-01,\n",
       "        9.59835603e-01, -3.94597168e-01, -1.16855150e-01, -6.73311011e-01,\n",
       "       -3.77052832e-02, -2.41679984e-01, -4.19172232e-01,  2.41914241e-03,\n",
       "       -1.09127599e+00, -1.81798532e+00, -2.45210806e-01, -1.74330389e+00,\n",
       "        7.84491156e-01,  6.22595400e-01, -1.10210710e+00,  8.53592122e-01,\n",
       "        4.18955037e-01, -9.90258775e-01,  2.12783694e+00,  1.04024970e+00,\n",
       "        5.76001850e-01,  1.35538662e-01, -9.35380348e-01, -3.25766597e-01,\n",
       "        1.24446988e+00,  1.89294576e-01,  1.34763526e+00,  1.69876269e+00,\n",
       "        7.90104600e-01,  3.22971693e-01,  5.93085310e-01, -8.01150739e-02,\n",
       "        2.90781935e-01, -5.18193686e-01, -4.42842243e-01,  1.39514284e+00,\n",
       "       -3.07353552e-01,  3.99370904e-01, -5.67939043e-01,  5.24900849e-01,\n",
       "        6.47884809e-01,  2.43661900e+00, -1.81854841e-01,  4.42712116e-01,\n",
       "       -9.13639281e-01, -1.23830110e+00, -1.04669112e+00,  1.13990336e+00,\n",
       "        1.01739145e+00,  7.01415743e-01,  1.06157169e+00,  5.14737385e-03,\n",
       "        1.86634993e+00,  2.18396406e-01, -5.13479436e-01,  1.04224010e+00,\n",
       "       -1.07997825e+00,  3.16708588e-02, -1.38234178e-01,  1.65346671e-01,\n",
       "       -3.03603455e-01, -1.03437502e+00,  5.55372264e-01,  1.53583687e-01,\n",
       "       -1.01615761e+00,  6.49201515e-01,  6.73669092e-01, -1.39251835e-01,\n",
       "        1.44028544e+00, -3.70075567e-01,  4.71474497e-01,  1.49489761e+00,\n",
       "        1.66576844e-01, -3.58239808e-02,  5.07002991e-01, -8.95482225e-01,\n",
       "       -1.66109641e-01, -3.88099452e-01, -1.31462844e+00, -1.28918568e-01,\n",
       "       -2.39947422e-01,  4.98585581e-01,  5.96248583e-01, -1.26976587e+00,\n",
       "        1.02515083e+00, -7.86604581e-01,  3.74289510e-01, -1.37062956e+00,\n",
       "       -1.74277483e-01,  7.96150945e-01,  1.67534365e-01,  1.19626369e+00,\n",
       "       -1.46688654e-01, -1.11591169e+00,  8.58862541e-01,  6.23753216e-02,\n",
       "        4.18472111e-01, -5.67344278e-01, -6.74920428e-01,  3.23932549e-02,\n",
       "       -5.96040711e-01, -4.81184836e-01, -1.26823774e+00, -1.23544717e+00,\n",
       "       -7.34459607e-01, -1.44526186e-01, -1.01532655e+00, -1.33461269e+00,\n",
       "        4.14934165e-01,  6.85395823e-01, -8.61896583e-02, -2.19636164e+00,\n",
       "       -7.30482724e-01,  3.59953359e-01, -1.85475558e+00, -1.88930314e+00,\n",
       "        9.24662479e-01, -1.97679454e+00, -1.19698550e+00,  5.19447892e-01,\n",
       "        1.15148790e+00, -3.55635966e-01, -6.75849732e-01,  8.76091268e-01,\n",
       "        1.66590836e+00, -1.22694180e+00,  1.35401752e+00, -9.98733295e-01,\n",
       "       -1.92498050e+00,  3.49122838e-01, -1.49021607e-01, -5.67636913e-01,\n",
       "        8.31613779e-01, -3.24701572e-01,  3.34818027e-01, -9.13505553e-02,\n",
       "       -1.72901454e-01, -1.49274486e-01, -1.61741928e-01, -2.86101033e+00,\n",
       "        2.78642945e+00,  4.53688713e-01, -1.07527806e+00,  1.12803535e+00,\n",
       "        4.16352627e-01, -9.81668379e-01,  1.68146220e+00,  1.48325759e+00,\n",
       "        3.63424636e-02,  8.36920511e-01, -8.99533421e-01, -6.26152506e-01,\n",
       "        3.25001039e-01,  3.64958246e-01, -2.52707083e+00,  2.91104650e-01,\n",
       "       -2.31533994e-01,  2.95718579e-01, -1.74580617e-01, -7.34179341e-01,\n",
       "        3.46819491e-01,  9.63872094e-01,  5.53059722e-01,  4.50114353e-01,\n",
       "       -2.55223622e-01,  1.25706507e+00, -1.04931444e+00, -1.00564706e+00,\n",
       "        5.18332633e-01,  1.79885032e-01, -8.12060048e-02, -7.88406054e-01,\n",
       "       -9.85846964e-01,  1.06828294e+00,  6.65888681e-01, -1.41140504e-01,\n",
       "        1.75600520e-01,  3.27110786e-02, -5.83902243e-01, -3.43783351e-01,\n",
       "       -2.54622123e+00,  5.47081203e-01, -5.16097983e-01, -1.52613622e+00,\n",
       "       -8.75120926e-01, -1.23799982e+00, -2.04388073e+00, -5.42343466e-01,\n",
       "       -1.22968925e+00, -2.80351339e-01, -2.31964293e-01, -3.37561626e-01,\n",
       "       -4.05034870e-01,  1.08175536e+00,  1.77578858e-01, -3.77124433e-01,\n",
       "       -1.97968952e-01, -1.17140435e+00,  1.94225713e+00,  2.97731543e-02,\n",
       "        1.46969014e-01,  1.11537003e+00, -4.29246272e-01, -4.91714991e-01,\n",
       "       -2.94946099e-01,  1.27772811e+00, -1.11030801e+00,  4.77788328e-01,\n",
       "        7.54147960e-01,  1.40375127e+00,  2.62813700e-01, -2.61125054e-01,\n",
       "        2.40708346e+00, -5.42058579e-01,  4.60382050e-01,  3.94298974e-01,\n",
       "       -1.15918476e+00, -1.11251616e+00,  8.03691061e-01, -4.83981613e-01,\n",
       "       -1.39954449e-01,  9.44076627e-01, -1.48378625e+00,  9.97816375e-01,\n",
       "        6.77137669e-01, -6.76334106e-01, -7.91360785e-01,  1.38118539e+00,\n",
       "       -3.29972647e-01,  9.43044306e-01, -2.13925179e+00, -2.32749717e-03,\n",
       "        6.90724917e-02, -6.02024311e-01, -8.13446210e-01,  2.06209018e+00,\n",
       "        1.32646131e-01,  8.19359592e-01, -1.06541372e+00, -1.21633084e+00,\n",
       "       -5.68365033e-01, -1.04984975e+00, -9.08202476e-01,  9.39882062e-01,\n",
       "        5.33499807e-01, -1.15874874e+00,  1.02257625e-01,  1.58094778e+00,\n",
       "       -1.21611537e+00, -9.06766682e-01, -9.87647705e-01,  1.08376003e+00,\n",
       "       -1.59455385e-01,  3.48412166e-01,  2.18632178e+00, -3.83312354e-01,\n",
       "        5.92074629e-01,  6.94945994e-01,  1.94698503e-01, -1.92211131e+00,\n",
       "       -1.72247501e-01, -1.13804070e+00, -3.11874479e-02, -1.97964353e-01,\n",
       "       -1.49978879e+00,  9.28215218e-01,  7.05320578e-01, -1.75351922e+00,\n",
       "       -1.75957966e-01,  8.91658062e-01, -8.08736040e-01, -2.22722536e-01,\n",
       "        1.13395729e+00,  7.07962003e-01,  3.39867191e-01,  3.74466765e-02,\n",
       "        6.10817045e-01, -4.07149840e-01, -4.79355515e-01, -1.89958152e+00,\n",
       "       -7.95239216e-01, -2.54708052e+00,  1.62932428e-01, -1.05307747e+00,\n",
       "        2.50136747e-01,  1.76090243e-01,  7.87978030e-01, -1.19780890e+00,\n",
       "        4.67449795e-01,  9.45358277e-02,  1.23471641e+00,  2.70755246e-01,\n",
       "       -1.16754045e-01, -1.99668821e-01,  2.06047449e-01,  1.52486656e+00,\n",
       "       -1.75324326e+00, -7.12520326e-01, -3.16140434e-01, -1.53372060e+00,\n",
       "        7.80025192e-01, -8.47837407e-01,  1.39680463e+00, -8.75121014e-01,\n",
       "       -2.27826910e+00, -9.65538978e-02, -2.25473248e-01,  1.55148132e+00,\n",
       "        1.57061173e+00, -5.18274570e-01,  5.48428231e-01, -1.63936192e+00,\n",
       "        1.59038114e+00, -8.00323863e-01,  9.50213548e-01, -1.43613584e+00,\n",
       "       -4.73486649e-01, -1.96776257e+00, -5.32791731e-01, -8.15790853e-01,\n",
       "        5.72173415e-01, -9.90162751e-02,  1.07728674e-01,  6.58169892e-01,\n",
       "        5.54528687e-01, -9.98723110e-01,  1.34505301e-01, -1.13176589e+00,\n",
       "       -1.23310180e+00,  4.05017964e-01, -1.55297855e+00,  5.46966293e-01,\n",
       "        5.39391439e-01,  2.23391973e-01, -1.65571639e-01, -1.75539039e+00,\n",
       "       -8.02708613e-01, -1.32822427e+00, -1.67204101e+00,  1.02524801e+00,\n",
       "       -1.33715575e+00, -1.31583188e+00,  6.01291518e-01, -1.20218755e+00,\n",
       "        3.04022378e-01, -4.64329927e-01, -6.69409809e-01, -1.21489642e+00,\n",
       "        1.51357907e+00, -2.35907398e+00, -5.21004453e-01,  7.25889714e-01,\n",
       "       -1.40753288e-01, -1.94322578e-01,  5.87781840e-02, -2.22446095e-01,\n",
       "       -1.16295806e+00,  1.97138830e+00, -7.30531082e-01,  3.33697486e-01,\n",
       "       -7.75843647e-02, -4.17104824e-01,  1.11611780e+00,  4.72207348e-01,\n",
       "       -4.56195843e-01, -3.39424206e-01, -7.73128187e-01,  2.92742176e-01,\n",
       "        7.51630121e-01,  2.28225341e+00,  9.12841514e-01, -1.63323776e+00,\n",
       "        1.74071587e+00,  1.92284258e+00, -1.42895188e+00, -2.79114836e-01,\n",
       "       -9.71916320e-01,  8.72479409e-01,  1.22926522e+00, -1.32111061e+00,\n",
       "       -3.64667965e-01, -9.20155144e-02, -1.67701897e+00, -1.23780407e+00,\n",
       "       -2.43368338e-01,  1.87990344e-01, -3.52350683e-01,  1.29834617e-01,\n",
       "       -1.77334736e-01,  1.96230022e-01, -5.00392626e-01,  1.58291984e-02,\n",
       "       -1.87270171e+00,  1.81142694e+00,  4.81235049e-01, -6.07339560e-01,\n",
       "       -9.96039506e-01, -9.17177057e-01,  4.37440960e-01, -8.83457255e-01,\n",
       "       -1.14279155e+00, -4.84565673e-01, -1.24893836e-01, -3.20419545e-01,\n",
       "       -1.05866847e+00, -4.94761195e-01,  9.33582549e-01, -1.13265188e+00,\n",
       "       -1.16145970e+00,  1.27504242e-01, -4.98581167e-01,  4.21208213e-01,\n",
       "        8.64933252e-01, -1.39727714e+00, -1.05090187e+00, -1.92558961e+00,\n",
       "       -9.03886548e-01, -9.23761434e-01,  7.20397056e-01, -2.73052082e-01,\n",
       "       -1.33189833e+00,  2.24212937e+00, -8.45867335e-01, -1.29275961e+00,\n",
       "        2.10410871e+00,  1.87371459e+00, -4.00689305e-01, -1.61604106e+00,\n",
       "       -6.25828586e-01, -1.19041504e-01,  3.53611018e-01, -8.96201165e-01,\n",
       "        2.38526446e-01, -7.29270294e-01,  1.16609930e+00, -1.57018229e+00,\n",
       "       -6.48302768e-01, -1.20077715e+00,  2.83096752e-01,  1.04491127e+00,\n",
       "       -9.28451980e-01, -6.68593060e-01,  1.11292011e+00,  5.02035542e-01,\n",
       "       -1.49776769e+00, -1.33510372e+00,  3.25987544e-01,  1.21589977e+00,\n",
       "       -7.66405387e-01, -4.39882484e-01, -6.40374874e-01, -1.63812206e+00,\n",
       "        1.37393063e+00, -1.63275560e+00,  6.30471903e-01,  6.20401427e-01,\n",
       "       -1.15308531e+00,  6.84977356e-01,  2.98527134e-01, -4.61189251e-01,\n",
       "       -4.18405841e-01, -1.70736512e+00, -6.57169344e-01,  1.90193788e-01,\n",
       "        8.95259572e-01, -2.86478319e-01, -9.34790183e-01,  6.05848742e-01,\n",
       "        1.37934402e+00,  1.04402165e+00, -4.41927891e-01, -8.31609735e-01,\n",
       "        2.12074025e+00,  1.71022349e+00, -8.47794091e-01,  2.70127573e-01,\n",
       "       -1.09888842e-01,  4.25081202e-01,  4.14313131e-01, -2.76505402e-01,\n",
       "       -4.08658733e-01, -5.98220627e-01, -8.63915616e-01,  2.13474941e-01,\n",
       "        4.72655939e-01, -1.07710509e+00,  1.27758567e+00,  1.24536905e+00,\n",
       "        1.67368211e+00,  2.46253890e-01, -1.60208039e+00,  1.74820124e-02,\n",
       "       -4.24976861e-01,  4.35880021e-01, -9.99891712e-01, -2.10351794e+00,\n",
       "       -2.85370058e-01, -1.02888791e+00,  5.71936931e-01,  9.89032526e-01,\n",
       "       -7.36586043e-02, -1.60390443e+00,  7.58295256e-01, -3.76575311e-01,\n",
       "       -3.56403239e-01, -1.88773385e+00, -1.31618179e+00,  9.39304464e-01,\n",
       "       -8.62997820e-01, -1.11975215e+00,  1.54124167e+00, -1.00867479e+00,\n",
       "        6.74759792e-01,  1.21396443e+00,  2.86851268e-01, -3.64730535e-01,\n",
       "        1.41266323e+00,  6.94324615e-01, -2.44343333e-01, -1.00971649e+00,\n",
       "       -9.51084024e-02, -1.27483017e+00, -4.09508268e-01, -7.50130082e-02,\n",
       "       -2.04054733e-01,  1.99862227e+00, -6.23609468e-01, -8.90945897e-01,\n",
       "       -8.03142265e-01, -7.00699537e-01, -5.05584098e-01,  1.67934638e+00,\n",
       "        3.40800965e-01, -9.55962065e-01,  1.19050032e+00,  5.37483550e-01,\n",
       "       -1.35312990e+00,  4.54251921e-01,  2.72696366e-01, -1.61006124e+00])"
      ]
     },
     "execution_count": 7,
     "metadata": {},
     "output_type": "execute_result"
    }
   ],
   "source": [
    "np.random.randn(1000)"
   ]
  },
  {
   "cell_type": "code",
   "execution_count": 12,
   "metadata": {},
   "outputs": [
    {
     "ename": "SyntaxError",
     "evalue": "invalid syntax (<ipython-input-12-1ee787369a3e>, line 1)",
     "output_type": "error",
     "traceback": [
      "\u001b[0;36m  File \u001b[0;32m\"<ipython-input-12-1ee787369a3e>\"\u001b[0;36m, line \u001b[0;32m1\u001b[0m\n\u001b[0;31m    _[0::3::3]\u001b[0m\n\u001b[0m          ^\u001b[0m\n\u001b[0;31mSyntaxError\u001b[0m\u001b[0;31m:\u001b[0m invalid syntax\n"
     ]
    }
   ],
   "source": []
  },
  {
   "cell_type": "code",
   "execution_count": 11,
   "metadata": {},
   "outputs": [
    {
     "data": {
      "text/plain": [
       "(496992, 3)"
      ]
     },
     "execution_count": 11,
     "metadata": {},
     "output_type": "execute_result"
    }
   ],
   "source": [
    "viewer.drawable.wireframe.geometry.attributes['position'].array.shape"
   ]
  },
  {
   "cell_type": "code",
   "execution_count": 6,
   "metadata": {},
   "outputs": [],
   "source": [
    "mesh.reset_clipping()"
   ]
  },
  {
   "cell_type": "code",
   "execution_count": null,
   "metadata": {},
   "outputs": [],
   "source": [
    "old = viewer.drawable.drawable_mesh.geometry.attributes['color'].array\n",
    "viewer.drawable.drawable_mesh.geometry.attributes['color'].array = old[:2413]"
   ]
  },
  {
   "cell_type": "code",
   "execution_count": null,
   "metadata": {},
   "outputs": [],
   "source": [
    "viewer.drawable.geometry.vertices.shape"
   ]
  },
  {
   "cell_type": "code",
   "execution_count": null,
   "metadata": {},
   "outputs": [],
   "source": [
    "mesh.num_vertices"
   ]
  },
  {
   "cell_type": "code",
   "execution_count": null,
   "metadata": {},
   "outputs": [],
   "source": [
    "mesh.boundary()[1].shape"
   ]
  },
  {
   "cell_type": "code",
   "execution_count": null,
   "metadata": {},
   "outputs": [],
   "source": [
    "mesh.num_faces"
   ]
  },
  {
   "cell_type": "code",
   "execution_count": null,
   "metadata": {},
   "outputs": [],
   "source": [
    "viewer.drawable.geometry_color.shape"
   ]
  },
  {
   "cell_type": "code",
   "execution_count": null,
   "metadata": {},
   "outputs": [],
   "source": [
    "viewer.drawable.geometry_color = viewer.drawable.geometry_color[:2414]"
   ]
  },
  {
   "cell_type": "code",
   "execution_count": null,
   "metadata": {},
   "outputs": [],
   "source": [
    "viewer.drawable.geometry_color = viewer.drawable.geometry_color[:1]"
   ]
  },
  {
   "cell_type": "code",
   "execution_count": null,
   "metadata": {},
   "outputs": [],
   "source": [
    "viewer.drawable._external_color.shape"
   ]
  },
  {
   "cell_type": "code",
   "execution_count": null,
   "metadata": {},
   "outputs": [],
   "source": [
    "mesh.vertices[:10] *= 3"
   ]
  },
  {
   "cell_type": "code",
   "execution_count": null,
   "metadata": {},
   "outputs": [],
   "source": [
    "mesh.add_vertex(10, 10, 10)"
   ]
  },
  {
   "cell_type": "code",
   "execution_count": null,
   "metadata": {},
   "outputs": [],
   "source": [
    "mesh.num_vertices"
   ]
  },
  {
   "cell_type": "code",
   "execution_count": null,
   "metadata": {},
   "outputs": [],
   "source": []
  },
  {
   "cell_type": "code",
   "execution_count": null,
   "metadata": {},
   "outputs": [],
   "source": [
    "mesh.remove_faces(list(range(100)))"
   ]
  },
  {
   "cell_type": "code",
   "execution_count": null,
   "metadata": {},
   "outputs": [],
   "source": [
    "mesh.faces[-1]"
   ]
  },
  {
   "cell_type": "code",
   "execution_count": null,
   "metadata": {},
   "outputs": [],
   "source": [
    "mesh.add_vertex(*[32.25861 ,  6.77517 , 30.853298])"
   ]
  },
  {
   "cell_type": "code",
   "execution_count": null,
   "metadata": {},
   "outputs": [],
   "source": [
    "mesh.add_face(2413, 2412, 2410, 2411)"
   ]
  },
  {
   "cell_type": "code",
   "execution_count": null,
   "metadata": {},
   "outputs": [],
   "source": [
    "mesh.remove_vertex(1500)"
   ]
  },
  {
   "cell_type": "code",
   "execution_count": null,
   "metadata": {},
   "outputs": [],
   "source": [
    "mesh.vertices[1500]"
   ]
  },
  {
   "cell_type": "code",
   "execution_count": null,
   "metadata": {},
   "outputs": [],
   "source": [
    "mesh._AbstractMesh__boundary_cached.shape"
   ]
  },
  {
   "cell_type": "code",
   "execution_count": null,
   "metadata": {},
   "outputs": [],
   "source": [
    "mesh._AbstractMesh__boundary_needs_update"
   ]
  },
  {
   "cell_type": "code",
   "execution_count": null,
   "metadata": {},
   "outputs": [],
   "source": [
    "viewer.drawable.run(viewer.drawable.geometry.copy())"
   ]
  },
  {
   "cell_type": "code",
   "execution_count": null,
   "metadata": {},
   "outputs": [],
   "source": [
    "viewer.drawable.tri_soup"
   ]
  },
  {
   "cell_type": "code",
   "execution_count": null,
   "metadata": {},
   "outputs": [],
   "source": [
    "tris = mesh.as_triangles_flat()"
   ]
  },
  {
   "cell_type": "code",
   "execution_count": null,
   "metadata": {},
   "outputs": [],
   "source": [
    "P_1 = tris[::3]\n",
    "P_2 = tris[1::3]\n",
    "P_2 = tris[2::3]\n",
    "V = P_2 - P_1\n",
    "W = P_3 - P_1"
   ]
  },
  {
   "cell_type": "code",
   "execution_count": null,
   "metadata": {},
   "outputs": [],
   "source": [
    "from Py3DViewer.utils import ObservableArray"
   ]
  },
  {
   "cell_type": "code",
   "execution_count": null,
   "metadata": {},
   "outputs": [],
   "source": [
    "ObservableArray()"
   ]
  },
  {
   "cell_type": "code",
   "execution_count": null,
   "metadata": {},
   "outputs": [],
   "source": [
    "viewer.drawable.update_external_color(3)"
   ]
  },
  {
   "cell_type": "code",
   "execution_count": null,
   "metadata": {},
   "outputs": [],
   "source": [
    "mesh.vertices[0:100] = 1"
   ]
  },
  {
   "cell_type": "code",
   "execution_count": null,
   "metadata": {},
   "outputs": [],
   "source": [
    "mesh.vtx2vtx"
   ]
  },
  {
   "cell_type": "code",
   "execution_count": null,
   "metadata": {},
   "outputs": [],
   "source": [
    "print(id(mesh.vertices._observers))"
   ]
  },
  {
   "cell_type": "code",
   "execution_count": null,
   "metadata": {},
   "outputs": [],
   "source": [
    "id(viewer.drawable.drawable_mesh)"
   ]
  },
  {
   "cell_type": "code",
   "execution_count": null,
   "metadata": {},
   "outputs": [],
   "source": [
    "with viewer.renderer.hold():\n",
    "    print(\"critical stuff\")"
   ]
  },
  {
   "cell_type": "code",
   "execution_count": null,
   "metadata": {},
   "outputs": [],
   "source": [
    "a.gen.close()"
   ]
  },
  {
   "cell_type": "code",
   "execution_count": null,
   "metadata": {},
   "outputs": [],
   "source": [
    "a = viewer.renderer.widgets['407d01d115bb40cba02b13e3afc8ae25']"
   ]
  },
  {
   "cell_type": "code",
   "execution_count": null,
   "metadata": {},
   "outputs": [],
   "source": [
    "data_union = a.traits()"
   ]
  },
  {
   "cell_type": "code",
   "execution_count": null,
   "metadata": {},
   "outputs": [],
   "source": [
    "union = data_union['array']"
   ]
  },
  {
   "cell_type": "code",
   "execution_count": null,
   "metadata": {},
   "outputs": [],
   "source": [
    "viewer.drawable.drawable_mesh.unobserve"
   ]
  },
  {
   "cell_type": "code",
   "execution_count": null,
   "metadata": {},
   "outputs": [],
   "source": [
    "a = 13.2222"
   ]
  },
  {
   "cell_type": "code",
   "execution_count": null,
   "metadata": {},
   "outputs": [],
   "source": [
    "round(a, 2)"
   ]
  },
  {
   "cell_type": "code",
   "execution_count": null,
   "metadata": {},
   "outputs": [],
   "source": [
    "mesh.bbox"
   ]
  },
  {
   "cell_type": "code",
   "execution_count": null,
   "metadata": {},
   "outputs": [],
   "source": [
    "ret = mesh.clipping"
   ]
  },
  {
   "cell_type": "code",
   "execution_count": null,
   "metadata": {},
   "outputs": [],
   "source": [
    "mesh.clipping.flip.x"
   ]
  },
  {
   "cell_type": "code",
   "execution_count": null,
   "metadata": {},
   "outputs": [],
   "source": [
    "import copy"
   ]
  },
  {
   "cell_type": "code",
   "execution_count": null,
   "metadata": {},
   "outputs": [],
   "source": [
    "copy = copy.copy(viewer.drawable.drawable_mesh.geometry.attributes)"
   ]
  },
  {
   "cell_type": "code",
   "execution_count": null,
   "metadata": {},
   "outputs": [],
   "source": [
    "copy['position'].array[0][0] = 0"
   ]
  },
  {
   "cell_type": "code",
   "execution_count": null,
   "metadata": {},
   "outputs": [],
   "source": [
    "new_dict = {\n",
    "    'position': \n",
    "}"
   ]
  },
  {
   "cell_type": "code",
   "execution_count": null,
   "metadata": {},
   "outputs": [],
   "source": [
    "new = mesh.copy()"
   ]
  },
  {
   "cell_type": "code",
   "execution_count": null,
   "metadata": {},
   "outputs": [],
   "source": [
    "new.vertices[0][0] = 666"
   ]
  },
  {
   "cell_type": "code",
   "execution_count": null,
   "metadata": {},
   "outputs": [],
   "source": [
    "mesh.vertices"
   ]
  },
  {
   "cell_type": "code",
   "execution_count": null,
   "metadata": {},
   "outputs": [],
   "source": [
    "new.vertices"
   ]
  },
  {
   "cell_type": "code",
   "execution_count": null,
   "metadata": {},
   "outputs": [],
   "source": [
    "viewer.drawable.wireframe.material.opacity = 0"
   ]
  },
  {
   "cell_type": "code",
   "execution_count": null,
   "metadata": {},
   "outputs": [],
   "source": [
    "viewer.drawable.wireframe.material = None"
   ]
  },
  {
   "cell_type": "code",
   "execution_count": null,
   "metadata": {},
   "outputs": [],
   "source": []
  }
 ],
 "metadata": {
  "kernelspec": {
   "display_name": "Python 3",
   "language": "python",
   "name": "python3"
  },
  "language_info": {
   "codemirror_mode": {
    "name": "ipython",
    "version": 3
   },
   "file_extension": ".py",
   "mimetype": "text/x-python",
   "name": "python",
   "nbconvert_exporter": "python",
   "pygments_lexer": "ipython3",
   "version": "3.7.4"
  }
 },
 "nbformat": 4,
 "nbformat_minor": 4
}
