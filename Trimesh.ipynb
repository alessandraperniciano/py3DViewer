{
 "cells": [
  {
   "cell_type": "code",
   "execution_count": 33,
   "metadata": {},
   "outputs": [],
   "source": [
    "import numpy as np\n",
    "from AbstractMesh import AbstractMesh\n",
    "import utils\n",
    "from scipy.sparse import *"
   ]
  },
  {
   "cell_type": "code",
   "execution_count": 2,
   "metadata": {},
   "outputs": [],
   "source": [
    "class Trimesh(AbstractMesh):\n",
    "    \n",
    "    def __init__(self, vertices= None, faces = None, face_normals = None, labels = None):\n",
    "        \n",
    "        self.face_normals         = None #npArray (Nx3)\n",
    "        self.face_labels       = None #npArray (Nx1)\n",
    "        self.faces            = None #npArray (Nx3)\n",
    "        self.face2face         = None #npArray (Nx3?)\n",
    "\n",
    "        if vertices and faces:\n",
    "            \n",
    "            self.vertices = np.array(vertices) \n",
    "            self.faces = np.array(faces)\n",
    "            \n",
    "            if face_normals:\n",
    "                self.face_normals = np.array(face_normals)\n",
    "            \n",
    "            if labels:\n",
    "                self.labels = np.array(labels)\n",
    "        \n",
    "        super(Trimesh, self).__init__()\n",
    "     \n",
    "    \n",
    "    def show(self):\n",
    "        pass\n",
    "    \n",
    "    def add_face(self,face_id0, face_id1, face_id2):\n",
    "        new_face = np.array([face_id0, face_id1, face_id2])\n",
    "        self.faces = np.concatenate([self.faces, new_face])\n",
    "        self.__compute_adjacencies()\n",
    "    \n",
    "    def remove_face(self,face_id):\n",
    "        self.faces = np.delete(self.faces, face_id)\n",
    "        self.__compute_adjacencies()\n",
    "    \n",
    "    def remove_vertex(self,vtx_id):\n",
    "        \n",
    "        self.vertices = np.delete(self.vertices, vtx_id)\n",
    "        self.faces = self.faces[(self.faces[:,0] != vtx_id) & \n",
    "                                (self.faces[:,1] != vtx_id) & \n",
    "                                (self.faces[:,2] != vtx_id)] \n",
    "        self.__compute_adjacencies()\n",
    "        \n",
    "    \n",
    "    def load_from_file(self, filename):\n",
    "        \n",
    "        self.vertices, self.faces, self.face_normals = utils.read_obj(filename)\n",
    "        self.__compute_adjacencies()\n",
    "    \n",
    "    def __compute_adjacencies(self):\n",
    "        raise NotImplementedError\n",
    "    \n",
    "    \n",
    "    def save_file(self, filename):\n",
    "        raise NotImplementedError\n",
    "        \n",
    "    @property\n",
    "    def simplex_centroids(self):\n",
    "        \n",
    "        if self._AbstractMesh__simplex_centroids is None:\n",
    "            self._AbstractMesh__simplex_centroids = self.vertices[self.faces].mean(axis = 1)\n",
    "        \n",
    "        return self._AbstractMesh__simplex_centroids\n",
    "        \n",
    "        \n",
    "    \n",
    "    def __compute_metrics(self): \n",
    "        raise NotImplementedError('This method must be implemented in the subclasses')       "
   ]
  },
  {
   "cell_type": "code",
   "execution_count": 3,
   "metadata": {},
   "outputs": [],
   "source": [
    "vtx, faces, face_norm = utils.read_obj('bunny.obj')"
   ]
  },
  {
   "cell_type": "code",
   "execution_count": 4,
   "metadata": {},
   "outputs": [],
   "source": [
    "prova = Trimesh()"
   ]
  },
  {
   "cell_type": "code",
   "execution_count": 5,
   "metadata": {},
   "outputs": [],
   "source": [
    "prova.load_from_file('bunny.obj')"
   ]
  },
  {
   "cell_type": "code",
   "execution_count": 6,
   "metadata": {},
   "outputs": [
    {
     "data": {
      "text/plain": [
       "array([[-0.44110933,  0.08367033,  0.44573333],\n",
       "       [-0.133255  , -0.930293  ,  0.12635067],\n",
       "       [-0.07569433, -0.96924433, -0.332939  ],\n",
       "       ...,\n",
       "       [-0.692062  ,  0.635649  , -0.563669  ],\n",
       "       [-0.720955  ,  0.47139533,  0.563158  ],\n",
       "       [-0.70555233, -0.29099833,  0.54905233]])"
      ]
     },
     "execution_count": 6,
     "metadata": {},
     "output_type": "execute_result"
    }
   ],
   "source": [
    "prova.simplex_centroids"
   ]
  },
  {
   "cell_type": "code",
   "execution_count": 7,
   "metadata": {},
   "outputs": [
    {
     "data": {
      "text/plain": [
       "array([[-0.44110933,  0.08367033,  0.44573333],\n",
       "       [-0.133255  , -0.930293  ,  0.12635067],\n",
       "       [-0.07569433, -0.96924433, -0.332939  ],\n",
       "       ...,\n",
       "       [-0.692062  ,  0.635649  , -0.563669  ],\n",
       "       [-0.720955  ,  0.47139533,  0.563158  ],\n",
       "       [-0.70555233, -0.29099833,  0.54905233]])"
      ]
     },
     "execution_count": 7,
     "metadata": {},
     "output_type": "execute_result"
    }
   ],
   "source": [
    "vtx[faces].mean(axis = 1)"
   ]
  },
  {
   "cell_type": "code",
   "execution_count": 14,
   "metadata": {},
   "outputs": [
    {
     "data": {
      "text/plain": [
       "array([[-0.435735,  0.070596,  0.449676],\n",
       "       [-0.433542,  0.092247,  0.437848],\n",
       "       [-0.454051,  0.088168,  0.449676]])"
      ]
     },
     "execution_count": 14,
     "metadata": {},
     "output_type": "execute_result"
    }
   ],
   "source": [
    "vtx[faces[0]]"
   ]
  },
  {
   "cell_type": "code",
   "execution_count": 7,
   "metadata": {},
   "outputs": [],
   "source": [
    "p = AbstractMesh()"
   ]
  },
  {
   "cell_type": "code",
   "execution_count": 19,
   "metadata": {},
   "outputs": [
    {
     "data": {
      "text/plain": [
       "(28570, 3)"
      ]
     },
     "execution_count": 19,
     "metadata": {},
     "output_type": "execute_result"
    }
   ],
   "source": [
    "faces[(faces[:,0] != 0) & (faces[:,1] != 0) & (faces[:,2] != 0)]"
   ]
  },
  {
   "cell_type": "code",
   "execution_count": 14,
   "metadata": {},
   "outputs": [
    {
     "data": {
      "text/plain": [
       "(28575, 3)"
      ]
     },
     "execution_count": 14,
     "metadata": {},
     "output_type": "execute_result"
    }
   ],
   "source": [
    "faces[faces[:,1] != 0].shape"
   ]
  },
  {
   "cell_type": "code",
   "execution_count": 16,
   "metadata": {},
   "outputs": [
    {
     "data": {
      "text/plain": [
       "(28574, 3)"
      ]
     },
     "execution_count": 16,
     "metadata": {},
     "output_type": "execute_result"
    }
   ],
   "source": [
    "faces[faces[:,2] != 0].shape"
   ]
  },
  {
   "cell_type": "code",
   "execution_count": 42,
   "metadata": {},
   "outputs": [
    {
     "data": {
      "text/plain": [
       "(28576, 3)"
      ]
     },
     "execution_count": 42,
     "metadata": {},
     "output_type": "execute_result"
    }
   ],
   "source": [
    "faces.shape"
   ]
  },
  {
   "cell_type": "code",
   "execution_count": 49,
   "metadata": {},
   "outputs": [],
   "source": [
    "mappa = dict()\n",
    "adjs =  [[] for i in range(28576)]\n",
    "\n",
    "for idx, face in enumerate(faces):\n",
    "    \n",
    "    e1 = (face[1], face[0])\n",
    "    e2 = (face[2], face[1])\n",
    "    e3 = (face[0], face[2])\n",
    "    \n",
    "    try:\n",
    "        if mappa[e1]:\n",
    "            adjs[idx].append([mappa[e1]])\n",
    "    except KeyError:\n",
    "        mappa[(face[0], face[1])] = idx\n",
    "    try:\n",
    "        if mappa[e2]:\n",
    "             adjs[idx].append([mappa[e1]])\n",
    "    except KeyError:\n",
    "        mappa[(face[1], face[2])] = idx\n",
    "    try:\n",
    "        if mappa[e3]:\n",
    "             adjs[idx].append([mappa[e1]])\n",
    "    except KeyError:\n",
    "        mappa[(face[2], face[0])] = idx"
   ]
  },
  {
   "cell_type": "code",
   "execution_count": 50,
   "metadata": {},
   "outputs": [
    {
     "data": {
      "text/plain": [
       "[]"
      ]
     },
     "execution_count": 50,
     "metadata": {},
     "output_type": "execute_result"
    }
   ],
   "source": [
    "adjs[0]"
   ]
  },
  {
   "cell_type": "code",
   "execution_count": 28,
   "metadata": {},
   "outputs": [
    {
     "ename": "KeyboardInterrupt",
     "evalue": "",
     "output_type": "error",
     "traceback": [
      "\u001b[0;31m---------------------------------------------------------------------------\u001b[0m",
      "\u001b[0;31mKeyboardInterrupt\u001b[0m                         Traceback (most recent call last)",
      "\u001b[0;32m<ipython-input-28-86be84beea30>\u001b[0m in \u001b[0;36m<module>\u001b[0;34m\u001b[0m\n\u001b[0;32m----> 1\u001b[0;31m \u001b[0madjs\u001b[0m\u001b[0;34m.\u001b[0m\u001b[0mnonzero\u001b[0m\u001b[0;34m(\u001b[0m\u001b[0;34m)\u001b[0m\u001b[0;34m\u001b[0m\u001b[0;34m\u001b[0m\u001b[0m\n\u001b[0m",
      "\u001b[0;31mKeyboardInterrupt\u001b[0m: "
     ]
    }
   ],
   "source": [
    "adjs.spa"
   ]
  },
  {
   "cell_type": "code",
   "execution_count": null,
   "metadata": {},
   "outputs": [],
   "source": []
  }
 ],
 "metadata": {
  "kernelspec": {
   "display_name": "Python 3",
   "language": "python",
   "name": "python3"
  },
  "language_info": {
   "codemirror_mode": {
    "name": "ipython",
    "version": 3
   },
   "file_extension": ".py",
   "mimetype": "text/x-python",
   "name": "python",
   "nbconvert_exporter": "python",
   "pygments_lexer": "ipython3",
   "version": "3.7.4"
  }
 },
 "nbformat": 4,
 "nbformat_minor": 4
}
