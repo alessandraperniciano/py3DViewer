{
 "cells": [
  {
   "cell_type": "code",
   "execution_count": 6,
   "metadata": {},
   "outputs": [],
   "source": [
    "import numpy as np\n",
    "from AbstractMesh import AbstractMesh\n",
    "import utils\n",
    "from metrics import aspect_ratio\n",
    "from scipy.sparse import *"
   ]
  },
  {
   "cell_type": "code",
   "execution_count": 7,
   "metadata": {},
   "outputs": [],
   "source": [
    "class Trimesh(AbstractMesh):\n",
    "    \n",
    "    def __init__(self, vertices= None, faces = None, face_normals = None, labels = None):\n",
    "        \n",
    "        self.face_normals         = None #npArray (Nx3)\n",
    "        self.face_labels       = None #npArray (Nx1)\n",
    "        self.faces            = None #npArray (Nx3)\n",
    "        self.__face2face         = None #npArray (Nx3?)\n",
    "        \n",
    "        super(Trimesh, self).__init__()\n",
    "        \n",
    "        if vertices and faces:\n",
    "            \n",
    "            self.vertices = np.array(vertices) \n",
    "            self.faces = np.array(faces)\n",
    "            \n",
    "            if face_normals:\n",
    "                self.face_normals = np.array(face_normals)\n",
    "            \n",
    "            if labels:\n",
    "                self.labels = np.array(labels)\n",
    "            \n",
    "            self.__load_operations()\n",
    "         \n",
    "    \n",
    "    def show(self):\n",
    "        pass\n",
    "    \n",
    "    \n",
    "    @property\n",
    "    def num_faces(self):\n",
    "        \n",
    "        return self.faces.shape[0]\n",
    "\n",
    "#_______________________________Operations on Mesh Elements__________________________________________________________________________________\n",
    "\n",
    "    def add_face(self,face_id0, face_id1, face_id2):\n",
    "        \n",
    "        self.add_faces([face_id0, face_id1, face_id2])\n",
    "        \n",
    "        \n",
    "    def add_faces(self, new_faces):\n",
    "            \n",
    "        new_faces = np.array(new_faces)\n",
    "        self.faces = np.concatenate([self.faces, new_faces])\n",
    "        \n",
    "        if new_faces[(new_faces[:,0] > self.num_vertices) | \n",
    "                     (new_faces[:,1] > self.num_vertices) | \n",
    "                     (new_faces[:,2] > self.num_vertices)].shape[0] > self.num_vertices:\n",
    "            raise Exception('The Id of a vertex must be lesser than the number of vertices')\n",
    "\n",
    "        self.faces = np.concatenate([self.faces, new_faces])\n",
    "        self.__compute_adjacencies()\n",
    "        \n",
    "    \n",
    "    def remove_face(self,face_id):\n",
    "        \n",
    "        self.remove_faces([face_id])\n",
    "        \n",
    "        \n",
    "    def remove_faces(self, face_ids):\n",
    "        \n",
    "        face_ids = np.array(face_ids)\n",
    "        mask = np.ones(self.num_faces)\n",
    "        mask[face_ids] = 0\n",
    "        mask = mask.astype(np.bool)\n",
    "        \n",
    "        self.faces = self.faces[mask]\n",
    "        self.__compute_adjacencies()\n",
    "        \n",
    "    \n",
    "    def remove_vertex(self,vtx_id):\n",
    "        \n",
    "        self.remove_vertices([vtx_id])\n",
    "    \n",
    "    \n",
    "    def remove_vertices(self, vtx_ids):\n",
    "        \n",
    "        for vtx_id in vtx_ids:\n",
    "            \n",
    "            self.vertices = np.delete(self.vertices, vtx_id)\n",
    "            self.faces = self.faces[(self.faces[:,0] != vtx_id) & \n",
    "                                    (self.faces[:,1] != vtx_id) & \n",
    "                                    (self.faces[:,2] != vtx_id)]\n",
    "            \n",
    "            self.faces[(self.faces[:,0] > vtx_id)][0] -=1\n",
    "            self.faces[(self.faces[:,1] > vtx_id)][1] -=1\n",
    "            self.faces[(self.faces[:,2] > vtx_id)][2] -=1\n",
    "        \n",
    "        self.__compute_adjacencies()\n",
    "    \n",
    "#____________________________________________________________________________________________________________________________________________________\n",
    "    \n",
    "    def __compute_adjacencies(self):\n",
    "        \n",
    "        map_ = dict()\n",
    "        adjs =  [[] for i in range(self.num_faces)]\n",
    "        vtx2vtx = [[] for i in range(self.num_vertices)]\n",
    "        vtx2face = [[] for i in range(self.num_vertices)]\n",
    "\n",
    "\n",
    "        edges = np.c_[self.faces[:,0], self.faces[:,1], self.faces[:,1], self.faces[:,2], self.faces[:,2], self.faces[:,0]]\n",
    "        edges.shape = (-1, 2)\n",
    "        faces_idx = np.repeat(np.array(range(self.num_faces)), 3)\n",
    "        \n",
    "\n",
    "        for e, f in zip(edges, faces_idx):\n",
    "            \n",
    "            vtx2vtx[e[0]].append(e[1])\n",
    "            vtx2face[e[0]].append(f)\n",
    "            vtx2face[e[1]].append(f)\n",
    "            \n",
    "            e = (e[0], e[1])\n",
    "\n",
    "            try:\n",
    "                tmp = map_[e]\n",
    "            except KeyError:\n",
    "                tmp = None\n",
    "\n",
    "            if tmp is None:\n",
    "                map_[(e[1], e[0])] = f\n",
    "            else:\n",
    "                adjs[f].append(map_[e])\n",
    "                adjs[map_[e]].append(f)\n",
    "\n",
    "\n",
    "        self.__face2face =  np.array([np.array(a) for a in adjs])\n",
    "        self._AbstractMesh__vtx2vtx = np.array([np.array(a) for a in vtx2vtx])\n",
    "        self._AbstractMesh__vtx2face = np.array([np.array(a) for a in vtx2face])\n",
    "\n",
    "        \n",
    "    def __load_operations(self):\n",
    "        \n",
    "        self.__compute_adjacencies()\n",
    "        self._AbstractMesh__update_bounding_box()\n",
    "        #self.__compute_metrics()\n",
    "        \n",
    "    def load_from_file(self, filename):\n",
    "        \n",
    "        self.vertices, self.faces, self.face_normals = utils.read_obj(filename)\n",
    "        self.__load_operations()\n",
    "        \n",
    "    \n",
    "    def save_file(self, filename):\n",
    "        raise NotImplementedError\n",
    "        \n",
    "        \n",
    "    @property\n",
    "    def simplex_centroids(self):\n",
    "        \n",
    "        if self._AbstractMesh__simplex_centroids is None:\n",
    "            self._AbstractMesh__simplex_centroids = self.vertices[self.faces].mean(axis = 1)\n",
    "        \n",
    "        return self._AbstractMesh__simplex_centroids\n",
    "    \n",
    "    @property\n",
    "    def face2face(self):\n",
    "        return self.__face2face\n",
    "        \n",
    "        \n",
    "    \n",
    "    def __compute_metrics(self): \n",
    "        \n",
    "        self.simplex_metrics['aspect_ratio'] = aspect_ratio(self.vertices, self.faces)\n",
    "        "
   ]
  },
  {
   "cell_type": "code",
   "execution_count": 8,
   "metadata": {},
   "outputs": [],
   "source": [
    "vtx, faces, face_norm = utils.read_obj('bunny.obj')"
   ]
  },
  {
   "cell_type": "code",
   "execution_count": 9,
   "metadata": {},
   "outputs": [],
   "source": [
    "prova = Trimesh()"
   ]
  },
  {
   "cell_type": "code",
   "execution_count": 10,
   "metadata": {},
   "outputs": [],
   "source": [
    "prova.load_from_file('bunny.obj')"
   ]
  },
  {
   "cell_type": "code",
   "execution_count": 18,
   "metadata": {},
   "outputs": [
    {
     "data": {
      "text/plain": [
       "array([[-0.506331, -0.525789, -0.542219],\n",
       "       [ 0.807215,  0.789812,  0.794087],\n",
       "       [ 0.879265,  0.88894 ,  0.912445],\n",
       "       ...,\n",
       "       [-1.343542, -1.315627, -1.323964],\n",
       "       [-1.200004, -1.170876, -1.206171],\n",
       "       [-0.427111, -0.425198, -0.391353]])"
      ]
     },
     "execution_count": 18,
     "metadata": {},
     "output_type": "execute_result"
    }
   ],
   "source": [
    "vtx[faces][:, :, 0] - vtx[faces][:, :, 1]"
   ]
  },
  {
   "cell_type": "code",
   "execution_count": 20,
   "metadata": {},
   "outputs": [
    {
     "data": {
      "text/plain": [
       "array([ 6185, 15266, 16290])"
      ]
     },
     "execution_count": 20,
     "metadata": {},
     "output_type": "execute_result"
    }
   ],
   "source": [
    "prova.face2face[0]"
   ]
  },
  {
   "cell_type": "code",
   "execution_count": null,
   "metadata": {},
   "outputs": [],
   "source": []
  }
 ],
 "metadata": {
  "kernelspec": {
   "display_name": "Python 3",
   "language": "python",
   "name": "python3"
  },
  "language_info": {
   "codemirror_mode": {
    "name": "ipython",
    "version": 3
   },
   "file_extension": ".py",
   "mimetype": "text/x-python",
   "name": "python",
   "nbconvert_exporter": "python",
   "pygments_lexer": "ipython3",
   "version": "3.7.4"
  }
 },
 "nbformat": 4,
 "nbformat_minor": 4
}
