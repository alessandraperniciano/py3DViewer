{
 "cells": [
  {
   "cell_type": "code",
   "execution_count": 1,
   "metadata": {},
   "outputs": [],
   "source": [
    "import numpy as np\n",
    "from AbstractMesh import AbstractMesh\n",
    "import utils\n",
    "from metrics import aspect_ratio\n",
    "from scipy.sparse import *"
   ]
  },
  {
   "cell_type": "code",
   "execution_count": 24,
   "metadata": {},
   "outputs": [],
   "source": [
    "class Trimesh(AbstractMesh):\n",
    "    \n",
    "    def __init__(self, vertices= None, faces = None, face_normals = None, labels = None):\n",
    "        \n",
    "        self.face_normals         = None #npArray (Nx3)\n",
    "        self.face_labels       = None #npArray (Nx1)\n",
    "        self.faces            = None #npArray (Nx3)\n",
    "        self.face2face         = None #npArray (Nx3?)\n",
    "\n",
    "        if vertices and faces:\n",
    "            \n",
    "            self.vertices = np.array(vertices) \n",
    "            self.faces = np.array(faces)\n",
    "            \n",
    "            if face_normals:\n",
    "                self.face_normals = np.array(face_normals)\n",
    "            \n",
    "            if labels:\n",
    "                self.labels = np.array(labels)\n",
    "        \n",
    "        super(Trimesh, self).__init__()\n",
    "     \n",
    "    \n",
    "    def show(self):\n",
    "        pass\n",
    "    \n",
    "    \n",
    "    @property\n",
    "    def num_faces(self):\n",
    "        return self.faces.shape[0]\n",
    "    \n",
    "    def add_face(self,face_id0, face_id1, face_id2):\n",
    "        self.add_faces([face_id0, face_id1, face_id2])\n",
    "        \n",
    "    def add_faces(self, new_faces):\n",
    "            \n",
    "        n_vert = self.vertices.shape[0]\n",
    "        new_faces = np.array(new_faces)\n",
    "        self.faces = np.concatenate([self.faces, new_faces])\n",
    "        \n",
    "        if new_faces[(new_faces[:,0] > n_vert) | (new_faces[:,1] > n_vert) | (new_faces[:,2] > n_vert)].shape[0] > n_vert:\n",
    "            raise Exception('The Id of a vertex must be lesser than the number of vertices')\n",
    "\n",
    "        self.faces = np.concatenate([self.faces, new_faces])\n",
    "        self.__compute_adjacencies()\n",
    "    \n",
    "    def remove_face(self,face_id):\n",
    "        self.remove_faces([face_id])\n",
    "        \n",
    "    def remove_faces(self, face_ids):\n",
    "        \n",
    "        face_ids = np.array(face_ids)\n",
    "        mask = np.ones(self.num_faces)\n",
    "        mask[face_ids] = 0\n",
    "        mask = mask.astype(np.bool)\n",
    "        \n",
    "        self.faces = self.faces[mask]\n",
    "        self.__compute_adjacencies()\n",
    "        \n",
    "        \n",
    "        \n",
    "    \n",
    "    def remove_vertex(self,vtx_id):\n",
    "        \n",
    "        self.remove_vertices([vtx_id])\n",
    "    \n",
    "    def remove_vertices(self, vtx_ids):\n",
    "        \n",
    "        for vtx_id in vtx_ids:\n",
    "            \n",
    "            self.vertices = np.delete(self.vertices, vtx_id)\n",
    "            self.faces = self.faces[(self.faces[:,0] != vtx_id) & \n",
    "                                    (self.faces[:,1] != vtx_id) & \n",
    "                                    (self.faces[:,2] != vtx_id)]\n",
    "            self.faces[(self.faces[:,0] > vtx_id)][0] -=1\n",
    "            self.faces[(self.faces[:,1] > vtx_id)][1] -=1\n",
    "            self.faces[(self.faces[:,2] > vtx_id)][2] -=1\n",
    "        \n",
    "        self.__compute_adjacencies()\n",
    "    \n",
    "    def load_from_file(self, filename):\n",
    "        \n",
    "        self.vertices, self.faces, self.face_normals = utils.read_obj(filename)\n",
    "        self.__compute_adjacencies()\n",
    "    \n",
    "    def __compute_adjacencies(self):\n",
    "        map_ = dict()\n",
    "        adjs =  [[] for i in range(self.num_faces)]\n",
    "\n",
    "        edges = np.c_[self.faces[:,0], self.faces[:,1], self.faces[:,1], self.faces[:,2], self.faces[:,2], self.faces[:,0]]\n",
    "        edges.shape = (-1, 2)\n",
    "        faces_idx = np.repeat(np.array(range(self.num_faces)), 3)\n",
    "\n",
    "\n",
    "        for e, f in zip(edges, faces_idx):\n",
    "            e = (e[0], e[1])\n",
    "\n",
    "            try:\n",
    "                tmp = map_[e]\n",
    "            except KeyError:\n",
    "                tmp = None\n",
    "\n",
    "            if tmp is None:\n",
    "                map_[(e[1], e[0])] = f\n",
    "            else:\n",
    "                adjs[f].append(map_[e])\n",
    "                adjs[map_[e]].append(f)\n",
    "\n",
    "\n",
    "        self.face2face = np.array([a.append(-1) if len(a) < 3 else a for a in adjs])\n",
    "    \n",
    "    \n",
    "    def save_file(self, filename):\n",
    "        raise NotImplementedError\n",
    "        \n",
    "    @property\n",
    "    def simplex_centroids(self):\n",
    "        \n",
    "        if self._AbstractMesh__simplex_centroids is None:\n",
    "            self._AbstractMesh__simplex_centroids = self.vertices[self.faces].mean(axis = 1)\n",
    "        \n",
    "        return self._AbstractMesh__simplex_centroids\n",
    "        \n",
    "        \n",
    "    \n",
    "    def __compute_metrics(self): \n",
    "        \n",
    "        self.simplex_metrics['aspect_ratio'] = aspect_ratio(self.vertices, self.faces)\n",
    "        "
   ]
  },
  {
   "cell_type": "code",
   "execution_count": 25,
   "metadata": {},
   "outputs": [],
   "source": [
    "vtx, faces, face_norm = utils.read_obj('bunny.obj')"
   ]
  },
  {
   "cell_type": "code",
   "execution_count": 26,
   "metadata": {},
   "outputs": [],
   "source": [
    "prova = Trimesh()"
   ]
  },
  {
   "cell_type": "code",
   "execution_count": 27,
   "metadata": {},
   "outputs": [],
   "source": [
    "prova.load_from_file('dinopet.obj')"
   ]
  },
  {
   "cell_type": "code",
   "execution_count": 28,
   "metadata": {},
   "outputs": [
    {
     "data": {
      "text/plain": [
       "8996"
      ]
     },
     "execution_count": 28,
     "metadata": {},
     "output_type": "execute_result"
    }
   ],
   "source": [
    "prova.num_faces"
   ]
  },
  {
   "cell_type": "code",
   "execution_count": 191,
   "metadata": {},
   "outputs": [],
   "source": [
    "a = np.array([1,2,3,4,5])"
   ]
  },
  {
   "cell_type": "code",
   "execution_count": 192,
   "metadata": {},
   "outputs": [
    {
     "data": {
      "text/plain": [
       "array([1, 2, 4, 5])"
      ]
     },
     "execution_count": 192,
     "metadata": {},
     "output_type": "execute_result"
    }
   ],
   "source": [
    "np.delete(a, 2)"
   ]
  },
  {
   "cell_type": "code",
   "execution_count": 200,
   "metadata": {},
   "outputs": [
    {
     "data": {
      "text/plain": [
       "(28556, 3)"
      ]
     },
     "execution_count": 200,
     "metadata": {},
     "output_type": "execute_result"
    }
   ],
   "source": [
    "faces[(faces[:,0] > 100) | (faces[:,1] > 100) | (faces[:,2] > 100)].shape"
   ]
  },
  {
   "cell_type": "code",
   "execution_count": 3,
   "metadata": {},
   "outputs": [
    {
     "data": {
      "text/plain": [
       "array([[[-0.435735,  0.070596,  0.449676],\n",
       "        [-0.433542,  0.092247,  0.437848],\n",
       "        [-0.454051,  0.088168,  0.449676]],\n",
       "\n",
       "       [[-0.119029, -0.926244,  0.136599],\n",
       "        [-0.148147, -0.937959,  0.133037],\n",
       "        [-0.132589, -0.926676,  0.109416]],\n",
       "\n",
       "       [[-0.092791, -0.972056, -0.334755],\n",
       "        [-0.067982, -0.956922, -0.344027],\n",
       "        [-0.06631 , -0.978755, -0.320035]],\n",
       "\n",
       "       ...,\n",
       "\n",
       "       [[-0.692553,  0.650989, -0.565028],\n",
       "        [-0.688931,  0.626696, -0.575751],\n",
       "        [-0.694702,  0.629262, -0.550228]],\n",
       "\n",
       "       [[-0.734169,  0.465835,  0.569792],\n",
       "        [-0.705903,  0.464973,  0.567883],\n",
       "        [-0.722793,  0.483378,  0.551799]],\n",
       "\n",
       "       [[-0.700132, -0.273021,  0.553894],\n",
       "        [-0.719391, -0.294193,  0.54207 ],\n",
       "        [-0.697134, -0.305781,  0.551193]]])"
      ]
     },
     "execution_count": 3,
     "metadata": {},
     "output_type": "execute_result"
    }
   ],
   "source": [
    "vtx[faces]"
   ]
  },
  {
   "cell_type": "code",
   "execution_count": 12,
   "metadata": {},
   "outputs": [],
   "source": [
    "face_ids = np.array([0,1,2])\n",
    "mask = np.ones(faces.shape[0])\n",
    "mask[face_ids] = 0\n",
    "mask= mask.astype(np.bool)"
   ]
  },
  {
   "cell_type": "code",
   "execution_count": 13,
   "metadata": {},
   "outputs": [
    {
     "data": {
      "text/plain": [
       "array([[  144,   173,   145],\n",
       "       [ 5526,  1691, 11532],\n",
       "       [ 3148,  3046,  3147],\n",
       "       ...,\n",
       "       [ 9656,   976,  9626],\n",
       "       [ 7219,  2710,  2709],\n",
       "       [ 3209, 11163, 11748]])"
      ]
     },
     "execution_count": 13,
     "metadata": {},
     "output_type": "execute_result"
    }
   ],
   "source": [
    "faces[mask]"
   ]
  },
  {
   "cell_type": "code",
   "execution_count": 15,
   "metadata": {},
   "outputs": [
    {
     "data": {
      "text/plain": [
       "array([[ 6421,  6423, 13348],\n",
       "       [13043,   200, 11256],\n",
       "       [ 2903,  7731,  5401],\n",
       "       [  144,   173,   145],\n",
       "       [ 5526,  1691, 11532],\n",
       "       [ 3148,  3046,  3147],\n",
       "       [ 4113,  1347,  4111]])"
      ]
     },
     "execution_count": 15,
     "metadata": {},
     "output_type": "execute_result"
    }
   ],
   "source": [
    "faces[:7]"
   ]
  },
  {
   "cell_type": "code",
   "execution_count": null,
   "metadata": {},
   "outputs": [],
   "source": []
  }
 ],
 "metadata": {
  "kernelspec": {
   "display_name": "Python 3",
   "language": "python",
   "name": "python3"
  },
  "language_info": {
   "codemirror_mode": {
    "name": "ipython",
    "version": 3
   },
   "file_extension": ".py",
   "mimetype": "text/x-python",
   "name": "python",
   "nbconvert_exporter": "python",
   "pygments_lexer": "ipython3",
   "version": "3.7.4"
  }
 },
 "nbformat": 4,
 "nbformat_minor": 4
}
