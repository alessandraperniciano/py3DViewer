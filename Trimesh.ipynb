{
 "cells": [
  {
   "cell_type": "code",
   "execution_count": 1,
   "metadata": {},
   "outputs": [],
   "source": [
    "import numpy as np\n",
    "from AbstractMesh import AbstractMesh\n",
    "import utils\n",
    "from metrics import aspect_ratio\n",
    "from scipy.sparse import *"
   ]
  },
  {
   "cell_type": "code",
   "execution_count": 12,
   "metadata": {},
   "outputs": [],
   "source": [
    "class Trimesh(AbstractMesh):\n",
    "    \n",
    "    def __init__(self, vertices= None, faces = None, face_normals = None, labels = None):\n",
    "        \n",
    "        self.face_normals         = None #npArray (Nx3)\n",
    "        self.face_labels       = None #npArray (Nx1)\n",
    "        self.faces            = None #npArray (Nx3)\n",
    "        self.face2face         = None #npArray (Nx3?)\n",
    "        \n",
    "        super(Trimesh, self).__init__()\n",
    "        \n",
    "        if vertices and faces:\n",
    "            \n",
    "            self.vertices = np.array(vertices) \n",
    "            self.faces = np.array(faces)\n",
    "            \n",
    "            if face_normals:\n",
    "                self.face_normals = np.array(face_normals)\n",
    "            \n",
    "            if labels:\n",
    "                self.labels = np.array(labels)\n",
    "            \n",
    "            self.__load_operations()\n",
    "         \n",
    "    \n",
    "    def show(self):\n",
    "        pass\n",
    "    \n",
    "    \n",
    "    @property\n",
    "    def num_faces(self):\n",
    "        \n",
    "        return self.faces.shape[0]\n",
    "\n",
    "#_______________________________Operations on Mesh Elements__________________________________________________________________________________\n",
    "\n",
    "    def add_face(self,face_id0, face_id1, face_id2):\n",
    "        \n",
    "        self.add_faces([face_id0, face_id1, face_id2])\n",
    "        \n",
    "        \n",
    "    def add_faces(self, new_faces):\n",
    "            \n",
    "        new_faces = np.array(new_faces)\n",
    "        self.faces = np.concatenate([self.faces, new_faces])\n",
    "        \n",
    "        if new_faces[(new_faces[:,0] > self.num_vertices) | \n",
    "                     (new_faces[:,1] > self.num_vertices) | \n",
    "                     (new_faces[:,2] > self.num_vertices)].shape[0] > self.num_vertices:\n",
    "            raise Exception('The Id of a vertex must be lesser than the number of vertices')\n",
    "\n",
    "        self.faces = np.concatenate([self.faces, new_faces])\n",
    "        self.__compute_adjacencies()\n",
    "        \n",
    "    \n",
    "    def remove_face(self,face_id):\n",
    "        \n",
    "        self.remove_faces([face_id])\n",
    "        \n",
    "        \n",
    "    def remove_faces(self, face_ids):\n",
    "        \n",
    "        face_ids = np.array(face_ids)\n",
    "        mask = np.ones(self.num_faces)\n",
    "        mask[face_ids] = 0\n",
    "        mask = mask.astype(np.bool)\n",
    "        \n",
    "        self.faces = self.faces[mask]\n",
    "        self.__compute_adjacencies()\n",
    "        \n",
    "    \n",
    "    def remove_vertex(self,vtx_id):\n",
    "        \n",
    "        self.remove_vertices([vtx_id])\n",
    "    \n",
    "    \n",
    "    def remove_vertices(self, vtx_ids):\n",
    "        \n",
    "        for vtx_id in vtx_ids:\n",
    "            \n",
    "            self.vertices = np.delete(self.vertices, vtx_id)\n",
    "            self.faces = self.faces[(self.faces[:,0] != vtx_id) & \n",
    "                                    (self.faces[:,1] != vtx_id) & \n",
    "                                    (self.faces[:,2] != vtx_id)]\n",
    "            \n",
    "            self.faces[(self.faces[:,0] > vtx_id)][0] -=1\n",
    "            self.faces[(self.faces[:,1] > vtx_id)][1] -=1\n",
    "            self.faces[(self.faces[:,2] > vtx_id)][2] -=1\n",
    "        \n",
    "        self.__compute_adjacencies()\n",
    "    \n",
    "#____________________________________________________________________________________________________________________________________________________\n",
    "    \n",
    "    def __compute_adjacencies(self):\n",
    "        map_ = dict()\n",
    "        adjs =  [[] for i in range(self.num_faces)]\n",
    "\n",
    "        edges = np.c_[self.faces[:,0], self.faces[:,1], self.faces[:,1], self.faces[:,2], self.faces[:,2], self.faces[:,0]]\n",
    "        edges.shape = (-1, 2)\n",
    "        faces_idx = np.repeat(np.array(range(self.num_faces)), 3)\n",
    "\n",
    "\n",
    "        for e, f in zip(edges, faces_idx):\n",
    "            e = (e[0], e[1])\n",
    "\n",
    "            try:\n",
    "                tmp = map_[e]\n",
    "            except KeyError:\n",
    "                tmp = None\n",
    "\n",
    "            if tmp is None:\n",
    "                map_[(e[1], e[0])] = f\n",
    "            else:\n",
    "                adjs[f].append(map_[e])\n",
    "                adjs[map_[e]].append(f)\n",
    "\n",
    "\n",
    "        self.face2face = np.array([a.append(-1) if len(a) < 3 else a for a in adjs])\n",
    "\n",
    "        \n",
    "    def __load_operations(self):\n",
    "        \n",
    "        self.__compute_adjacencies()\n",
    "        #self._AbstractMesh__compute_vtx2vtx()\n",
    "        self._AbstractMesh__update_bounding_box()\n",
    "        #self.__compute_metrics()\n",
    "        \n",
    "    def load_from_file(self, filename):\n",
    "        \n",
    "        self.vertices, self.faces, self.face_normals = utils.read_obj(filename)\n",
    "        self.__load_operations()\n",
    "        \n",
    "    \n",
    "    def save_file(self, filename):\n",
    "        raise NotImplementedError\n",
    "        \n",
    "        \n",
    "    @property\n",
    "    def simplex_centroids(self):\n",
    "        \n",
    "        if self._AbstractMesh__simplex_centroids is None:\n",
    "            self._AbstractMesh__simplex_centroids = self.vertices[self.faces].mean(axis = 1)\n",
    "        \n",
    "        return self._AbstractMesh__simplex_centroids\n",
    "        \n",
    "        \n",
    "    \n",
    "    def __compute_metrics(self): \n",
    "        \n",
    "        self.simplex_metrics['aspect_ratio'] = aspect_ratio(self.vertices, self.faces)\n",
    "        "
   ]
  },
  {
   "cell_type": "code",
   "execution_count": 9,
   "metadata": {},
   "outputs": [],
   "source": [
    "vtx, faces, face_norm = utils.read_obj('bunny.obj')"
   ]
  },
  {
   "cell_type": "code",
   "execution_count": 13,
   "metadata": {},
   "outputs": [],
   "source": [
    "prova = Trimesh()"
   ]
  },
  {
   "cell_type": "code",
   "execution_count": 17,
   "metadata": {},
   "outputs": [
    {
     "data": {
      "text/plain": [
       "array([[ 6421,  6423, 13348],\n",
       "       [13043,   200, 11256],\n",
       "       [ 2903,  7731,  5401],\n",
       "       ...,\n",
       "       [ 9656,   976,  9626],\n",
       "       [ 7219,  2710,  2709],\n",
       "       [ 3209, 11163, 11748]])"
      ]
     },
     "execution_count": 17,
     "metadata": {},
     "output_type": "execute_result"
    }
   ],
   "source": [
    "prova.load_from_file('bunny.obj')\n",
    "prova.faces"
   ]
  },
  {
   "cell_type": "code",
   "execution_count": 15,
   "metadata": {},
   "outputs": [
    {
     "ename": "TypeError",
     "evalue": "'NoneType' object is not subscriptable",
     "output_type": "error",
     "traceback": [
      "\u001b[0;31m---------------------------------------------------------------------------\u001b[0m",
      "\u001b[0;31mTypeError\u001b[0m                                 Traceback (most recent call last)",
      "\u001b[0;32m<ipython-input-15-50fbc921c7a0>\u001b[0m in \u001b[0;36m<module>\u001b[0;34m\u001b[0m\n\u001b[0;32m----> 1\u001b[0;31m \u001b[0mprova\u001b[0m\u001b[0;34m.\u001b[0m\u001b[0mget_metric\u001b[0m\u001b[0;34m(\u001b[0m\u001b[0;34m'aspect_ratio'\u001b[0m\u001b[0;34m,\u001b[0m \u001b[0;36m5\u001b[0m\u001b[0;34m)\u001b[0m\u001b[0;34m\u001b[0m\u001b[0;34m\u001b[0m\u001b[0m\n\u001b[0m",
      "\u001b[0;32m~/UnicaProject/py3DViewer/AbstractMesh.py\u001b[0m in \u001b[0;36mget_metric\u001b[0;34m(self, propertyName, idElement)\u001b[0m\n\u001b[1;32m     61\u001b[0m     \u001b[0;32mdef\u001b[0m \u001b[0mget_metric\u001b[0m\u001b[0;34m(\u001b[0m\u001b[0mself\u001b[0m\u001b[0;34m,\u001b[0m \u001b[0mpropertyName\u001b[0m\u001b[0;34m,\u001b[0m \u001b[0midElement\u001b[0m\u001b[0;34m)\u001b[0m\u001b[0;34m:\u001b[0m\u001b[0;34m\u001b[0m\u001b[0;34m\u001b[0m\u001b[0m\n\u001b[1;32m     62\u001b[0m \u001b[0;34m\u001b[0m\u001b[0m\n\u001b[0;32m---> 63\u001b[0;31m         \u001b[0;32mreturn\u001b[0m \u001b[0mself\u001b[0m\u001b[0;34m.\u001b[0m\u001b[0msimplex_metrics\u001b[0m\u001b[0;34m[\u001b[0m\u001b[0mpropertyName\u001b[0m\u001b[0;34m]\u001b[0m\u001b[0;34m[\u001b[0m\u001b[0midElement\u001b[0m\u001b[0;34m]\u001b[0m\u001b[0;34m\u001b[0m\u001b[0;34m\u001b[0m\u001b[0m\n\u001b[0m\u001b[1;32m     64\u001b[0m \u001b[0;34m\u001b[0m\u001b[0m\n\u001b[1;32m     65\u001b[0m     \u001b[0;34m@\u001b[0m\u001b[0mproperty\u001b[0m\u001b[0;34m\u001b[0m\u001b[0;34m\u001b[0m\u001b[0m\n",
      "\u001b[0;31mTypeError\u001b[0m: 'NoneType' object is not subscriptable"
     ]
    }
   ],
   "source": [
    "prova.get_metric('aspect_ratio', 5)"
   ]
  },
  {
   "cell_type": "code",
   "execution_count": 60,
   "metadata": {},
   "outputs": [
    {
     "data": {
      "text/plain": [
       "8996"
      ]
     },
     "execution_count": 60,
     "metadata": {},
     "output_type": "execute_result"
    }
   ],
   "source": [
    "prova.num_faces"
   ]
  },
  {
   "cell_type": "code",
   "execution_count": 200,
   "metadata": {},
   "outputs": [
    {
     "data": {
      "text/plain": [
       "(28556, 3)"
      ]
     },
     "execution_count": 200,
     "metadata": {},
     "output_type": "execute_result"
    }
   ],
   "source": [
    "faces[(faces[:,0] > 100) | (faces[:,1] > 100) | (faces[:,2] > 100)].shape"
   ]
  },
  {
   "cell_type": "code",
   "execution_count": 66,
   "metadata": {},
   "outputs": [
    {
     "ename": "AttributeError",
     "evalue": "module 'numpy' has no attribute 'norm'",
     "output_type": "error",
     "traceback": [
      "\u001b[0;31m---------------------------------------------------------------------------\u001b[0m",
      "\u001b[0;31mAttributeError\u001b[0m                            Traceback (most recent call last)",
      "\u001b[0;32m<ipython-input-66-c151324c2ef4>\u001b[0m in \u001b[0;36m<module>\u001b[0;34m\u001b[0m\n\u001b[0;32m----> 1\u001b[0;31m \u001b[0mnp\u001b[0m\u001b[0;34m.\u001b[0m\u001b[0mnorm\u001b[0m\u001b[0;34m(\u001b[0m\u001b[0mvtx\u001b[0m\u001b[0;34m[\u001b[0m\u001b[0mfaces\u001b[0m\u001b[0;34m]\u001b[0m\u001b[0;34m[\u001b[0m\u001b[0;34m:\u001b[0m\u001b[0;34m,\u001b[0m \u001b[0;34m:\u001b[0m\u001b[0;34m,\u001b[0m \u001b[0;36m0\u001b[0m\u001b[0;34m]\u001b[0m \u001b[0;34m-\u001b[0m \u001b[0mvtx\u001b[0m\u001b[0;34m[\u001b[0m\u001b[0mfaces\u001b[0m\u001b[0;34m]\u001b[0m\u001b[0;34m[\u001b[0m\u001b[0;34m:\u001b[0m\u001b[0;34m,\u001b[0m \u001b[0;34m:\u001b[0m\u001b[0;34m,\u001b[0m \u001b[0;36m1\u001b[0m\u001b[0;34m]\u001b[0m\u001b[0;34m)\u001b[0m\u001b[0;34m\u001b[0m\u001b[0;34m\u001b[0m\u001b[0m\n\u001b[0m",
      "\u001b[0;31mAttributeError\u001b[0m: module 'numpy' has no attribute 'norm'"
     ]
    }
   ],
   "source": [
    "vtx[faces][:, :, 0] - vtx[faces][:, :, 1]"
   ]
  },
  {
   "cell_type": "code",
   "execution_count": null,
   "metadata": {},
   "outputs": [],
   "source": []
  }
 ],
 "metadata": {
  "kernelspec": {
   "display_name": "Python 3",
   "language": "python",
   "name": "python3"
  },
  "language_info": {
   "codemirror_mode": {
    "name": "ipython",
    "version": 3
   },
   "file_extension": ".py",
   "mimetype": "text/x-python",
   "name": "python",
   "nbconvert_exporter": "python",
   "pygments_lexer": "ipython3",
   "version": "3.7.4"
  }
 },
 "nbformat": 4,
 "nbformat_minor": 4
}
