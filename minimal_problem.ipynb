{
 "cells": [
  {
   "cell_type": "code",
   "execution_count": 1,
   "metadata": {},
   "outputs": [],
   "source": [
    "from pythreejs import *\n",
    "from Py3DViewer import Trimesh, Quadmesh, Tetmesh, Hexmesh\n",
    "from Py3DViewer import Viewer\n",
    "import numpy as np"
   ]
  },
  {
   "cell_type": "code",
   "execution_count": 20,
   "metadata": {},
   "outputs": [],
   "source": [
    "mesh = Hexmesh('data/bumpy_hex.mesh')"
   ]
  },
  {
   "cell_type": "code",
   "execution_count": 8,
   "metadata": {},
   "outputs": [
    {
     "ename": "NameError",
     "evalue": "name 'mesh' is not defined",
     "output_type": "error",
     "traceback": [
      "\u001b[0;31m---------------------------------------------------------------------------\u001b[0m",
      "\u001b[0;31mNameError\u001b[0m                                 Traceback (most recent call last)",
      "\u001b[0;32m<ipython-input-8-a1b8dc5cb354>\u001b[0m in \u001b[0;36m<module>\u001b[0;34m\u001b[0m\n\u001b[0;32m----> 1\u001b[0;31m \u001b[0mcamera_target\u001b[0m \u001b[0;34m=\u001b[0m \u001b[0mmesh\u001b[0m\u001b[0;34m.\u001b[0m\u001b[0mcenter\u001b[0m\u001b[0;34m\u001b[0m\u001b[0;34m\u001b[0m\u001b[0m\n\u001b[0m\u001b[1;32m      2\u001b[0m \u001b[0mcamera_position\u001b[0m \u001b[0;34m=\u001b[0m \u001b[0mtuple\u001b[0m\u001b[0;34m(\u001b[0m\u001b[0mcamera_target\u001b[0m \u001b[0;34m+\u001b[0m \u001b[0;34m[\u001b[0m\u001b[0;36m0\u001b[0m\u001b[0;34m,\u001b[0m \u001b[0;36m0\u001b[0m\u001b[0;34m,\u001b[0m \u001b[0;36m1\u001b[0m\u001b[0;34m]\u001b[0m\u001b[0;34m)\u001b[0m\u001b[0;34m\u001b[0m\u001b[0;34m\u001b[0m\u001b[0m\n\u001b[1;32m      3\u001b[0m \u001b[0mdirectional_light\u001b[0m \u001b[0;34m=\u001b[0m \u001b[0mDirectionalLight\u001b[0m\u001b[0;34m(\u001b[0m\u001b[0mcolor\u001b[0m \u001b[0;34m=\u001b[0m \u001b[0;34m'#ffffff'\u001b[0m\u001b[0;34m,\u001b[0m \u001b[0mposition\u001b[0m \u001b[0;34m=\u001b[0m \u001b[0;34m[\u001b[0m\u001b[0;36m0\u001b[0m\u001b[0;34m,\u001b[0m \u001b[0;36m10\u001b[0m\u001b[0;34m,\u001b[0m \u001b[0;36m0\u001b[0m\u001b[0;34m]\u001b[0m\u001b[0;34m,\u001b[0m \u001b[0mintensity\u001b[0m \u001b[0;34m=\u001b[0m \u001b[0;36m1\u001b[0m\u001b[0;34m)\u001b[0m\u001b[0;34m\u001b[0m\u001b[0;34m\u001b[0m\u001b[0m\n\u001b[1;32m      4\u001b[0m camera = PerspectiveCamera(\n\u001b[1;32m      5\u001b[0m     \u001b[0mposition\u001b[0m\u001b[0;34m=\u001b[0m\u001b[0mcamera_position\u001b[0m\u001b[0;34m,\u001b[0m \u001b[0maspect\u001b[0m\u001b[0;34m=\u001b[0m\u001b[0;36m1000\u001b[0m\u001b[0;34m/\u001b[0m\u001b[0;36m700\u001b[0m\u001b[0;34m,\u001b[0m \u001b[0mlookAt\u001b[0m\u001b[0;34m=\u001b[0m\u001b[0mcamera_target\u001b[0m\u001b[0;34m,\u001b[0m \u001b[0mfov\u001b[0m\u001b[0;34m=\u001b[0m\u001b[0;36m50\u001b[0m\u001b[0;34m,\u001b[0m \u001b[0mnear\u001b[0m\u001b[0;34m=\u001b[0m\u001b[0;36m.1\u001b[0m\u001b[0;34m,\u001b[0m \u001b[0mfar\u001b[0m\u001b[0;34m=\u001b[0m\u001b[0;36m10000\u001b[0m\u001b[0;34m,\u001b[0m\u001b[0;34m\u001b[0m\u001b[0;34m\u001b[0m\u001b[0m\n",
      "\u001b[0;31mNameError\u001b[0m: name 'mesh' is not defined"
     ]
    }
   ],
   "source": [
    "camera_target = mesh.center\n",
    "camera_position = tuple(camera_target + [0, 0, 1])\n",
    "directional_light = DirectionalLight(color = '#ffffff', position = [0, 10, 0], intensity = 1)\n",
    "camera = PerspectiveCamera(\n",
    "    position=camera_position, aspect=1000/700, lookAt=camera_target, fov=50, near=.1, far=10000,\n",
    "    children=[directional_light]\n",
    ")\n",
    "drawable_mesh = Mesh(geometry = BufferGeometry(attributes={'position': BufferAttribute(mesh._as_threejs_triangle_soup()[0], normalized=False)}), \n",
    "                     material=MeshBasicMaterial(color='gray'))\n",
    "wireframe = LineSegments(geometry = BufferGeometry(attributes={'position': BufferAttribute(mesh.as_edges_flat(), normalized=False)}),\n",
    "                         material = LineBasicMaterial(color='#686868', \n",
    "                                                        linewidth = 1, \n",
    "                                                        depthTest=True, \n",
    "                                                        opacity=1,\n",
    "                                                        transparent=True))\n",
    "scene = Scene(children=[AmbientLight(color='white', intensity=1),\n",
    "                                      camera,\n",
    "                                      drawable_mesh,\n",
    "                                      wireframe])\n",
    "controls = OrbitControls(controlling=camera)\n",
    "controls.target = tuple(mesh.center) \n",
    "renderer = Renderer(camera = camera, background_opacity=1,\n",
    "                        scene = scene, controls=[controls], width=1000, height=700,\n",
    "                        antialias=True)\n",
    "\n",
    "renderer"
   ]
  },
  {
   "cell_type": "code",
   "execution_count": 11,
   "metadata": {
    "scrolled": false
   },
   "outputs": [
    {
     "ename": "KeyboardInterrupt",
     "evalue": "",
     "output_type": "error",
     "traceback": [
      "\u001b[0;31m---------------------------------------------------------------------------\u001b[0m",
      "\u001b[0;31mKeyboardInterrupt\u001b[0m                         Traceback (most recent call last)",
      "\u001b[0;32m<ipython-input-11-ae32e56bacd8>\u001b[0m in \u001b[0;36m<module>\u001b[0;34m\u001b[0m\n\u001b[1;32m      7\u001b[0m     \u001b[0mdrawable_mesh\u001b[0m\u001b[0;34m.\u001b[0m\u001b[0mgeometry\u001b[0m\u001b[0;34m.\u001b[0m\u001b[0mattributes\u001b[0m\u001b[0;34m[\u001b[0m\u001b[0;34m'position'\u001b[0m\u001b[0;34m]\u001b[0m\u001b[0;34m.\u001b[0m\u001b[0marray\u001b[0m \u001b[0;34m=\u001b[0m \u001b[0mmesh\u001b[0m\u001b[0;34m.\u001b[0m\u001b[0m_as_threejs_triangle_soup\u001b[0m\u001b[0;34m(\u001b[0m\u001b[0;34m)\u001b[0m\u001b[0;34m[\u001b[0m\u001b[0;36m0\u001b[0m\u001b[0;34m]\u001b[0m\u001b[0;34m\u001b[0m\u001b[0;34m\u001b[0m\u001b[0m\n\u001b[1;32m      8\u001b[0m     \u001b[0mwireframe\u001b[0m\u001b[0;34m.\u001b[0m\u001b[0mgeometry\u001b[0m\u001b[0;34m.\u001b[0m\u001b[0mattributes\u001b[0m\u001b[0;34m[\u001b[0m\u001b[0;34m'position'\u001b[0m\u001b[0;34m]\u001b[0m\u001b[0;34m.\u001b[0m\u001b[0marray\u001b[0m \u001b[0;34m=\u001b[0m \u001b[0mmesh\u001b[0m\u001b[0;34m.\u001b[0m\u001b[0mas_edges_flat\u001b[0m\u001b[0;34m(\u001b[0m\u001b[0;34m)\u001b[0m\u001b[0;34m\u001b[0m\u001b[0;34m\u001b[0m\u001b[0m\n\u001b[0;32m----> 9\u001b[0;31m     \u001b[0msleep\u001b[0m\u001b[0;34m(\u001b[0m\u001b[0;36m1\u001b[0m\u001b[0;34m/\u001b[0m\u001b[0;36m10\u001b[0m\u001b[0;34m)\u001b[0m\u001b[0;34m\u001b[0m\u001b[0;34m\u001b[0m\u001b[0m\n\u001b[0m\u001b[1;32m     10\u001b[0m \u001b[0;34m\u001b[0m\u001b[0m\n",
      "\u001b[0;31mKeyboardInterrupt\u001b[0m: "
     ]
    }
   ],
   "source": [
    "from time import sleep\n",
    "n = 100\n",
    "for i in range(n):\n",
    "    min_z=i*5/n\n",
    "    mesh.set_clipping(min_z=min_z)\n",
    "    mesh.set_clipping(max_z=min_z+.1)\n",
    "    drawable_mesh.geometry.attributes['position'].array = mesh._as_threejs_triangle_soup()[0]\n",
    "    wireframe.geometry.attributes['position'].array = mesh.as_edges_flat()\n",
    "    sleep(1/10)\n",
    "        "
   ]
  },
  {
   "cell_type": "code",
   "execution_count": 16,
   "metadata": {},
   "outputs": [],
   "source": [
    "import pythreejs"
   ]
  },
  {
   "cell_type": "code",
   "execution_count": 1,
   "metadata": {},
   "outputs": [
    {
     "data": {
      "text/plain": [
       "BufferAttribute(array=array([0, 1, 2, 1, 3, 2], dtype=uint32), normalized=True)"
      ]
     },
     "metadata": {},
     "output_type": "display_data"
    }
   ],
   "source": [
    "from pythreejs import *\n",
    "import numpy as np\n",
    "\n",
    "vertices = np.array([\n",
    "    [0, 0, 0],\n",
    "    [1, 0, 0],\n",
    "    [0, 1 ,0],\n",
    "    [1, 1, 0],\n",
    "], dtype=np.float32)\n",
    "\n",
    "index = np.array([0, 1, 2, 1, 3, 2], dtype=np.uint32)\n",
    "\n",
    "index = BufferAttribute(index)\n",
    "vertices = BufferAttribute(vertices)\n",
    "\n",
    "geom = BufferGeometry(attributes={'index': index, 'position': vertices})\n",
    "\n",
    "geom.exec_three_obj_method('setDrawRange', 0, 3)\n",
    "\n",
    "geom.attributes['index']\n"
   ]
  },
  {
   "cell_type": "code",
   "execution_count": 2,
   "metadata": {},
   "outputs": [
    {
     "data": {
      "text/plain": [
       "{'index': BufferAttribute(array=array([0, 1, 2, 1, 3, 2], dtype=uint32), normalized=True, version=1),\n",
       " 'position': BufferAttribute(array=array([[0., 0., 0.],\n",
       "        [1., 0., 0.],\n",
       "        [0., 1., 0.],\n",
       "        [1., 1., 0.]], dtype=float32), normalized=True)}"
      ]
     },
     "execution_count": 2,
     "metadata": {},
     "output_type": "execute_result"
    }
   ],
   "source": [
    "geom.attributes"
   ]
  },
  {
   "cell_type": "code",
   "execution_count": null,
   "metadata": {},
   "outputs": [],
   "source": []
  }
 ],
 "metadata": {
  "kernelspec": {
   "display_name": "Python 3",
   "language": "python",
   "name": "python3"
  },
  "language_info": {
   "codemirror_mode": {
    "name": "ipython",
    "version": 3
   },
   "file_extension": ".py",
   "mimetype": "text/x-python",
   "name": "python",
   "nbconvert_exporter": "python",
   "pygments_lexer": "ipython3",
   "version": "3.7.4"
  }
 },
 "nbformat": 4,
 "nbformat_minor": 4
}
