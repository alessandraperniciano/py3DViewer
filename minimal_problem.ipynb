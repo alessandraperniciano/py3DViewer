{
 "cells": [
  {
   "cell_type": "code",
   "execution_count": 1,
   "metadata": {},
   "outputs": [],
   "source": [
    "from pythreejs import *\n",
    "from Py3DViewer import Trimesh, Quadmesh, Tetmesh, Hexmesh\n",
    "from Py3DViewer import Viewer\n",
    "import numpy as np"
   ]
  },
  {
   "cell_type": "code",
   "execution_count": 2,
   "metadata": {},
   "outputs": [],
   "source": [
    "mesh = Hexmesh('data/bumpy_hex.mesh')"
   ]
  },
  {
   "cell_type": "code",
   "execution_count": 3,
   "metadata": {},
   "outputs": [
    {
     "name": "stderr",
     "output_type": "stream",
     "text": [
      "/usr/local/lib/python3.7/site-packages/traittypes/traittypes.py:101: UserWarning: Given trait value dtype \"float32\" does not match required type \"float64\". A coerced copy has been created.\n",
      "  np.dtype(self.dtype).name))\n"
     ]
    },
    {
     "data": {
      "application/vnd.jupyter.widget-view+json": {
       "model_id": "817c432c35254baca9c33f43b04f579a",
       "version_major": 2,
       "version_minor": 0
      },
      "text/plain": [
       "Renderer(camera=PerspectiveCamera(aspect=1.4285714285714286, children=(DirectionalLight(position=(0.0, 10.0, 0…"
      ]
     },
     "metadata": {},
     "output_type": "display_data"
    }
   ],
   "source": [
    "camera_target = mesh.center\n",
    "camera_position = tuple(camera_target + [0, 0, 1])\n",
    "directional_light = DirectionalLight(color = '#ffffff', position = [0, 10, 0], intensity = 1)\n",
    "camera = PerspectiveCamera(\n",
    "    position=camera_position, aspect=1000/700, lookAt=camera_target, fov=50, near=.1, far=10000,\n",
    "    children=[directional_light]\n",
    ")\n",
    "drawable_mesh = Mesh(geometry = BufferGeometry(attributes={'position': BufferAttribute(mesh._as_threejs_triangle_soup()[0], normalized=False)}), \n",
    "                     material=MeshBasicMaterial(color='gray'))\n",
    "wireframe = LineSegments(geometry = BufferGeometry(attributes={'position': BufferAttribute(mesh.as_edges_flat(), normalized=False)}),\n",
    "                         material = LineBasicMaterial(color='#686868', \n",
    "                                                        linewidth = 1, \n",
    "                                                        depthTest=True, \n",
    "                                                        opacity=1,\n",
    "                                                        transparent=True))\n",
    "scene = Scene(children=[AmbientLight(color='white', intensity=1),\n",
    "                                      camera,\n",
    "                                      drawable_mesh,\n",
    "                                      wireframe])\n",
    "controls = OrbitControls(controlling=camera)\n",
    "controls.target = tuple(mesh.center) \n",
    "renderer = Renderer(camera = camera, background_opacity=1,\n",
    "                        scene = scene, controls=[controls], width=1000, height=700,\n",
    "                        antialias=True)\n",
    "\n",
    "renderer"
   ]
  },
  {
   "cell_type": "code",
   "execution_count": 10,
   "metadata": {},
   "outputs": [
    {
     "ename": "KeyboardInterrupt",
     "evalue": "",
     "output_type": "error",
     "traceback": [
      "\u001b[0;31m---------------------------------------------------------------------------\u001b[0m",
      "\u001b[0;31mKeyboardInterrupt\u001b[0m                         Traceback (most recent call last)",
      "\u001b[0;32m<ipython-input-10-ae32e56bacd8>\u001b[0m in \u001b[0;36m<module>\u001b[0;34m\u001b[0m\n\u001b[1;32m      7\u001b[0m     \u001b[0mdrawable_mesh\u001b[0m\u001b[0;34m.\u001b[0m\u001b[0mgeometry\u001b[0m\u001b[0;34m.\u001b[0m\u001b[0mattributes\u001b[0m\u001b[0;34m[\u001b[0m\u001b[0;34m'position'\u001b[0m\u001b[0;34m]\u001b[0m\u001b[0;34m.\u001b[0m\u001b[0marray\u001b[0m \u001b[0;34m=\u001b[0m \u001b[0mmesh\u001b[0m\u001b[0;34m.\u001b[0m\u001b[0m_as_threejs_triangle_soup\u001b[0m\u001b[0;34m(\u001b[0m\u001b[0;34m)\u001b[0m\u001b[0;34m[\u001b[0m\u001b[0;36m0\u001b[0m\u001b[0;34m]\u001b[0m\u001b[0;34m\u001b[0m\u001b[0;34m\u001b[0m\u001b[0m\n\u001b[1;32m      8\u001b[0m     \u001b[0mwireframe\u001b[0m\u001b[0;34m.\u001b[0m\u001b[0mgeometry\u001b[0m\u001b[0;34m.\u001b[0m\u001b[0mattributes\u001b[0m\u001b[0;34m[\u001b[0m\u001b[0;34m'position'\u001b[0m\u001b[0;34m]\u001b[0m\u001b[0;34m.\u001b[0m\u001b[0marray\u001b[0m \u001b[0;34m=\u001b[0m \u001b[0mmesh\u001b[0m\u001b[0;34m.\u001b[0m\u001b[0mas_edges_flat\u001b[0m\u001b[0;34m(\u001b[0m\u001b[0;34m)\u001b[0m\u001b[0;34m\u001b[0m\u001b[0;34m\u001b[0m\u001b[0m\n\u001b[0;32m----> 9\u001b[0;31m     \u001b[0msleep\u001b[0m\u001b[0;34m(\u001b[0m\u001b[0;36m1\u001b[0m\u001b[0;34m/\u001b[0m\u001b[0;36m10\u001b[0m\u001b[0;34m)\u001b[0m\u001b[0;34m\u001b[0m\u001b[0;34m\u001b[0m\u001b[0m\n\u001b[0m\u001b[1;32m     10\u001b[0m \u001b[0;34m\u001b[0m\u001b[0m\n",
      "\u001b[0;31mKeyboardInterrupt\u001b[0m: "
     ]
    }
   ],
   "source": [
    "from time import sleep\n",
    "n = 100\n",
    "for i in range(n):\n",
    "    min_z=i*5/n\n",
    "    mesh.set_clipping(min_z=min_z)\n",
    "    mesh.set_clipping(max_z=min_z+.1)\n",
    "    drawable_mesh.geometry.attributes['position'].array = mesh._as_threejs_triangle_soup()[0]\n",
    "    wireframe.geometry.attributes['position'].array = mesh.as_edges_flat()\n",
    "    sleep(1/10)\n",
    "        "
   ]
  },
  {
   "cell_type": "code",
   "execution_count": null,
   "metadata": {},
   "outputs": [],
   "source": []
  }
 ],
 "metadata": {
  "kernelspec": {
   "display_name": "Python 3",
   "language": "python",
   "name": "python3"
  },
  "language_info": {
   "codemirror_mode": {
    "name": "ipython",
    "version": 3
   },
   "file_extension": ".py",
   "mimetype": "text/x-python",
   "name": "python",
   "nbconvert_exporter": "python",
   "pygments_lexer": "ipython3",
   "version": "3.7.4"
  }
 },
 "nbformat": 4,
 "nbformat_minor": 4
}
